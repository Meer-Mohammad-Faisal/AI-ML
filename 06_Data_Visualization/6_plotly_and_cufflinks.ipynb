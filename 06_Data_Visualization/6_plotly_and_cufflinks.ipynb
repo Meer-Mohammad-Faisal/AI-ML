{
 "cells": [
  {
   "cell_type": "code",
   "execution_count": 26,
   "id": "10059553",
   "metadata": {},
   "outputs": [
    {
     "name": "stdout",
     "output_type": "stream",
     "text": [
      "Requirement already satisfied: plotly in c:\\users\\asus\\appdata\\local\\programs\\python\\python313\\lib\\site-packages (5.18.0)\n",
      "Requirement already satisfied: tenacity>=6.2.0 in c:\\users\\asus\\appdata\\local\\programs\\python\\python313\\lib\\site-packages (from plotly) (9.1.2)\n",
      "Requirement already satisfied: packaging in c:\\users\\asus\\appdata\\roaming\\python\\python313\\site-packages (from plotly) (25.0)\n"
     ]
    },
    {
     "name": "stderr",
     "output_type": "stream",
     "text": [
      "WARNING: Ignoring invalid distribution ~lotly (C:\\Users\\ASUS\\AppData\\Local\\Programs\\Python\\Python313\\Lib\\site-packages)\n",
      "WARNING: Ignoring invalid distribution ~lotly (C:\\Users\\ASUS\\AppData\\Local\\Programs\\Python\\Python313\\Lib\\site-packages)\n",
      "WARNING: Ignoring invalid distribution ~lotly (C:\\Users\\ASUS\\AppData\\Local\\Programs\\Python\\Python313\\Lib\\site-packages)\n"
     ]
    }
   ],
   "source": [
    "!pip install plotly"
   ]
  },
  {
   "cell_type": "code",
   "execution_count": 27,
   "id": "34b1dd1c",
   "metadata": {},
   "outputs": [
    {
     "name": "stdout",
     "output_type": "stream",
     "text": [
      "Requirement already satisfied: cufflinks in c:\\users\\asus\\appdata\\local\\programs\\python\\python313\\lib\\site-packages (0.17.3)\n",
      "Requirement already satisfied: numpy>=1.9.2 in c:\\users\\asus\\appdata\\local\\programs\\python\\python313\\lib\\site-packages (from cufflinks) (2.3.3)\n",
      "Requirement already satisfied: pandas>=0.19.2 in c:\\users\\asus\\appdata\\local\\programs\\python\\python313\\lib\\site-packages (from cufflinks) (2.3.3)\n",
      "Requirement already satisfied: plotly>=4.1.1 in c:\\users\\asus\\appdata\\local\\programs\\python\\python313\\lib\\site-packages (from cufflinks) (5.18.0)\n",
      "Requirement already satisfied: six>=1.9.0 in c:\\users\\asus\\appdata\\roaming\\python\\python313\\site-packages (from cufflinks) (1.17.0)\n",
      "Requirement already satisfied: colorlover>=0.2.1 in c:\\users\\asus\\appdata\\local\\programs\\python\\python313\\lib\\site-packages (from cufflinks) (0.3.0)\n",
      "Requirement already satisfied: setuptools>=34.4.1 in c:\\users\\asus\\appdata\\local\\programs\\python\\python313\\lib\\site-packages (from cufflinks) (80.9.0)\n",
      "Requirement already satisfied: ipython>=5.3.0 in c:\\users\\asus\\appdata\\roaming\\python\\python313\\site-packages (from cufflinks) (9.6.0)\n",
      "Requirement already satisfied: ipywidgets>=7.0.0 in c:\\users\\asus\\appdata\\local\\programs\\python\\python313\\lib\\site-packages (from cufflinks) (8.1.7)\n",
      "Requirement already satisfied: colorama in c:\\users\\asus\\appdata\\roaming\\python\\python313\\site-packages (from ipython>=5.3.0->cufflinks) (0.4.6)\n",
      "Requirement already satisfied: decorator in c:\\users\\asus\\appdata\\roaming\\python\\python313\\site-packages (from ipython>=5.3.0->cufflinks) (5.2.1)\n",
      "Requirement already satisfied: ipython-pygments-lexers in c:\\users\\asus\\appdata\\roaming\\python\\python313\\site-packages (from ipython>=5.3.0->cufflinks) (1.1.1)\n",
      "Requirement already satisfied: jedi>=0.16 in c:\\users\\asus\\appdata\\roaming\\python\\python313\\site-packages (from ipython>=5.3.0->cufflinks) (0.19.2)\n",
      "Requirement already satisfied: matplotlib-inline in c:\\users\\asus\\appdata\\roaming\\python\\python313\\site-packages (from ipython>=5.3.0->cufflinks) (0.1.7)\n",
      "Requirement already satisfied: prompt_toolkit<3.1.0,>=3.0.41 in c:\\users\\asus\\appdata\\roaming\\python\\python313\\site-packages (from ipython>=5.3.0->cufflinks) (3.0.52)\n",
      "Requirement already satisfied: pygments>=2.4.0 in c:\\users\\asus\\appdata\\roaming\\python\\python313\\site-packages (from ipython>=5.3.0->cufflinks) (2.19.2)\n",
      "Requirement already satisfied: stack_data in c:\\users\\asus\\appdata\\roaming\\python\\python313\\site-packages (from ipython>=5.3.0->cufflinks) (0.6.3)\n",
      "Requirement already satisfied: traitlets>=5.13.0 in c:\\users\\asus\\appdata\\roaming\\python\\python313\\site-packages (from ipython>=5.3.0->cufflinks) (5.14.3)\n",
      "Requirement already satisfied: wcwidth in c:\\users\\asus\\appdata\\roaming\\python\\python313\\site-packages (from prompt_toolkit<3.1.0,>=3.0.41->ipython>=5.3.0->cufflinks) (0.2.14)\n",
      "Requirement already satisfied: comm>=0.1.3 in c:\\users\\asus\\appdata\\roaming\\python\\python313\\site-packages (from ipywidgets>=7.0.0->cufflinks) (0.2.3)\n",
      "Requirement already satisfied: widgetsnbextension~=4.0.14 in c:\\users\\asus\\appdata\\local\\programs\\python\\python313\\lib\\site-packages (from ipywidgets>=7.0.0->cufflinks) (4.0.14)\n",
      "Requirement already satisfied: jupyterlab_widgets~=3.0.15 in c:\\users\\asus\\appdata\\local\\programs\\python\\python313\\lib\\site-packages (from ipywidgets>=7.0.0->cufflinks) (3.0.15)\n",
      "Requirement already satisfied: parso<0.9.0,>=0.8.4 in c:\\users\\asus\\appdata\\roaming\\python\\python313\\site-packages (from jedi>=0.16->ipython>=5.3.0->cufflinks) (0.8.5)\n",
      "Requirement already satisfied: python-dateutil>=2.8.2 in c:\\users\\asus\\appdata\\roaming\\python\\python313\\site-packages (from pandas>=0.19.2->cufflinks) (2.9.0.post0)\n",
      "Requirement already satisfied: pytz>=2020.1 in c:\\users\\asus\\appdata\\local\\programs\\python\\python313\\lib\\site-packages (from pandas>=0.19.2->cufflinks) (2025.2)\n",
      "Requirement already satisfied: tzdata>=2022.7 in c:\\users\\asus\\appdata\\local\\programs\\python\\python313\\lib\\site-packages (from pandas>=0.19.2->cufflinks) (2025.2)\n",
      "Requirement already satisfied: tenacity>=6.2.0 in c:\\users\\asus\\appdata\\local\\programs\\python\\python313\\lib\\site-packages (from plotly>=4.1.1->cufflinks) (9.1.2)\n",
      "Requirement already satisfied: packaging in c:\\users\\asus\\appdata\\roaming\\python\\python313\\site-packages (from plotly>=4.1.1->cufflinks) (25.0)\n",
      "Requirement already satisfied: executing>=1.2.0 in c:\\users\\asus\\appdata\\roaming\\python\\python313\\site-packages (from stack_data->ipython>=5.3.0->cufflinks) (2.2.1)\n",
      "Requirement already satisfied: asttokens>=2.1.0 in c:\\users\\asus\\appdata\\roaming\\python\\python313\\site-packages (from stack_data->ipython>=5.3.0->cufflinks) (3.0.0)\n",
      "Requirement already satisfied: pure-eval in c:\\users\\asus\\appdata\\roaming\\python\\python313\\site-packages (from stack_data->ipython>=5.3.0->cufflinks) (0.2.3)\n"
     ]
    },
    {
     "name": "stderr",
     "output_type": "stream",
     "text": [
      "WARNING: Ignoring invalid distribution ~lotly (C:\\Users\\ASUS\\AppData\\Local\\Programs\\Python\\Python313\\Lib\\site-packages)\n",
      "WARNING: Ignoring invalid distribution ~lotly (C:\\Users\\ASUS\\AppData\\Local\\Programs\\Python\\Python313\\Lib\\site-packages)\n",
      "WARNING: Ignoring invalid distribution ~lotly (C:\\Users\\ASUS\\AppData\\Local\\Programs\\Python\\Python313\\Lib\\site-packages)\n"
     ]
    }
   ],
   "source": [
    "!pip install cufflinks"
   ]
  },
  {
   "cell_type": "code",
   "execution_count": 28,
   "id": "9ac15c47",
   "metadata": {},
   "outputs": [],
   "source": [
    "# cullfinks connect plotly with pandas"
   ]
  },
  {
   "cell_type": "code",
   "execution_count": null,
   "id": "8a66878a",
   "metadata": {},
   "outputs": [
    {
     "data": {
      "text/html": [
       "        <script type=\"text/javascript\">\n",
       "        window.PlotlyConfig = {MathJaxConfig: 'local'};\n",
       "        if (window.MathJax && window.MathJax.Hub && window.MathJax.Hub.Config) {window.MathJax.Hub.Config({SVG: {font: \"STIX-Web\"}});}\n",
       "        </script>\n",
       "        <script type=\"module\">import \"https://cdn.plot.ly/plotly-3.1.1.min\"</script>\n",
       "        "
      ]
     },
     "metadata": {},
     "output_type": "display_data"
    },
    {
     "data": {
      "text/html": [
       "        <script type=\"text/javascript\">\n",
       "        window.PlotlyConfig = {MathJaxConfig: 'local'};\n",
       "        if (window.MathJax && window.MathJax.Hub && window.MathJax.Hub.Config) {window.MathJax.Hub.Config({SVG: {font: \"STIX-Web\"}});}\n",
       "        </script>\n",
       "        <script type=\"module\">import \"https://cdn.plot.ly/plotly-3.1.1.min\"</script>\n",
       "        "
      ]
     },
     "metadata": {},
     "output_type": "display_data"
    }
   ],
   "source": [
    "import seaborn as sns\n",
    "import pandas as pd\n",
    "import cufflinks as cf\n",
    "from plotly.offline import iplot"
   ]
  },
  {
   "cell_type": "code",
   "execution_count": 42,
   "id": "927b2acc",
   "metadata": {},
   "outputs": [
    {
     "data": {
      "application/vnd.microsoft.datawrangler.viewer.v0+json": {
       "columns": [
        {
         "name": "index",
         "rawType": "int64",
         "type": "integer"
        },
        {
         "name": "total_bill",
         "rawType": "float64",
         "type": "float"
        },
        {
         "name": "tip",
         "rawType": "float64",
         "type": "float"
        },
        {
         "name": "sex",
         "rawType": "category",
         "type": "unknown"
        },
        {
         "name": "smoker",
         "rawType": "category",
         "type": "unknown"
        },
        {
         "name": "day",
         "rawType": "category",
         "type": "unknown"
        },
        {
         "name": "time",
         "rawType": "category",
         "type": "unknown"
        },
        {
         "name": "size",
         "rawType": "int64",
         "type": "integer"
        }
       ],
       "ref": "d6168e9a-913a-4fb4-ab16-2c13a5ed9c1c",
       "rows": [
        [
         "0",
         "16.99",
         "1.01",
         "Female",
         "No",
         "Sun",
         "Dinner",
         "2"
        ],
        [
         "1",
         "10.34",
         "1.66",
         "Male",
         "No",
         "Sun",
         "Dinner",
         "3"
        ],
        [
         "2",
         "21.01",
         "3.5",
         "Male",
         "No",
         "Sun",
         "Dinner",
         "3"
        ],
        [
         "3",
         "23.68",
         "3.31",
         "Male",
         "No",
         "Sun",
         "Dinner",
         "2"
        ],
        [
         "4",
         "24.59",
         "3.61",
         "Female",
         "No",
         "Sun",
         "Dinner",
         "4"
        ],
        [
         "5",
         "25.29",
         "4.71",
         "Male",
         "No",
         "Sun",
         "Dinner",
         "4"
        ],
        [
         "6",
         "8.77",
         "2.0",
         "Male",
         "No",
         "Sun",
         "Dinner",
         "2"
        ],
        [
         "7",
         "26.88",
         "3.12",
         "Male",
         "No",
         "Sun",
         "Dinner",
         "4"
        ],
        [
         "8",
         "15.04",
         "1.96",
         "Male",
         "No",
         "Sun",
         "Dinner",
         "2"
        ],
        [
         "9",
         "14.78",
         "3.23",
         "Male",
         "No",
         "Sun",
         "Dinner",
         "2"
        ],
        [
         "10",
         "10.27",
         "1.71",
         "Male",
         "No",
         "Sun",
         "Dinner",
         "2"
        ],
        [
         "11",
         "35.26",
         "5.0",
         "Female",
         "No",
         "Sun",
         "Dinner",
         "4"
        ],
        [
         "12",
         "15.42",
         "1.57",
         "Male",
         "No",
         "Sun",
         "Dinner",
         "2"
        ],
        [
         "13",
         "18.43",
         "3.0",
         "Male",
         "No",
         "Sun",
         "Dinner",
         "4"
        ],
        [
         "14",
         "14.83",
         "3.02",
         "Female",
         "No",
         "Sun",
         "Dinner",
         "2"
        ],
        [
         "15",
         "21.58",
         "3.92",
         "Male",
         "No",
         "Sun",
         "Dinner",
         "2"
        ],
        [
         "16",
         "10.33",
         "1.67",
         "Female",
         "No",
         "Sun",
         "Dinner",
         "3"
        ],
        [
         "17",
         "16.29",
         "3.71",
         "Male",
         "No",
         "Sun",
         "Dinner",
         "3"
        ],
        [
         "18",
         "16.97",
         "3.5",
         "Female",
         "No",
         "Sun",
         "Dinner",
         "3"
        ],
        [
         "19",
         "20.65",
         "3.35",
         "Male",
         "No",
         "Sat",
         "Dinner",
         "3"
        ],
        [
         "20",
         "17.92",
         "4.08",
         "Male",
         "No",
         "Sat",
         "Dinner",
         "2"
        ],
        [
         "21",
         "20.29",
         "2.75",
         "Female",
         "No",
         "Sat",
         "Dinner",
         "2"
        ],
        [
         "22",
         "15.77",
         "2.23",
         "Female",
         "No",
         "Sat",
         "Dinner",
         "2"
        ],
        [
         "23",
         "39.42",
         "7.58",
         "Male",
         "No",
         "Sat",
         "Dinner",
         "4"
        ],
        [
         "24",
         "19.82",
         "3.18",
         "Male",
         "No",
         "Sat",
         "Dinner",
         "2"
        ],
        [
         "25",
         "17.81",
         "2.34",
         "Male",
         "No",
         "Sat",
         "Dinner",
         "4"
        ],
        [
         "26",
         "13.37",
         "2.0",
         "Male",
         "No",
         "Sat",
         "Dinner",
         "2"
        ],
        [
         "27",
         "12.69",
         "2.0",
         "Male",
         "No",
         "Sat",
         "Dinner",
         "2"
        ],
        [
         "28",
         "21.7",
         "4.3",
         "Male",
         "No",
         "Sat",
         "Dinner",
         "2"
        ],
        [
         "29",
         "19.65",
         "3.0",
         "Female",
         "No",
         "Sat",
         "Dinner",
         "2"
        ],
        [
         "30",
         "9.55",
         "1.45",
         "Male",
         "No",
         "Sat",
         "Dinner",
         "2"
        ],
        [
         "31",
         "18.35",
         "2.5",
         "Male",
         "No",
         "Sat",
         "Dinner",
         "4"
        ],
        [
         "32",
         "15.06",
         "3.0",
         "Female",
         "No",
         "Sat",
         "Dinner",
         "2"
        ],
        [
         "33",
         "20.69",
         "2.45",
         "Female",
         "No",
         "Sat",
         "Dinner",
         "4"
        ],
        [
         "34",
         "17.78",
         "3.27",
         "Male",
         "No",
         "Sat",
         "Dinner",
         "2"
        ],
        [
         "35",
         "24.06",
         "3.6",
         "Male",
         "No",
         "Sat",
         "Dinner",
         "3"
        ],
        [
         "36",
         "16.31",
         "2.0",
         "Male",
         "No",
         "Sat",
         "Dinner",
         "3"
        ],
        [
         "37",
         "16.93",
         "3.07",
         "Female",
         "No",
         "Sat",
         "Dinner",
         "3"
        ],
        [
         "38",
         "18.69",
         "2.31",
         "Male",
         "No",
         "Sat",
         "Dinner",
         "3"
        ],
        [
         "39",
         "31.27",
         "5.0",
         "Male",
         "No",
         "Sat",
         "Dinner",
         "3"
        ],
        [
         "40",
         "16.04",
         "2.24",
         "Male",
         "No",
         "Sat",
         "Dinner",
         "3"
        ],
        [
         "41",
         "17.46",
         "2.54",
         "Male",
         "No",
         "Sun",
         "Dinner",
         "2"
        ],
        [
         "42",
         "13.94",
         "3.06",
         "Male",
         "No",
         "Sun",
         "Dinner",
         "2"
        ],
        [
         "43",
         "9.68",
         "1.32",
         "Male",
         "No",
         "Sun",
         "Dinner",
         "2"
        ],
        [
         "44",
         "30.4",
         "5.6",
         "Male",
         "No",
         "Sun",
         "Dinner",
         "4"
        ],
        [
         "45",
         "18.29",
         "3.0",
         "Male",
         "No",
         "Sun",
         "Dinner",
         "2"
        ],
        [
         "46",
         "22.23",
         "5.0",
         "Male",
         "No",
         "Sun",
         "Dinner",
         "2"
        ],
        [
         "47",
         "32.4",
         "6.0",
         "Male",
         "No",
         "Sun",
         "Dinner",
         "4"
        ],
        [
         "48",
         "28.55",
         "2.05",
         "Male",
         "No",
         "Sun",
         "Dinner",
         "3"
        ],
        [
         "49",
         "18.04",
         "3.0",
         "Male",
         "No",
         "Sun",
         "Dinner",
         "2"
        ]
       ],
       "shape": {
        "columns": 7,
        "rows": 244
       }
      },
      "text/html": [
       "<div>\n",
       "<style scoped>\n",
       "    .dataframe tbody tr th:only-of-type {\n",
       "        vertical-align: middle;\n",
       "    }\n",
       "\n",
       "    .dataframe tbody tr th {\n",
       "        vertical-align: top;\n",
       "    }\n",
       "\n",
       "    .dataframe thead th {\n",
       "        text-align: right;\n",
       "    }\n",
       "</style>\n",
       "<table border=\"1\" class=\"dataframe\">\n",
       "  <thead>\n",
       "    <tr style=\"text-align: right;\">\n",
       "      <th></th>\n",
       "      <th>total_bill</th>\n",
       "      <th>tip</th>\n",
       "      <th>sex</th>\n",
       "      <th>smoker</th>\n",
       "      <th>day</th>\n",
       "      <th>time</th>\n",
       "      <th>size</th>\n",
       "    </tr>\n",
       "  </thead>\n",
       "  <tbody>\n",
       "    <tr>\n",
       "      <th>0</th>\n",
       "      <td>16.99</td>\n",
       "      <td>1.01</td>\n",
       "      <td>Female</td>\n",
       "      <td>No</td>\n",
       "      <td>Sun</td>\n",
       "      <td>Dinner</td>\n",
       "      <td>2</td>\n",
       "    </tr>\n",
       "    <tr>\n",
       "      <th>1</th>\n",
       "      <td>10.34</td>\n",
       "      <td>1.66</td>\n",
       "      <td>Male</td>\n",
       "      <td>No</td>\n",
       "      <td>Sun</td>\n",
       "      <td>Dinner</td>\n",
       "      <td>3</td>\n",
       "    </tr>\n",
       "    <tr>\n",
       "      <th>2</th>\n",
       "      <td>21.01</td>\n",
       "      <td>3.50</td>\n",
       "      <td>Male</td>\n",
       "      <td>No</td>\n",
       "      <td>Sun</td>\n",
       "      <td>Dinner</td>\n",
       "      <td>3</td>\n",
       "    </tr>\n",
       "    <tr>\n",
       "      <th>3</th>\n",
       "      <td>23.68</td>\n",
       "      <td>3.31</td>\n",
       "      <td>Male</td>\n",
       "      <td>No</td>\n",
       "      <td>Sun</td>\n",
       "      <td>Dinner</td>\n",
       "      <td>2</td>\n",
       "    </tr>\n",
       "    <tr>\n",
       "      <th>4</th>\n",
       "      <td>24.59</td>\n",
       "      <td>3.61</td>\n",
       "      <td>Female</td>\n",
       "      <td>No</td>\n",
       "      <td>Sun</td>\n",
       "      <td>Dinner</td>\n",
       "      <td>4</td>\n",
       "    </tr>\n",
       "    <tr>\n",
       "      <th>...</th>\n",
       "      <td>...</td>\n",
       "      <td>...</td>\n",
       "      <td>...</td>\n",
       "      <td>...</td>\n",
       "      <td>...</td>\n",
       "      <td>...</td>\n",
       "      <td>...</td>\n",
       "    </tr>\n",
       "    <tr>\n",
       "      <th>239</th>\n",
       "      <td>29.03</td>\n",
       "      <td>5.92</td>\n",
       "      <td>Male</td>\n",
       "      <td>No</td>\n",
       "      <td>Sat</td>\n",
       "      <td>Dinner</td>\n",
       "      <td>3</td>\n",
       "    </tr>\n",
       "    <tr>\n",
       "      <th>240</th>\n",
       "      <td>27.18</td>\n",
       "      <td>2.00</td>\n",
       "      <td>Female</td>\n",
       "      <td>Yes</td>\n",
       "      <td>Sat</td>\n",
       "      <td>Dinner</td>\n",
       "      <td>2</td>\n",
       "    </tr>\n",
       "    <tr>\n",
       "      <th>241</th>\n",
       "      <td>22.67</td>\n",
       "      <td>2.00</td>\n",
       "      <td>Male</td>\n",
       "      <td>Yes</td>\n",
       "      <td>Sat</td>\n",
       "      <td>Dinner</td>\n",
       "      <td>2</td>\n",
       "    </tr>\n",
       "    <tr>\n",
       "      <th>242</th>\n",
       "      <td>17.82</td>\n",
       "      <td>1.75</td>\n",
       "      <td>Male</td>\n",
       "      <td>No</td>\n",
       "      <td>Sat</td>\n",
       "      <td>Dinner</td>\n",
       "      <td>2</td>\n",
       "    </tr>\n",
       "    <tr>\n",
       "      <th>243</th>\n",
       "      <td>18.78</td>\n",
       "      <td>3.00</td>\n",
       "      <td>Female</td>\n",
       "      <td>No</td>\n",
       "      <td>Thur</td>\n",
       "      <td>Dinner</td>\n",
       "      <td>2</td>\n",
       "    </tr>\n",
       "  </tbody>\n",
       "</table>\n",
       "<p>244 rows × 7 columns</p>\n",
       "</div>"
      ],
      "text/plain": [
       "     total_bill   tip     sex smoker   day    time  size\n",
       "0         16.99  1.01  Female     No   Sun  Dinner     2\n",
       "1         10.34  1.66    Male     No   Sun  Dinner     3\n",
       "2         21.01  3.50    Male     No   Sun  Dinner     3\n",
       "3         23.68  3.31    Male     No   Sun  Dinner     2\n",
       "4         24.59  3.61  Female     No   Sun  Dinner     4\n",
       "..          ...   ...     ...    ...   ...     ...   ...\n",
       "239       29.03  5.92    Male     No   Sat  Dinner     3\n",
       "240       27.18  2.00  Female    Yes   Sat  Dinner     2\n",
       "241       22.67  2.00    Male    Yes   Sat  Dinner     2\n",
       "242       17.82  1.75    Male     No   Sat  Dinner     2\n",
       "243       18.78  3.00  Female     No  Thur  Dinner     2\n",
       "\n",
       "[244 rows x 7 columns]"
      ]
     },
     "execution_count": 42,
     "metadata": {},
     "output_type": "execute_result"
    }
   ],
   "source": [
    "tips = sns.load_dataset('tips')\n",
    "tips"
   ]
  },
  {
   "cell_type": "code",
   "execution_count": 43,
   "id": "b1b64a4d",
   "metadata": {},
   "outputs": [
    {
     "data": {
      "application/vnd.microsoft.datawrangler.viewer.v0+json": {
       "columns": [
        {
         "name": "index",
         "rawType": "int64",
         "type": "integer"
        },
        {
         "name": "total_bill",
         "rawType": "float64",
         "type": "float"
        }
       ],
       "ref": "f1f04b73-bb0e-46f7-9268-8cb16154d997",
       "rows": [
        [
         "0",
         "16.99"
        ],
        [
         "1",
         "10.34"
        ],
        [
         "2",
         "21.01"
        ],
        [
         "3",
         "23.68"
        ],
        [
         "4",
         "24.59"
        ],
        [
         "5",
         "25.29"
        ],
        [
         "6",
         "8.77"
        ],
        [
         "7",
         "26.88"
        ],
        [
         "8",
         "15.04"
        ],
        [
         "9",
         "14.78"
        ],
        [
         "10",
         "10.27"
        ],
        [
         "11",
         "35.26"
        ],
        [
         "12",
         "15.42"
        ],
        [
         "13",
         "18.43"
        ],
        [
         "14",
         "14.83"
        ],
        [
         "15",
         "21.58"
        ],
        [
         "16",
         "10.33"
        ],
        [
         "17",
         "16.29"
        ],
        [
         "18",
         "16.97"
        ],
        [
         "19",
         "20.65"
        ],
        [
         "20",
         "17.92"
        ],
        [
         "21",
         "20.29"
        ],
        [
         "22",
         "15.77"
        ],
        [
         "23",
         "39.42"
        ],
        [
         "24",
         "19.82"
        ],
        [
         "25",
         "17.81"
        ],
        [
         "26",
         "13.37"
        ],
        [
         "27",
         "12.69"
        ],
        [
         "28",
         "21.7"
        ],
        [
         "29",
         "19.65"
        ],
        [
         "30",
         "9.55"
        ],
        [
         "31",
         "18.35"
        ],
        [
         "32",
         "15.06"
        ],
        [
         "33",
         "20.69"
        ],
        [
         "34",
         "17.78"
        ],
        [
         "35",
         "24.06"
        ],
        [
         "36",
         "16.31"
        ],
        [
         "37",
         "16.93"
        ],
        [
         "38",
         "18.69"
        ],
        [
         "39",
         "31.27"
        ],
        [
         "40",
         "16.04"
        ],
        [
         "41",
         "17.46"
        ],
        [
         "42",
         "13.94"
        ],
        [
         "43",
         "9.68"
        ],
        [
         "44",
         "30.4"
        ],
        [
         "45",
         "18.29"
        ],
        [
         "46",
         "22.23"
        ],
        [
         "47",
         "32.4"
        ],
        [
         "48",
         "28.55"
        ],
        [
         "49",
         "18.04"
        ]
       ],
       "shape": {
        "columns": 1,
        "rows": 244
       }
      },
      "text/plain": [
       "0      16.99\n",
       "1      10.34\n",
       "2      21.01\n",
       "3      23.68\n",
       "4      24.59\n",
       "       ...  \n",
       "239    29.03\n",
       "240    27.18\n",
       "241    22.67\n",
       "242    17.82\n",
       "243    18.78\n",
       "Name: total_bill, Length: 244, dtype: float64"
      ]
     },
     "execution_count": 43,
     "metadata": {},
     "output_type": "execute_result"
    }
   ],
   "source": [
    "tips['total_bill']\n",
    "#tips['total_bill'].iplot() why error?"
   ]
  },
  {
   "cell_type": "code",
   "execution_count": 45,
   "id": "994ff742",
   "metadata": {},
   "outputs": [
    {
     "name": "stderr",
     "output_type": "stream",
     "text": [
      "C:\\Users\\ASUS\\AppData\\Local\\Temp\\ipykernel_3144\\3689331709.py:1: FutureWarning:\n",
      "\n",
      "The default of observed=False is deprecated and will be changed to True in a future version of pandas. Pass observed=False to retain current behavior or observed=True to adopt the future default and silence this warning.\n",
      "\n"
     ]
    },
    {
     "ename": "AttributeError",
     "evalue": "'Series' object has no attribute 'init_notebook_mode'",
     "output_type": "error",
     "traceback": [
      "\u001b[31m---------------------------------------------------------------------------\u001b[39m",
      "\u001b[31mAttributeError\u001b[39m                            Traceback (most recent call last)",
      "\u001b[32m~\\AppData\\Local\\Temp\\ipykernel_3144\\3689331709.py\u001b[39m in \u001b[36m?\u001b[39m\u001b[34m()\u001b[39m\n\u001b[32m----> \u001b[39m\u001b[32m1\u001b[39m tips.groupby(\u001b[33m'day'\u001b[39m)[\u001b[33m'tip'\u001b[39m].mean().init_notebook_mode()\n",
      "\u001b[32mc:\\Users\\ASUS\\AppData\\Local\\Programs\\Python\\Python313\\Lib\\site-packages\\pandas\\core\\generic.py\u001b[39m in \u001b[36m?\u001b[39m\u001b[34m(self, name)\u001b[39m\n\u001b[32m   6317\u001b[39m             \u001b[38;5;28;01mand\u001b[39;00m name \u001b[38;5;28;01mnot\u001b[39;00m \u001b[38;5;28;01min\u001b[39;00m self._accessors\n\u001b[32m   6318\u001b[39m             \u001b[38;5;28;01mand\u001b[39;00m self._info_axis._can_hold_identifiers_and_holds_name(name)\n\u001b[32m   6319\u001b[39m         ):\n\u001b[32m   6320\u001b[39m             \u001b[38;5;28;01mreturn\u001b[39;00m self[name]\n\u001b[32m-> \u001b[39m\u001b[32m6321\u001b[39m         \u001b[38;5;28;01mreturn\u001b[39;00m object.__getattribute__(self, name)\n",
      "\u001b[31mAttributeError\u001b[39m: 'Series' object has no attribute 'init_notebook_mode'"
     ]
    }
   ],
   "source": [
    "tips.groupby('day')['tip'].mean().init_notebook_mode()"
   ]
  },
  {
   "cell_type": "code",
   "execution_count": null,
   "id": "3b97c18c",
   "metadata": {},
   "outputs": [
    {
     "ename": "ValueError",
     "evalue": "\n    Invalid value of type 'builtins.str' received for the 'color' property of scatter.line\n        Received value: 'rgba(255, 153, 51, np.float64(1.0))'\n\n    The 'color' property is a color and may be specified as:\n      - A hex string (e.g. '#ff0000')\n      - An rgb/rgba string (e.g. 'rgb(255,0,0)')\n      - An hsl/hsla string (e.g. 'hsl(0,100%,50%)')\n      - An hsv/hsva string (e.g. 'hsv(0,100%,100%)')\n      - A named CSS color: see https://plotly.com/python/css-colors/ for a list",
     "output_type": "error",
     "traceback": [
      "\u001b[31m---------------------------------------------------------------------------\u001b[39m",
      "\u001b[31mValueError\u001b[39m                                Traceback (most recent call last)",
      "\u001b[36mCell\u001b[39m\u001b[36m \u001b[39m\u001b[32mIn[37]\u001b[39m\u001b[32m, line 1\u001b[39m\n\u001b[32m----> \u001b[39m\u001b[32m1\u001b[39m \u001b[43mtips\u001b[49m\u001b[43m.\u001b[49m\u001b[43miplot\u001b[49m\u001b[43m(\u001b[49m\u001b[43mkind\u001b[49m\u001b[43m=\u001b[49m\u001b[33;43m'\u001b[39;49m\u001b[33;43mscatter\u001b[39;49m\u001b[33;43m'\u001b[39;49m\u001b[43m,\u001b[49m\u001b[43m \u001b[49m\u001b[43mx\u001b[49m\u001b[43m \u001b[49m\u001b[43m=\u001b[49m\u001b[43m \u001b[49m\u001b[33;43m'\u001b[39;49m\u001b[33;43mtotal_bill\u001b[39;49m\u001b[33;43m'\u001b[39;49m\u001b[43m,\u001b[49m\u001b[43m \u001b[49m\u001b[43my\u001b[49m\u001b[43m \u001b[49m\u001b[43m=\u001b[49m\u001b[43m \u001b[49m\u001b[33;43m'\u001b[39;49m\u001b[33;43mtip\u001b[39;49m\u001b[33;43m'\u001b[39;49m\u001b[43m,\u001b[49m\u001b[43m \u001b[49m\u001b[43mmode\u001b[49m\u001b[43m \u001b[49m\u001b[43m=\u001b[49m\u001b[43m \u001b[49m\u001b[33;43m'\u001b[39;49m\u001b[33;43mmarkers\u001b[39;49m\u001b[33;43m'\u001b[39;49m\u001b[43m)\u001b[49m\n",
      "\u001b[36mFile \u001b[39m\u001b[32mc:\\Users\\ASUS\\AppData\\Local\\Programs\\Python\\Python313\\Lib\\site-packages\\cufflinks\\plotlytools.py:839\u001b[39m, in \u001b[36m_iplot\u001b[39m\u001b[34m(self, kind, data, layout, filename, sharing, title, xTitle, yTitle, zTitle, theme, colors, colorscale, fill, width, dash, mode, interpolation, symbol, size, barmode, sortbars, bargap, bargroupgap, bins, histnorm, histfunc, orientation, boxpoints, annotations, keys, bestfit, bestfit_colors, mean, mean_colors, categories, x, y, z, text, gridcolor, zerolinecolor, margin, labels, values, secondary_y, secondary_y_title, subplots, shape, error_x, error_y, error_type, locations, lon, lat, asFrame, asDates, asFigure, asImage, dimensions, asPlot, asUrl, online, **kwargs)\u001b[39m\n\u001b[32m    837\u001b[39m \t\u001b[38;5;28;01mif\u001b[39;00m \u001b[38;5;129;01mnot\u001b[39;00m \u001b[38;5;28misinstance\u001b[39m(text,\u001b[38;5;28mlist\u001b[39m):\n\u001b[32m    838\u001b[39m \t\ttext=\u001b[38;5;28mself\u001b[39m[text].values\n\u001b[32m--> \u001b[39m\u001b[32m839\u001b[39m data=\u001b[43mdf\u001b[49m\u001b[43m.\u001b[49m\u001b[43mto_iplot\u001b[49m\u001b[43m(\u001b[49m\u001b[43mcolors\u001b[49m\u001b[43m=\u001b[49m\u001b[43mcolors\u001b[49m\u001b[43m,\u001b[49m\u001b[43mcolorscale\u001b[49m\u001b[43m=\u001b[49m\u001b[43mcolorscale\u001b[49m\u001b[43m,\u001b[49m\u001b[43mkind\u001b[49m\u001b[43m=\u001b[49m\u001b[43mkind\u001b[49m\u001b[43m,\u001b[49m\u001b[43minterpolation\u001b[49m\u001b[43m=\u001b[49m\u001b[43minterpolation\u001b[49m\u001b[43m,\u001b[49m\u001b[43mfill\u001b[49m\u001b[43m=\u001b[49m\u001b[43mfill\u001b[49m\u001b[43m,\u001b[49m\u001b[43mwidth\u001b[49m\u001b[43m=\u001b[49m\u001b[43mwidth\u001b[49m\u001b[43m,\u001b[49m\u001b[43mdash\u001b[49m\u001b[43m=\u001b[49m\u001b[43mdash\u001b[49m\u001b[43m,\u001b[49m\u001b[43msortbars\u001b[49m\u001b[43m=\u001b[49m\u001b[43msortbars\u001b[49m\u001b[43m,\u001b[49m\u001b[43mkeys\u001b[49m\u001b[43m=\u001b[49m\u001b[43mkeys\u001b[49m\u001b[43m,\u001b[49m\n\u001b[32m    840\u001b[39m \u001b[43m\t\t\u001b[49m\u001b[43mbestfit\u001b[49m\u001b[43m=\u001b[49m\u001b[43mbestfit\u001b[49m\u001b[43m,\u001b[49m\u001b[43mbestfit_colors\u001b[49m\u001b[43m=\u001b[49m\u001b[43mbestfit_colors\u001b[49m\u001b[43m,\u001b[49m\u001b[43mmean\u001b[49m\u001b[43m=\u001b[49m\u001b[43mmean\u001b[49m\u001b[43m,\u001b[49m\u001b[43mmean_colors\u001b[49m\u001b[43m=\u001b[49m\u001b[43mmean_colors\u001b[49m\u001b[43m,\u001b[49m\u001b[43masDates\u001b[49m\u001b[43m=\u001b[49m\u001b[43masDates\u001b[49m\u001b[43m,\u001b[49m\u001b[43mmode\u001b[49m\u001b[43m=\u001b[49m\u001b[43mmode\u001b[49m\u001b[43m,\u001b[49m\u001b[43msymbol\u001b[49m\u001b[43m=\u001b[49m\u001b[43msymbol\u001b[49m\u001b[43m,\u001b[49m\u001b[43msize\u001b[49m\u001b[43m=\u001b[49m\u001b[43msize\u001b[49m\u001b[43m,\u001b[49m\n\u001b[32m    841\u001b[39m \u001b[43m\t\t\u001b[49m\u001b[43mtext\u001b[49m\u001b[43m=\u001b[49m\u001b[43mtext\u001b[49m\u001b[43m,\u001b[49m\u001b[43m*\u001b[49m\u001b[43m*\u001b[49m\u001b[43mkwargs\u001b[49m\u001b[43m)\u001b[49m\t\t\n\u001b[32m    842\u001b[39m trace_kw=check_kwargs(kwargs,TRACE_KWARGS)\n\u001b[32m    843\u001b[39m \u001b[38;5;28;01mfor\u001b[39;00m trace \u001b[38;5;129;01min\u001b[39;00m data:\n",
      "\u001b[36mFile \u001b[39m\u001b[32mc:\\Users\\ASUS\\AppData\\Local\\Programs\\Python\\Python313\\Lib\\site-packages\\cufflinks\\plotlytools.py:161\u001b[39m, in \u001b[36m_to_iplot\u001b[39m\u001b[34m(self, colors, colorscale, kind, mode, interpolation, symbol, size, fill, width, dash, sortbars, keys, bestfit, bestfit_colors, opacity, mean, mean_colors, asDates, asTimestamp, text, **kwargs)\u001b[39m\n\u001b[32m    159\u001b[39m \tlines_plotly=[Bar(lines[key]).to_plotly_json() \u001b[38;5;28;01mfor\u001b[39;00m key \u001b[38;5;129;01min\u001b[39;00m keys]\n\u001b[32m    160\u001b[39m \u001b[38;5;28;01melse\u001b[39;00m:\n\u001b[32m--> \u001b[39m\u001b[32m161\u001b[39m \tlines_plotly=[\u001b[43mScatter\u001b[49m\u001b[43m(\u001b[49m\u001b[43mlines\u001b[49m\u001b[43m[\u001b[49m\u001b[43mkey\u001b[49m\u001b[43m]\u001b[49m\u001b[43m)\u001b[49m.to_plotly_json() \u001b[38;5;28;01mfor\u001b[39;00m key \u001b[38;5;129;01min\u001b[39;00m keys]\n\u001b[32m    162\u001b[39m \u001b[38;5;28;01mfor\u001b[39;00m trace \u001b[38;5;129;01min\u001b[39;00m lines_plotly:\n\u001b[32m    163\u001b[39m \t\u001b[38;5;28;01mif\u001b[39;00m \u001b[38;5;28misinstance\u001b[39m(trace[\u001b[33m'\u001b[39m\u001b[33mname\u001b[39m\u001b[33m'\u001b[39m],pd.Timestamp):\n",
      "\u001b[36mFile \u001b[39m\u001b[32mc:\\Users\\ASUS\\AppData\\Local\\Programs\\Python\\Python313\\Lib\\site-packages\\plotly\\graph_objs\\_scatter.py:2703\u001b[39m, in \u001b[36mScatter.__init__\u001b[39m\u001b[34m(self, arg, alignmentgroup, cliponaxis, connectgaps, customdata, customdatasrc, dx, dy, error_x, error_y, fill, fillcolor, fillgradient, fillpattern, groupnorm, hoverinfo, hoverinfosrc, hoverlabel, hoveron, hovertemplate, hovertemplatesrc, hovertext, hovertextsrc, ids, idssrc, legend, legendgroup, legendgrouptitle, legendrank, legendwidth, line, marker, meta, metasrc, mode, name, offsetgroup, opacity, orientation, selected, selectedpoints, showlegend, stackgaps, stackgroup, stream, text, textfont, textposition, textpositionsrc, textsrc, texttemplate, texttemplatesrc, uid, uirevision, unselected, visible, x, x0, xaxis, xcalendar, xhoverformat, xperiod, xperiod0, xperiodalignment, xsrc, y, y0, yaxis, ycalendar, yhoverformat, yperiod, yperiod0, yperiodalignment, ysrc, zorder, **kwargs)\u001b[39m\n\u001b[32m   2701\u001b[39m \u001b[38;5;28mself\u001b[39m._set_property(\u001b[33m\"\u001b[39m\u001b[33mlegendrank\u001b[39m\u001b[33m\"\u001b[39m, arg, legendrank)\n\u001b[32m   2702\u001b[39m \u001b[38;5;28mself\u001b[39m._set_property(\u001b[33m\"\u001b[39m\u001b[33mlegendwidth\u001b[39m\u001b[33m\"\u001b[39m, arg, legendwidth)\n\u001b[32m-> \u001b[39m\u001b[32m2703\u001b[39m \u001b[38;5;28;43mself\u001b[39;49m\u001b[43m.\u001b[49m\u001b[43m_set_property\u001b[49m\u001b[43m(\u001b[49m\u001b[33;43m\"\u001b[39;49m\u001b[33;43mline\u001b[39;49m\u001b[33;43m\"\u001b[39;49m\u001b[43m,\u001b[49m\u001b[43m \u001b[49m\u001b[43marg\u001b[49m\u001b[43m,\u001b[49m\u001b[43m \u001b[49m\u001b[43mline\u001b[49m\u001b[43m)\u001b[49m\n\u001b[32m   2704\u001b[39m \u001b[38;5;28mself\u001b[39m._set_property(\u001b[33m\"\u001b[39m\u001b[33mmarker\u001b[39m\u001b[33m\"\u001b[39m, arg, marker)\n\u001b[32m   2705\u001b[39m \u001b[38;5;28mself\u001b[39m._set_property(\u001b[33m\"\u001b[39m\u001b[33mmeta\u001b[39m\u001b[33m\"\u001b[39m, arg, meta)\n",
      "\u001b[36mFile \u001b[39m\u001b[32mc:\\Users\\ASUS\\AppData\\Local\\Programs\\Python\\Python313\\Lib\\site-packages\\plotly\\basedatatypes.py:4403\u001b[39m, in \u001b[36mBasePlotlyType._set_property\u001b[39m\u001b[34m(self, name, arg, provided)\u001b[39m\n\u001b[32m   4397\u001b[39m \u001b[38;5;28;01mdef\u001b[39;00m\u001b[38;5;250m \u001b[39m\u001b[34m_set_property\u001b[39m(\u001b[38;5;28mself\u001b[39m, name, arg, provided):\n\u001b[32m   4398\u001b[39m \u001b[38;5;250m    \u001b[39m\u001b[33;03m\"\"\"\u001b[39;00m\n\u001b[32m   4399\u001b[39m \u001b[33;03m    Initialize a property of this object using the provided value\u001b[39;00m\n\u001b[32m   4400\u001b[39m \u001b[33;03m    or a value popped from the arguments dictionary. If neither\u001b[39;00m\n\u001b[32m   4401\u001b[39m \u001b[33;03m    is available, do not set the property.\u001b[39;00m\n\u001b[32m   4402\u001b[39m \u001b[33;03m    \"\"\"\u001b[39;00m\n\u001b[32m-> \u001b[39m\u001b[32m4403\u001b[39m     \u001b[43m_set_property_provided_value\u001b[49m\u001b[43m(\u001b[49m\u001b[38;5;28;43mself\u001b[39;49m\u001b[43m,\u001b[49m\u001b[43m \u001b[49m\u001b[43mname\u001b[49m\u001b[43m,\u001b[49m\u001b[43m \u001b[49m\u001b[43marg\u001b[49m\u001b[43m,\u001b[49m\u001b[43m \u001b[49m\u001b[43mprovided\u001b[49m\u001b[43m)\u001b[49m\n",
      "\u001b[36mFile \u001b[39m\u001b[32mc:\\Users\\ASUS\\AppData\\Local\\Programs\\Python\\Python313\\Lib\\site-packages\\plotly\\basedatatypes.py:398\u001b[39m, in \u001b[36m_set_property_provided_value\u001b[39m\u001b[34m(obj, name, arg, provided)\u001b[39m\n\u001b[32m    396\u001b[39m val = provided \u001b[38;5;28;01mif\u001b[39;00m provided \u001b[38;5;129;01mis\u001b[39;00m \u001b[38;5;129;01mnot\u001b[39;00m \u001b[38;5;28;01mNone\u001b[39;00m \u001b[38;5;28;01melse\u001b[39;00m val\n\u001b[32m    397\u001b[39m \u001b[38;5;28;01mif\u001b[39;00m val \u001b[38;5;129;01mis\u001b[39;00m \u001b[38;5;129;01mnot\u001b[39;00m \u001b[38;5;28;01mNone\u001b[39;00m:\n\u001b[32m--> \u001b[39m\u001b[32m398\u001b[39m     \u001b[43mobj\u001b[49m\u001b[43m[\u001b[49m\u001b[43mname\u001b[49m\u001b[43m]\u001b[49m = val\n",
      "\u001b[36mFile \u001b[39m\u001b[32mc:\\Users\\ASUS\\AppData\\Local\\Programs\\Python\\Python313\\Lib\\site-packages\\plotly\\basedatatypes.py:4924\u001b[39m, in \u001b[36mBasePlotlyType.__setitem__\u001b[39m\u001b[34m(self, prop, value)\u001b[39m\n\u001b[32m   4922\u001b[39m \u001b[38;5;66;03m# ### Handle compound property ###\u001b[39;00m\n\u001b[32m   4923\u001b[39m \u001b[38;5;28;01mif\u001b[39;00m \u001b[38;5;28misinstance\u001b[39m(validator, CompoundValidator):\n\u001b[32m-> \u001b[39m\u001b[32m4924\u001b[39m     \u001b[38;5;28;43mself\u001b[39;49m\u001b[43m.\u001b[49m\u001b[43m_set_compound_prop\u001b[49m\u001b[43m(\u001b[49m\u001b[43mprop\u001b[49m\u001b[43m,\u001b[49m\u001b[43m \u001b[49m\u001b[43mvalue\u001b[49m\u001b[43m)\u001b[49m\n\u001b[32m   4926\u001b[39m \u001b[38;5;66;03m# ### Handle compound array property ###\u001b[39;00m\n\u001b[32m   4927\u001b[39m \u001b[38;5;28;01melif\u001b[39;00m \u001b[38;5;28misinstance\u001b[39m(validator, (CompoundArrayValidator, BaseDataValidator)):\n",
      "\u001b[36mFile \u001b[39m\u001b[32mc:\\Users\\ASUS\\AppData\\Local\\Programs\\Python\\Python313\\Lib\\site-packages\\plotly\\basedatatypes.py:5335\u001b[39m, in \u001b[36mBasePlotlyType._set_compound_prop\u001b[39m\u001b[34m(self, prop, val)\u001b[39m\n\u001b[32m   5332\u001b[39m \u001b[38;5;66;03m# Import value\u001b[39;00m\n\u001b[32m   5333\u001b[39m \u001b[38;5;66;03m# ------------\u001b[39;00m\n\u001b[32m   5334\u001b[39m validator = \u001b[38;5;28mself\u001b[39m._get_validator(prop)\n\u001b[32m-> \u001b[39m\u001b[32m5335\u001b[39m val = \u001b[43mvalidator\u001b[49m\u001b[43m.\u001b[49m\u001b[43mvalidate_coerce\u001b[49m\u001b[43m(\u001b[49m\u001b[43mval\u001b[49m\u001b[43m,\u001b[49m\u001b[43m \u001b[49m\u001b[43mskip_invalid\u001b[49m\u001b[43m=\u001b[49m\u001b[38;5;28;43mself\u001b[39;49m\u001b[43m.\u001b[49m\u001b[43m_skip_invalid\u001b[49m\u001b[43m)\u001b[49m\n\u001b[32m   5337\u001b[39m \u001b[38;5;66;03m# Save deep copies of current and new states\u001b[39;00m\n\u001b[32m   5338\u001b[39m \u001b[38;5;66;03m# ------------------------------------------\u001b[39;00m\n\u001b[32m   5339\u001b[39m curr_val = \u001b[38;5;28mself\u001b[39m._compound_props.get(prop, \u001b[38;5;28;01mNone\u001b[39;00m)\n",
      "\u001b[36mFile \u001b[39m\u001b[32mc:\\Users\\ASUS\\AppData\\Local\\Programs\\Python\\Python313\\Lib\\site-packages\\_plotly_utils\\basevalidators.py:2425\u001b[39m, in \u001b[36mCompoundValidator.validate_coerce\u001b[39m\u001b[34m(self, v, skip_invalid, _validate)\u001b[39m\n\u001b[32m   2422\u001b[39m     v = \u001b[38;5;28mself\u001b[39m.data_class()\n\u001b[32m   2424\u001b[39m \u001b[38;5;28;01melif\u001b[39;00m \u001b[38;5;28misinstance\u001b[39m(v, \u001b[38;5;28mdict\u001b[39m):\n\u001b[32m-> \u001b[39m\u001b[32m2425\u001b[39m     v = \u001b[38;5;28;43mself\u001b[39;49m\u001b[43m.\u001b[49m\u001b[43mdata_class\u001b[49m\u001b[43m(\u001b[49m\u001b[43mv\u001b[49m\u001b[43m,\u001b[49m\u001b[43m \u001b[49m\u001b[43mskip_invalid\u001b[49m\u001b[43m=\u001b[49m\u001b[43mskip_invalid\u001b[49m\u001b[43m,\u001b[49m\u001b[43m \u001b[49m\u001b[43m_validate\u001b[49m\u001b[43m=\u001b[49m\u001b[43m_validate\u001b[49m\u001b[43m)\u001b[49m\n\u001b[32m   2427\u001b[39m \u001b[38;5;28;01melif\u001b[39;00m \u001b[38;5;28misinstance\u001b[39m(v, \u001b[38;5;28mself\u001b[39m.data_class):\n\u001b[32m   2428\u001b[39m     \u001b[38;5;66;03m# Copy object\u001b[39;00m\n\u001b[32m   2429\u001b[39m     v = \u001b[38;5;28mself\u001b[39m.data_class(v)\n",
      "\u001b[36mFile \u001b[39m\u001b[32mc:\\Users\\ASUS\\AppData\\Local\\Programs\\Python\\Python313\\Lib\\site-packages\\plotly\\graph_objs\\scatter\\_line.py:303\u001b[39m, in \u001b[36mLine.__init__\u001b[39m\u001b[34m(self, arg, backoff, backoffsrc, color, dash, shape, simplify, smoothing, width, **kwargs)\u001b[39m\n\u001b[32m    301\u001b[39m \u001b[38;5;28mself\u001b[39m._set_property(\u001b[33m\"\u001b[39m\u001b[33mbackoff\u001b[39m\u001b[33m\"\u001b[39m, arg, backoff)\n\u001b[32m    302\u001b[39m \u001b[38;5;28mself\u001b[39m._set_property(\u001b[33m\"\u001b[39m\u001b[33mbackoffsrc\u001b[39m\u001b[33m\"\u001b[39m, arg, backoffsrc)\n\u001b[32m--> \u001b[39m\u001b[32m303\u001b[39m \u001b[38;5;28;43mself\u001b[39;49m\u001b[43m.\u001b[49m\u001b[43m_set_property\u001b[49m\u001b[43m(\u001b[49m\u001b[33;43m\"\u001b[39;49m\u001b[33;43mcolor\u001b[39;49m\u001b[33;43m\"\u001b[39;49m\u001b[43m,\u001b[49m\u001b[43m \u001b[49m\u001b[43marg\u001b[49m\u001b[43m,\u001b[49m\u001b[43m \u001b[49m\u001b[43mcolor\u001b[49m\u001b[43m)\u001b[49m\n\u001b[32m    304\u001b[39m \u001b[38;5;28mself\u001b[39m._set_property(\u001b[33m\"\u001b[39m\u001b[33mdash\u001b[39m\u001b[33m\"\u001b[39m, arg, dash)\n\u001b[32m    305\u001b[39m \u001b[38;5;28mself\u001b[39m._set_property(\u001b[33m\"\u001b[39m\u001b[33mshape\u001b[39m\u001b[33m\"\u001b[39m, arg, shape)\n",
      "\u001b[36mFile \u001b[39m\u001b[32mc:\\Users\\ASUS\\AppData\\Local\\Programs\\Python\\Python313\\Lib\\site-packages\\plotly\\basedatatypes.py:4403\u001b[39m, in \u001b[36mBasePlotlyType._set_property\u001b[39m\u001b[34m(self, name, arg, provided)\u001b[39m\n\u001b[32m   4397\u001b[39m \u001b[38;5;28;01mdef\u001b[39;00m\u001b[38;5;250m \u001b[39m\u001b[34m_set_property\u001b[39m(\u001b[38;5;28mself\u001b[39m, name, arg, provided):\n\u001b[32m   4398\u001b[39m \u001b[38;5;250m    \u001b[39m\u001b[33;03m\"\"\"\u001b[39;00m\n\u001b[32m   4399\u001b[39m \u001b[33;03m    Initialize a property of this object using the provided value\u001b[39;00m\n\u001b[32m   4400\u001b[39m \u001b[33;03m    or a value popped from the arguments dictionary. If neither\u001b[39;00m\n\u001b[32m   4401\u001b[39m \u001b[33;03m    is available, do not set the property.\u001b[39;00m\n\u001b[32m   4402\u001b[39m \u001b[33;03m    \"\"\"\u001b[39;00m\n\u001b[32m-> \u001b[39m\u001b[32m4403\u001b[39m     \u001b[43m_set_property_provided_value\u001b[49m\u001b[43m(\u001b[49m\u001b[38;5;28;43mself\u001b[39;49m\u001b[43m,\u001b[49m\u001b[43m \u001b[49m\u001b[43mname\u001b[49m\u001b[43m,\u001b[49m\u001b[43m \u001b[49m\u001b[43marg\u001b[49m\u001b[43m,\u001b[49m\u001b[43m \u001b[49m\u001b[43mprovided\u001b[49m\u001b[43m)\u001b[49m\n",
      "\u001b[36mFile \u001b[39m\u001b[32mc:\\Users\\ASUS\\AppData\\Local\\Programs\\Python\\Python313\\Lib\\site-packages\\plotly\\basedatatypes.py:398\u001b[39m, in \u001b[36m_set_property_provided_value\u001b[39m\u001b[34m(obj, name, arg, provided)\u001b[39m\n\u001b[32m    396\u001b[39m val = provided \u001b[38;5;28;01mif\u001b[39;00m provided \u001b[38;5;129;01mis\u001b[39;00m \u001b[38;5;129;01mnot\u001b[39;00m \u001b[38;5;28;01mNone\u001b[39;00m \u001b[38;5;28;01melse\u001b[39;00m val\n\u001b[32m    397\u001b[39m \u001b[38;5;28;01mif\u001b[39;00m val \u001b[38;5;129;01mis\u001b[39;00m \u001b[38;5;129;01mnot\u001b[39;00m \u001b[38;5;28;01mNone\u001b[39;00m:\n\u001b[32m--> \u001b[39m\u001b[32m398\u001b[39m     \u001b[43mobj\u001b[49m\u001b[43m[\u001b[49m\u001b[43mname\u001b[49m\u001b[43m]\u001b[49m = val\n",
      "\u001b[36mFile \u001b[39m\u001b[32mc:\\Users\\ASUS\\AppData\\Local\\Programs\\Python\\Python313\\Lib\\site-packages\\plotly\\basedatatypes.py:4932\u001b[39m, in \u001b[36mBasePlotlyType.__setitem__\u001b[39m\u001b[34m(self, prop, value)\u001b[39m\n\u001b[32m   4928\u001b[39m         \u001b[38;5;28mself\u001b[39m._set_array_prop(prop, value)\n\u001b[32m   4930\u001b[39m     \u001b[38;5;66;03m# ### Handle simple property ###\u001b[39;00m\n\u001b[32m   4931\u001b[39m     \u001b[38;5;28;01melse\u001b[39;00m:\n\u001b[32m-> \u001b[39m\u001b[32m4932\u001b[39m         \u001b[38;5;28;43mself\u001b[39;49m\u001b[43m.\u001b[49m\u001b[43m_set_prop\u001b[49m\u001b[43m(\u001b[49m\u001b[43mprop\u001b[49m\u001b[43m,\u001b[49m\u001b[43m \u001b[49m\u001b[43mvalue\u001b[49m\u001b[43m)\u001b[49m\n\u001b[32m   4933\u001b[39m \u001b[38;5;28;01melse\u001b[39;00m:\n\u001b[32m   4934\u001b[39m     \u001b[38;5;66;03m# Make sure properties dict is initialized\u001b[39;00m\n\u001b[32m   4935\u001b[39m     \u001b[38;5;28mself\u001b[39m._init_props()\n",
      "\u001b[36mFile \u001b[39m\u001b[32mc:\\Users\\ASUS\\AppData\\Local\\Programs\\Python\\Python313\\Lib\\site-packages\\plotly\\basedatatypes.py:5276\u001b[39m, in \u001b[36mBasePlotlyType._set_prop\u001b[39m\u001b[34m(self, prop, val)\u001b[39m\n\u001b[32m   5274\u001b[39m         \u001b[38;5;28;01mreturn\u001b[39;00m\n\u001b[32m   5275\u001b[39m     \u001b[38;5;28;01melse\u001b[39;00m:\n\u001b[32m-> \u001b[39m\u001b[32m5276\u001b[39m         \u001b[38;5;28;01mraise\u001b[39;00m err\n\u001b[32m   5278\u001b[39m \u001b[38;5;66;03m# val is None\u001b[39;00m\n\u001b[32m   5279\u001b[39m \u001b[38;5;66;03m# -----------\u001b[39;00m\n\u001b[32m   5280\u001b[39m \u001b[38;5;28;01mif\u001b[39;00m val \u001b[38;5;129;01mis\u001b[39;00m \u001b[38;5;28;01mNone\u001b[39;00m:\n\u001b[32m   5281\u001b[39m     \u001b[38;5;66;03m# Check if we should send null update\u001b[39;00m\n",
      "\u001b[36mFile \u001b[39m\u001b[32mc:\\Users\\ASUS\\AppData\\Local\\Programs\\Python\\Python313\\Lib\\site-packages\\plotly\\basedatatypes.py:5271\u001b[39m, in \u001b[36mBasePlotlyType._set_prop\u001b[39m\u001b[34m(self, prop, val)\u001b[39m\n\u001b[32m   5268\u001b[39m validator = \u001b[38;5;28mself\u001b[39m._get_validator(prop)\n\u001b[32m   5270\u001b[39m \u001b[38;5;28;01mtry\u001b[39;00m:\n\u001b[32m-> \u001b[39m\u001b[32m5271\u001b[39m     val = \u001b[43mvalidator\u001b[49m\u001b[43m.\u001b[49m\u001b[43mvalidate_coerce\u001b[49m\u001b[43m(\u001b[49m\u001b[43mval\u001b[49m\u001b[43m)\u001b[49m\n\u001b[32m   5272\u001b[39m \u001b[38;5;28;01mexcept\u001b[39;00m \u001b[38;5;167;01mValueError\u001b[39;00m \u001b[38;5;28;01mas\u001b[39;00m err:\n\u001b[32m   5273\u001b[39m     \u001b[38;5;28;01mif\u001b[39;00m \u001b[38;5;28mself\u001b[39m._skip_invalid:\n",
      "\u001b[36mFile \u001b[39m\u001b[32mc:\\Users\\ASUS\\AppData\\Local\\Programs\\Python\\Python313\\Lib\\site-packages\\_plotly_utils\\basevalidators.py:1374\u001b[39m, in \u001b[36mColorValidator.validate_coerce\u001b[39m\u001b[34m(self, v, should_raise)\u001b[39m\n\u001b[32m   1372\u001b[39m     validated_v = \u001b[38;5;28mself\u001b[39m.vc_scalar(v)\n\u001b[32m   1373\u001b[39m     \u001b[38;5;28;01mif\u001b[39;00m validated_v \u001b[38;5;129;01mis\u001b[39;00m \u001b[38;5;28;01mNone\u001b[39;00m \u001b[38;5;129;01mand\u001b[39;00m should_raise:\n\u001b[32m-> \u001b[39m\u001b[32m1374\u001b[39m         \u001b[38;5;28;43mself\u001b[39;49m\u001b[43m.\u001b[49m\u001b[43mraise_invalid_val\u001b[49m\u001b[43m(\u001b[49m\u001b[43mv\u001b[49m\u001b[43m)\u001b[49m\n\u001b[32m   1376\u001b[39m     v = validated_v\n\u001b[32m   1378\u001b[39m \u001b[38;5;28;01mreturn\u001b[39;00m v\n",
      "\u001b[36mFile \u001b[39m\u001b[32mc:\\Users\\ASUS\\AppData\\Local\\Programs\\Python\\Python313\\Lib\\site-packages\\_plotly_utils\\basevalidators.py:298\u001b[39m, in \u001b[36mBaseValidator.raise_invalid_val\u001b[39m\u001b[34m(self, v, inds)\u001b[39m\n\u001b[32m    295\u001b[39m             \u001b[38;5;28;01mfor\u001b[39;00m i \u001b[38;5;129;01min\u001b[39;00m inds:\n\u001b[32m    296\u001b[39m                 name += \u001b[33m\"\u001b[39m\u001b[33m[\u001b[39m\u001b[33m\"\u001b[39m + \u001b[38;5;28mstr\u001b[39m(i) + \u001b[33m\"\u001b[39m\u001b[33m]\u001b[39m\u001b[33m\"\u001b[39m\n\u001b[32m--> \u001b[39m\u001b[32m298\u001b[39m         \u001b[38;5;28;01mraise\u001b[39;00m \u001b[38;5;167;01mValueError\u001b[39;00m(\n\u001b[32m    299\u001b[39m \u001b[38;5;250m            \u001b[39m\u001b[33;03m\"\"\"\u001b[39;00m\n\u001b[32m    300\u001b[39m \u001b[33;03m    Invalid value of type {typ} received for the '{name}' property of {pname}\u001b[39;00m\n\u001b[32m    301\u001b[39m \u001b[33;03m        Received value: {v}\u001b[39;00m\n\u001b[32m    302\u001b[39m \n\u001b[32m    303\u001b[39m \u001b[33;03m{valid_clr_desc}\"\"\"\u001b[39;00m.format(\n\u001b[32m    304\u001b[39m                 name=name,\n\u001b[32m    305\u001b[39m                 pname=\u001b[38;5;28mself\u001b[39m.parent_name,\n\u001b[32m    306\u001b[39m                 typ=type_str(v),\n\u001b[32m    307\u001b[39m                 v=\u001b[38;5;28mrepr\u001b[39m(v),\n\u001b[32m    308\u001b[39m                 valid_clr_desc=\u001b[38;5;28mself\u001b[39m.description(),\n\u001b[32m    309\u001b[39m             )\n\u001b[32m    310\u001b[39m         )\n",
      "\u001b[31mValueError\u001b[39m: \n    Invalid value of type 'builtins.str' received for the 'color' property of scatter.line\n        Received value: 'rgba(255, 153, 51, np.float64(1.0))'\n\n    The 'color' property is a color and may be specified as:\n      - A hex string (e.g. '#ff0000')\n      - An rgb/rgba string (e.g. 'rgb(255,0,0)')\n      - An hsl/hsla string (e.g. 'hsl(0,100%,50%)')\n      - An hsv/hsva string (e.g. 'hsv(0,100%,100%)')\n      - A named CSS color: see https://plotly.com/python/css-colors/ for a list"
     ]
    }
   ],
   "source": [
    "tips.iplot(kind='scatter', x = 'total_bill', y = 'tip', mode = 'markers')"
   ]
  },
  {
   "cell_type": "code",
   "execution_count": 48,
   "id": "d6b0c271",
   "metadata": {},
   "outputs": [
    {
     "ename": "ValueError",
     "evalue": "\n    Invalid value of type 'builtins.str' received for the 'color' property of box.marker\n        Received value: 'rgba(255, 153, 51, np.float64(1.0))'\n\n    The 'color' property is a color and may be specified as:\n      - A hex string (e.g. '#ff0000')\n      - An rgb/rgba string (e.g. 'rgb(255,0,0)')\n      - An hsl/hsla string (e.g. 'hsl(0,100%,50%)')\n      - An hsv/hsva string (e.g. 'hsv(0,100%,100%)')\n      - A named CSS color: see https://plotly.com/python/css-colors/ for a list",
     "output_type": "error",
     "traceback": [
      "\u001b[31m---------------------------------------------------------------------------\u001b[39m",
      "\u001b[31mValueError\u001b[39m                                Traceback (most recent call last)",
      "\u001b[36mCell\u001b[39m\u001b[36m \u001b[39m\u001b[32mIn[48]\u001b[39m\u001b[32m, line 1\u001b[39m\n\u001b[32m----> \u001b[39m\u001b[32m1\u001b[39m \u001b[43mtips\u001b[49m\u001b[43m[\u001b[49m\u001b[43m[\u001b[49m\u001b[33;43m'\u001b[39;49m\u001b[33;43mtotal_bill\u001b[39;49m\u001b[33;43m'\u001b[39;49m\u001b[43m,\u001b[49m\u001b[43m \u001b[49m\u001b[33;43m'\u001b[39;49m\u001b[33;43mday\u001b[39;49m\u001b[33;43m'\u001b[39;49m\u001b[43m]\u001b[49m\u001b[43m]\u001b[49m\u001b[43m.\u001b[49m\u001b[43miplot\u001b[49m\u001b[43m(\u001b[49m\u001b[43mkind\u001b[49m\u001b[43m \u001b[49m\u001b[43m=\u001b[49m\u001b[43m \u001b[49m\u001b[33;43m'\u001b[39;49m\u001b[33;43mbox\u001b[39;49m\u001b[33;43m'\u001b[39;49m\u001b[43m,\u001b[49m\u001b[43m \u001b[49m\u001b[43mx\u001b[49m\u001b[43m \u001b[49m\u001b[43m=\u001b[49m\u001b[43m \u001b[49m\u001b[33;43m'\u001b[39;49m\u001b[33;43mtotal_bill\u001b[39;49m\u001b[33;43m'\u001b[39;49m\u001b[43m,\u001b[49m\u001b[43m \u001b[49m\u001b[43my\u001b[49m\u001b[43m \u001b[49m\u001b[43m=\u001b[49m\u001b[43m \u001b[49m\u001b[33;43m'\u001b[39;49m\u001b[33;43mday\u001b[39;49m\u001b[33;43m'\u001b[39;49m\u001b[43m)\u001b[49m\n",
      "\u001b[36mFile \u001b[39m\u001b[32mc:\\Users\\ASUS\\AppData\\Local\\Programs\\Python\\Python313\\Lib\\site-packages\\cufflinks\\plotlytools.py:911\u001b[39m, in \u001b[36m_iplot\u001b[39m\u001b[34m(self, kind, data, layout, filename, sharing, title, xTitle, yTitle, zTitle, theme, colors, colorscale, fill, width, dash, mode, interpolation, symbol, size, barmode, sortbars, bargap, bargroupgap, bins, histnorm, histfunc, orientation, boxpoints, annotations, keys, bestfit, bestfit_colors, mean, mean_colors, categories, x, y, z, text, gridcolor, zerolinecolor, margin, labels, values, secondary_y, secondary_y_title, subplots, shape, error_x, error_y, error_type, locations, lon, lat, asFrame, asDates, asFigure, asImage, dimensions, asPlot, asUrl, online, **kwargs)\u001b[39m\n\u001b[32m    909\u001b[39m \u001b[38;5;28;01mfor\u001b[39;00m _ \u001b[38;5;129;01min\u001b[39;00m columns:\n\u001b[32m    910\u001b[39m \t\u001b[38;5;28;01mif\u001b[39;00m kind==\u001b[33m'\u001b[39m\u001b[33mbox\u001b[39m\u001b[33m'\u001b[39m:\n\u001b[32m--> \u001b[39m\u001b[32m911\u001b[39m \t\t__=\u001b[43mBox\u001b[49m\u001b[43m(\u001b[49m\u001b[43my\u001b[49m\u001b[43m=\u001b[49m\u001b[43mdf\u001b[49m\u001b[43m[\u001b[49m\u001b[43m_\u001b[49m\u001b[43m]\u001b[49m\u001b[43m.\u001b[49m\u001b[43mvalues\u001b[49m\u001b[43m.\u001b[49m\u001b[43mtolist\u001b[49m\u001b[43m(\u001b[49m\u001b[43m)\u001b[49m\u001b[43m,\u001b[49m\u001b[43mmarker\u001b[49m\u001b[43m=\u001b[49m\u001b[38;5;28;43mdict\u001b[39;49m\u001b[43m(\u001b[49m\u001b[43mcolor\u001b[49m\u001b[43m=\u001b[49m\u001b[43mclrs\u001b[49m\u001b[43m[\u001b[49m\u001b[43m_\u001b[49m\u001b[43m]\u001b[49m\u001b[43m)\u001b[49m\u001b[43m,\u001b[49m\u001b[43mname\u001b[49m\u001b[43m=\u001b[49m\u001b[43m_\u001b[49m\u001b[43m,\u001b[49m\n\u001b[32m    912\u001b[39m \u001b[43m\t\t\t\t\u001b[49m\u001b[43mline\u001b[49m\u001b[43m=\u001b[49m\u001b[38;5;28;43mdict\u001b[39;49m\u001b[43m(\u001b[49m\u001b[43mwidth\u001b[49m\u001b[43m=\u001b[49m\u001b[43mwidth\u001b[49m\u001b[43m)\u001b[49m\u001b[43m,\u001b[49m\u001b[43mboxpoints\u001b[49m\u001b[43m=\u001b[49m\u001b[43mboxpoints\u001b[49m\u001b[43m)\u001b[49m\n\u001b[32m    913\u001b[39m \t\t\u001b[38;5;66;03m# 114 - Horizontal Box\u001b[39;00m\n\u001b[32m    914\u001b[39m \t\t__[\u001b[33m'\u001b[39m\u001b[33morientation\u001b[39m\u001b[33m'\u001b[39m]=orientation\n",
      "\u001b[36mFile \u001b[39m\u001b[32mc:\\Users\\ASUS\\AppData\\Local\\Programs\\Python\\Python313\\Lib\\site-packages\\plotly\\graph_objs\\_box.py:2989\u001b[39m, in \u001b[36m__init__\u001b[39m\u001b[34m(self, arg, alignmentgroup, boxmean, boxpoints, customdata, customdatasrc, dx, dy, fillcolor, hoverinfo, hoverinfosrc, hoverlabel, hoveron, hovertemplate, hovertemplatesrc, hovertext, hovertextsrc, ids, idssrc, jitter, legend, legendgroup, legendgrouptitle, legendrank, legendwidth, line, lowerfence, lowerfencesrc, marker, mean, meansrc, median, mediansrc, meta, metasrc, name, notched, notchspan, notchspansrc, notchwidth, offsetgroup, opacity, orientation, pointpos, q1, q1src, q3, q3src, quartilemethod, sd, sdmultiple, sdsrc, selected, selectedpoints, showlegend, showwhiskers, sizemode, stream, text, textsrc, uid, uirevision, unselected, upperfence, upperfencesrc, visible, whiskerwidth, width, x, x0, xaxis, xcalendar, xhoverformat, xperiod, xperiod0, xperiodalignment, xsrc, y, y0, yaxis, ycalendar, yhoverformat, yperiod, yperiod0, yperiodalignment, ysrc, zorder, **kwargs)\u001b[39m\n\u001b[32m   2654\u001b[39m \u001b[38;5;28;01mdef\u001b[39;00m\u001b[38;5;250m \u001b[39m\u001b[34m__init__\u001b[39m(\n\u001b[32m   2655\u001b[39m     \u001b[38;5;28mself\u001b[39m,\n\u001b[32m   2656\u001b[39m     arg=\u001b[38;5;28;01mNone\u001b[39;00m,\n\u001b[32m   (...)\u001b[39m\u001b[32m   2742\u001b[39m     **kwargs,\n\u001b[32m   2743\u001b[39m ):\n\u001b[32m   2744\u001b[39m \u001b[38;5;250m    \u001b[39m\u001b[33;03m\"\"\"\u001b[39;00m\n\u001b[32m   2745\u001b[39m \u001b[33;03m    Construct a new Box object\u001b[39;00m\n\u001b[32m   2746\u001b[39m \n\u001b[32m   2747\u001b[39m \u001b[33;03m    Each box spans from quartile 1 (Q1) to quartile 3 (Q3). The\u001b[39;00m\n\u001b[32m   2748\u001b[39m \u001b[33;03m    second quartile (Q2, i.e. the median) is marked by a line\u001b[39;00m\n\u001b[32m   2749\u001b[39m \u001b[33;03m    inside the box. The fences grow outward from the boxes' edges,\u001b[39;00m\n\u001b[32m   2750\u001b[39m \u001b[33;03m    by default they span +/- 1.5 times the interquartile range\u001b[39;00m\n\u001b[32m   2751\u001b[39m \u001b[33;03m    (IQR: Q3-Q1), The sample mean and standard deviation as well as\u001b[39;00m\n\u001b[32m   2752\u001b[39m \u001b[33;03m    notches and the sample, outlier and suspected outliers points\u001b[39;00m\n\u001b[32m   2753\u001b[39m \u001b[33;03m    can be optionally added to the box plot. The values and\u001b[39;00m\n\u001b[32m   2754\u001b[39m \u001b[33;03m    positions corresponding to each boxes can be input using two\u001b[39;00m\n\u001b[32m   2755\u001b[39m \u001b[33;03m    signatures. The first signature expects users to supply the\u001b[39;00m\n\u001b[32m   2756\u001b[39m \u001b[33;03m    sample values in the `y` data array for vertical boxes (`x` for\u001b[39;00m\n\u001b[32m   2757\u001b[39m \u001b[33;03m    horizontal boxes). By supplying an `x` (`y`) array, one box per\u001b[39;00m\n\u001b[32m   2758\u001b[39m \u001b[33;03m    distinct `x` (`y`) value is drawn If no `x` (`y`) list is\u001b[39;00m\n\u001b[32m   2759\u001b[39m \u001b[33;03m    provided, a single box is drawn. In this case, the box is\u001b[39;00m\n\u001b[32m   2760\u001b[39m \u001b[33;03m    positioned with the trace `name` or with `x0` (`y0`) if\u001b[39;00m\n\u001b[32m   2761\u001b[39m \u001b[33;03m    provided. The second signature expects users to supply the\u001b[39;00m\n\u001b[32m   2762\u001b[39m \u001b[33;03m    boxes corresponding Q1, median and Q3 statistics in the `q1`,\u001b[39;00m\n\u001b[32m   2763\u001b[39m \u001b[33;03m    `median` and `q3` data arrays respectively. Other box features\u001b[39;00m\n\u001b[32m   2764\u001b[39m \u001b[33;03m    relying on statistics namely `lowerfence`, `upperfence`,\u001b[39;00m\n\u001b[32m   2765\u001b[39m \u001b[33;03m    `notchspan` can be set directly by the users. To have plotly\u001b[39;00m\n\u001b[32m   2766\u001b[39m \u001b[33;03m    compute them or to show sample points besides the boxes, users\u001b[39;00m\n\u001b[32m   2767\u001b[39m \u001b[33;03m    can set the `y` data array for vertical boxes (`x` for\u001b[39;00m\n\u001b[32m   2768\u001b[39m \u001b[33;03m    horizontal boxes) to a 2D array with the outer length\u001b[39;00m\n\u001b[32m   2769\u001b[39m \u001b[33;03m    corresponding to the number of boxes in the traces and the\u001b[39;00m\n\u001b[32m   2770\u001b[39m \u001b[33;03m    inner length corresponding the sample size.\u001b[39;00m\n\u001b[32m   2771\u001b[39m \n\u001b[32m   2772\u001b[39m \u001b[33;03m    Parameters\u001b[39;00m\n\u001b[32m   2773\u001b[39m \u001b[33;03m    ----------\u001b[39;00m\n\u001b[32m   2774\u001b[39m \u001b[33;03m    arg\u001b[39;00m\n\u001b[32m   2775\u001b[39m \u001b[33;03m        dict of properties compatible with this constructor or\u001b[39;00m\n\u001b[32m   2776\u001b[39m \u001b[33;03m        an instance of :class:`plotly.graph_objs.Box`\u001b[39;00m\n\u001b[32m   2777\u001b[39m \u001b[33;03m    alignmentgroup\u001b[39;00m\n\u001b[32m   2778\u001b[39m \u001b[33;03m        Set several traces linked to the same position axis or\u001b[39;00m\n\u001b[32m   2779\u001b[39m \u001b[33;03m        matching axes to the same alignmentgroup. This controls\u001b[39;00m\n\u001b[32m   2780\u001b[39m \u001b[33;03m        whether bars compute their positional range dependently\u001b[39;00m\n\u001b[32m   2781\u001b[39m \u001b[33;03m        or independently.\u001b[39;00m\n\u001b[32m   2782\u001b[39m \u001b[33;03m    boxmean\u001b[39;00m\n\u001b[32m   2783\u001b[39m \u001b[33;03m        If True, the mean of the box(es)' underlying\u001b[39;00m\n\u001b[32m   2784\u001b[39m \u001b[33;03m        distribution is drawn as a dashed line inside the\u001b[39;00m\n\u001b[32m   2785\u001b[39m \u001b[33;03m        box(es). If \"sd\" the standard deviation is also drawn.\u001b[39;00m\n\u001b[32m   2786\u001b[39m \u001b[33;03m        Defaults to True when `mean` is set. Defaults to \"sd\"\u001b[39;00m\n\u001b[32m   2787\u001b[39m \u001b[33;03m        when `sd` is set Otherwise defaults to False.\u001b[39;00m\n\u001b[32m   2788\u001b[39m \u001b[33;03m    boxpoints\u001b[39;00m\n\u001b[32m   2789\u001b[39m \u001b[33;03m        If \"outliers\", only the sample points lying outside the\u001b[39;00m\n\u001b[32m   2790\u001b[39m \u001b[33;03m        whiskers are shown If \"suspectedoutliers\", the outlier\u001b[39;00m\n\u001b[32m   2791\u001b[39m \u001b[33;03m        points are shown and points either less than 4*Q1-3*Q3\u001b[39;00m\n\u001b[32m   2792\u001b[39m \u001b[33;03m        or greater than 4*Q3-3*Q1 are highlighted (see\u001b[39;00m\n\u001b[32m   2793\u001b[39m \u001b[33;03m        `outliercolor`) If \"all\", all sample points are shown\u001b[39;00m\n\u001b[32m   2794\u001b[39m \u001b[33;03m        If False, only the box(es) are shown with no sample\u001b[39;00m\n\u001b[32m   2795\u001b[39m \u001b[33;03m        points Defaults to \"suspectedoutliers\" when\u001b[39;00m\n\u001b[32m   2796\u001b[39m \u001b[33;03m        `marker.outliercolor` or `marker.line.outliercolor` is\u001b[39;00m\n\u001b[32m   2797\u001b[39m \u001b[33;03m        set. Defaults to \"all\" under the q1/median/q3\u001b[39;00m\n\u001b[32m   2798\u001b[39m \u001b[33;03m        signature. Otherwise defaults to \"outliers\".\u001b[39;00m\n\u001b[32m   2799\u001b[39m \u001b[33;03m    customdata\u001b[39;00m\n\u001b[32m   2800\u001b[39m \u001b[33;03m        Assigns extra data each datum. This may be useful when\u001b[39;00m\n\u001b[32m   2801\u001b[39m \u001b[33;03m        listening to hover, click and selection events. Note\u001b[39;00m\n\u001b[32m   2802\u001b[39m \u001b[33;03m        that, \"scatter\" traces also appends customdata items in\u001b[39;00m\n\u001b[32m   2803\u001b[39m \u001b[33;03m        the markers DOM elements\u001b[39;00m\n\u001b[32m   2804\u001b[39m \u001b[33;03m    customdatasrc\u001b[39;00m\n\u001b[32m   2805\u001b[39m \u001b[33;03m        Sets the source reference on Chart Studio Cloud for\u001b[39;00m\n\u001b[32m   2806\u001b[39m \u001b[33;03m        `customdata`.\u001b[39;00m\n\u001b[32m   2807\u001b[39m \u001b[33;03m    dx\u001b[39;00m\n\u001b[32m   2808\u001b[39m \u001b[33;03m        Sets the x coordinate step for multi-box traces set\u001b[39;00m\n\u001b[32m   2809\u001b[39m \u001b[33;03m        using q1/median/q3.\u001b[39;00m\n\u001b[32m   2810\u001b[39m \u001b[33;03m    dy\u001b[39;00m\n\u001b[32m   2811\u001b[39m \u001b[33;03m        Sets the y coordinate step for multi-box traces set\u001b[39;00m\n\u001b[32m   2812\u001b[39m \u001b[33;03m        using q1/median/q3.\u001b[39;00m\n\u001b[32m   2813\u001b[39m \u001b[33;03m    fillcolor\u001b[39;00m\n\u001b[32m   2814\u001b[39m \u001b[33;03m        Sets the fill color. Defaults to a half-transparent\u001b[39;00m\n\u001b[32m   2815\u001b[39m \u001b[33;03m        variant of the line color, marker color, or marker line\u001b[39;00m\n\u001b[32m   2816\u001b[39m \u001b[33;03m        color, whichever is available.\u001b[39;00m\n\u001b[32m   2817\u001b[39m \u001b[33;03m    hoverinfo\u001b[39;00m\n\u001b[32m   2818\u001b[39m \u001b[33;03m        Determines which trace information appear on hover. If\u001b[39;00m\n\u001b[32m   2819\u001b[39m \u001b[33;03m        `none` or `skip` are set, no information is displayed\u001b[39;00m\n\u001b[32m   2820\u001b[39m \u001b[33;03m        upon hovering. But, if `none` is set, click and hover\u001b[39;00m\n\u001b[32m   2821\u001b[39m \u001b[33;03m        events are still fired.\u001b[39;00m\n\u001b[32m   2822\u001b[39m \u001b[33;03m    hoverinfosrc\u001b[39;00m\n\u001b[32m   2823\u001b[39m \u001b[33;03m        Sets the source reference on Chart Studio Cloud for\u001b[39;00m\n\u001b[32m   2824\u001b[39m \u001b[33;03m        `hoverinfo`.\u001b[39;00m\n\u001b[32m   2825\u001b[39m \u001b[33;03m    hoverlabel\u001b[39;00m\n\u001b[32m   2826\u001b[39m \u001b[33;03m        :class:`plotly.graph_objects.box.Hoverlabel` instance\u001b[39;00m\n\u001b[32m   2827\u001b[39m \u001b[33;03m        or dict with compatible properties\u001b[39;00m\n\u001b[32m   2828\u001b[39m \u001b[33;03m    hoveron\u001b[39;00m\n\u001b[32m   2829\u001b[39m \u001b[33;03m        Do the hover effects highlight individual boxes  or\u001b[39;00m\n\u001b[32m   2830\u001b[39m \u001b[33;03m        sample points or both?\u001b[39;00m\n\u001b[32m   2831\u001b[39m \u001b[33;03m    hovertemplate\u001b[39;00m\n\u001b[32m   2832\u001b[39m \u001b[33;03m        Template string used for rendering the information that\u001b[39;00m\n\u001b[32m   2833\u001b[39m \u001b[33;03m        appear on hover box. Note that this will override\u001b[39;00m\n\u001b[32m   2834\u001b[39m \u001b[33;03m        `hoverinfo`. Variables are inserted using %{variable},\u001b[39;00m\n\u001b[32m   2835\u001b[39m \u001b[33;03m        for example \"y: %{y}\" as well as %{xother}, {%_xother},\u001b[39;00m\n\u001b[32m   2836\u001b[39m \u001b[33;03m        {%_xother_}, {%xother_}. When showing info for several\u001b[39;00m\n\u001b[32m   2837\u001b[39m \u001b[33;03m        points, \"xother\" will be added to those with different\u001b[39;00m\n\u001b[32m   2838\u001b[39m \u001b[33;03m        x positions from the first point. An underscore before\u001b[39;00m\n\u001b[32m   2839\u001b[39m \u001b[33;03m        or after \"(x|y)other\" will add a space on that side,\u001b[39;00m\n\u001b[32m   2840\u001b[39m \u001b[33;03m        only when this field is shown. Numbers are formatted\u001b[39;00m\n\u001b[32m   2841\u001b[39m \u001b[33;03m        using d3-format's syntax %{variable:d3-format}, for\u001b[39;00m\n\u001b[32m   2842\u001b[39m \u001b[33;03m        example \"Price: %{y:$.2f}\".\u001b[39;00m\n\u001b[32m   2843\u001b[39m \u001b[33;03m        https://github.com/d3/d3-format/tree/v1.4.5#d3-format\u001b[39;00m\n\u001b[32m   2844\u001b[39m \u001b[33;03m        for details on the formatting syntax. Dates are\u001b[39;00m\n\u001b[32m   2845\u001b[39m \u001b[33;03m        formatted using d3-time-format's syntax\u001b[39;00m\n\u001b[32m   2846\u001b[39m \u001b[33;03m        %{variable|d3-time-format}, for example \"Day:\u001b[39;00m\n\u001b[32m   2847\u001b[39m \u001b[33;03m        %{2019-01-01|%A}\". https://github.com/d3/d3-time-\u001b[39;00m\n\u001b[32m   2848\u001b[39m \u001b[33;03m        format/tree/v2.2.3#locale_format for details on the\u001b[39;00m\n\u001b[32m   2849\u001b[39m \u001b[33;03m        date formatting syntax. The variables available in\u001b[39;00m\n\u001b[32m   2850\u001b[39m \u001b[33;03m        `hovertemplate` are the ones emitted as event data\u001b[39;00m\n\u001b[32m   2851\u001b[39m \u001b[33;03m        described at this link\u001b[39;00m\n\u001b[32m   2852\u001b[39m \u001b[33;03m        https://plotly.com/javascript/plotlyjs-events/#event-\u001b[39;00m\n\u001b[32m   2853\u001b[39m \u001b[33;03m        data. Additionally, every attributes that can be\u001b[39;00m\n\u001b[32m   2854\u001b[39m \u001b[33;03m        specified per-point (the ones that are `arrayOk: true`)\u001b[39;00m\n\u001b[32m   2855\u001b[39m \u001b[33;03m        are available.  Anything contained in tag `<extra>` is\u001b[39;00m\n\u001b[32m   2856\u001b[39m \u001b[33;03m        displayed in the secondary box, for example\u001b[39;00m\n\u001b[32m   2857\u001b[39m \u001b[33;03m        \"<extra>{fullData.name}</extra>\". To hide the secondary\u001b[39;00m\n\u001b[32m   2858\u001b[39m \u001b[33;03m        box completely, use an empty tag `<extra></extra>`.\u001b[39;00m\n\u001b[32m   2859\u001b[39m \u001b[33;03m    hovertemplatesrc\u001b[39;00m\n\u001b[32m   2860\u001b[39m \u001b[33;03m        Sets the source reference on Chart Studio Cloud for\u001b[39;00m\n\u001b[32m   2861\u001b[39m \u001b[33;03m        `hovertemplate`.\u001b[39;00m\n\u001b[32m   2862\u001b[39m \u001b[33;03m    hovertext\u001b[39;00m\n\u001b[32m   2863\u001b[39m \u001b[33;03m        Same as `text`.\u001b[39;00m\n\u001b[32m   2864\u001b[39m \u001b[33;03m    hovertextsrc\u001b[39;00m\n\u001b[32m   2865\u001b[39m \u001b[33;03m        Sets the source reference on Chart Studio Cloud for\u001b[39;00m\n\u001b[32m   2866\u001b[39m \u001b[33;03m        `hovertext`.\u001b[39;00m\n\u001b[32m   2867\u001b[39m \u001b[33;03m    ids\u001b[39;00m\n\u001b[32m   2868\u001b[39m \u001b[33;03m        Assigns id labels to each datum. These ids for object\u001b[39;00m\n\u001b[32m   2869\u001b[39m \u001b[33;03m        constancy of data points during animation. Should be an\u001b[39;00m\n\u001b[32m   2870\u001b[39m \u001b[33;03m        array of strings, not numbers or any other type.\u001b[39;00m\n\u001b[32m   2871\u001b[39m \u001b[33;03m    idssrc\u001b[39;00m\n\u001b[32m   2872\u001b[39m \u001b[33;03m        Sets the source reference on Chart Studio Cloud for\u001b[39;00m\n\u001b[32m   2873\u001b[39m \u001b[33;03m        `ids`.\u001b[39;00m\n\u001b[32m   2874\u001b[39m \u001b[33;03m    jitter\u001b[39;00m\n\u001b[32m   2875\u001b[39m \u001b[33;03m        Sets the amount of jitter in the sample points drawn.\u001b[39;00m\n\u001b[32m   2876\u001b[39m \u001b[33;03m        If 0, the sample points align along the distribution\u001b[39;00m\n\u001b[32m   2877\u001b[39m \u001b[33;03m        axis. If 1, the sample points are drawn in a random\u001b[39;00m\n\u001b[32m   2878\u001b[39m \u001b[33;03m        jitter of width equal to the width of the box(es).\u001b[39;00m\n\u001b[32m   2879\u001b[39m \u001b[33;03m    legend\u001b[39;00m\n\u001b[32m   2880\u001b[39m \u001b[33;03m        Sets the reference to a legend to show this trace in.\u001b[39;00m\n\u001b[32m   2881\u001b[39m \u001b[33;03m        References to these legends are \"legend\", \"legend2\",\u001b[39;00m\n\u001b[32m   2882\u001b[39m \u001b[33;03m        \"legend3\", etc. Settings for these legends are set in\u001b[39;00m\n\u001b[32m   2883\u001b[39m \u001b[33;03m        the layout, under `layout.legend`, `layout.legend2`,\u001b[39;00m\n\u001b[32m   2884\u001b[39m \u001b[33;03m        etc.\u001b[39;00m\n\u001b[32m   2885\u001b[39m \u001b[33;03m    legendgroup\u001b[39;00m\n\u001b[32m   2886\u001b[39m \u001b[33;03m        Sets the legend group for this trace. Traces and shapes\u001b[39;00m\n\u001b[32m   2887\u001b[39m \u001b[33;03m        part of the same legend group hide/show at the same\u001b[39;00m\n\u001b[32m   2888\u001b[39m \u001b[33;03m        time when toggling legend items.\u001b[39;00m\n\u001b[32m   2889\u001b[39m \u001b[33;03m    legendgrouptitle\u001b[39;00m\n\u001b[32m   2890\u001b[39m \u001b[33;03m        :class:`plotly.graph_objects.box.Legendgrouptitle`\u001b[39;00m\n\u001b[32m   2891\u001b[39m \u001b[33;03m        instance or dict with compatible properties\u001b[39;00m\n\u001b[32m   2892\u001b[39m \u001b[33;03m    legendrank\u001b[39;00m\n\u001b[32m   2893\u001b[39m \u001b[33;03m        Sets the legend rank for this trace. Items and groups\u001b[39;00m\n\u001b[32m   2894\u001b[39m \u001b[33;03m        with smaller ranks are presented on top/left side while\u001b[39;00m\n\u001b[32m   2895\u001b[39m \u001b[33;03m        with \"reversed\" `legend.traceorder` they are on\u001b[39;00m\n\u001b[32m   2896\u001b[39m \u001b[33;03m        bottom/right side. The default legendrank is 1000, so\u001b[39;00m\n\u001b[32m   2897\u001b[39m \u001b[33;03m        that you can use ranks less than 1000 to place certain\u001b[39;00m\n\u001b[32m   2898\u001b[39m \u001b[33;03m        items before all unranked items, and ranks greater than\u001b[39;00m\n\u001b[32m   2899\u001b[39m \u001b[33;03m        1000 to go after all unranked items. When having\u001b[39;00m\n\u001b[32m   2900\u001b[39m \u001b[33;03m        unranked or equal rank items shapes would be displayed\u001b[39;00m\n\u001b[32m   2901\u001b[39m \u001b[33;03m        after traces i.e. according to their order in data and\u001b[39;00m\n\u001b[32m   2902\u001b[39m \u001b[33;03m        layout.\u001b[39;00m\n\u001b[32m   2903\u001b[39m \u001b[33;03m    legendwidth\u001b[39;00m\n\u001b[32m   2904\u001b[39m \u001b[33;03m        Sets the width (in px or fraction) of the legend for\u001b[39;00m\n\u001b[32m   2905\u001b[39m \u001b[33;03m        this trace.\u001b[39;00m\n\u001b[32m   2906\u001b[39m \u001b[33;03m    line\u001b[39;00m\n\u001b[32m   2907\u001b[39m \u001b[33;03m        :class:`plotly.graph_objects.box.Line` instance or dict\u001b[39;00m\n\u001b[32m   2908\u001b[39m \u001b[33;03m        with compatible properties\u001b[39;00m\n\u001b[32m   2909\u001b[39m \u001b[33;03m    lowerfence\u001b[39;00m\n\u001b[32m   2910\u001b[39m \u001b[33;03m        Sets the lower fence values. There should be as many\u001b[39;00m\n\u001b[32m   2911\u001b[39m \u001b[33;03m        items as the number of boxes desired. This attribute\u001b[39;00m\n\u001b[32m   2912\u001b[39m \u001b[33;03m        has effect only under the q1/median/q3 signature. If\u001b[39;00m\n\u001b[32m   2913\u001b[39m \u001b[33;03m        `lowerfence` is not provided but a sample (in `y` or\u001b[39;00m\n\u001b[32m   2914\u001b[39m \u001b[33;03m        `x`) is set, we compute the lower as the last sample\u001b[39;00m\n\u001b[32m   2915\u001b[39m \u001b[33;03m        point below 1.5 times the IQR.\u001b[39;00m\n\u001b[32m   2916\u001b[39m \u001b[33;03m    lowerfencesrc\u001b[39;00m\n\u001b[32m   2917\u001b[39m \u001b[33;03m        Sets the source reference on Chart Studio Cloud for\u001b[39;00m\n\u001b[32m   2918\u001b[39m \u001b[33;03m        `lowerfence`.\u001b[39;00m\n\u001b[32m   2919\u001b[39m \u001b[33;03m    marker\u001b[39;00m\n\u001b[32m   2920\u001b[39m \u001b[33;03m        :class:`plotly.graph_objects.box.Marker` instance or\u001b[39;00m\n\u001b[32m   2921\u001b[39m \u001b[33;03m        dict with compatible properties\u001b[39;00m\n\u001b[32m   2922\u001b[39m \u001b[33;03m    mean\u001b[39;00m\n\u001b[32m   2923\u001b[39m \u001b[33;03m        Sets the mean values. There should be as many items as\u001b[39;00m\n\u001b[32m   2924\u001b[39m \u001b[33;03m        the number of boxes desired. This attribute has effect\u001b[39;00m\n\u001b[32m   2925\u001b[39m \u001b[33;03m        only under the q1/median/q3 signature. If `mean` is not\u001b[39;00m\n\u001b[32m   2926\u001b[39m \u001b[33;03m        provided but a sample (in `y` or `x`) is set, we\u001b[39;00m\n\u001b[32m   2927\u001b[39m \u001b[33;03m        compute the mean for each box using the sample values.\u001b[39;00m\n\u001b[32m   2928\u001b[39m \u001b[33;03m    meansrc\u001b[39;00m\n\u001b[32m   2929\u001b[39m \u001b[33;03m        Sets the source reference on Chart Studio Cloud for\u001b[39;00m\n\u001b[32m   2930\u001b[39m \u001b[33;03m        `mean`.\u001b[39;00m\n\u001b[32m   2931\u001b[39m \u001b[33;03m    median\u001b[39;00m\n\u001b[32m   2932\u001b[39m \u001b[33;03m        Sets the median values. There should be as many items\u001b[39;00m\n\u001b[32m   2933\u001b[39m \u001b[33;03m        as the number of boxes desired.\u001b[39;00m\n\u001b[32m   2934\u001b[39m \u001b[33;03m    mediansrc\u001b[39;00m\n\u001b[32m   2935\u001b[39m \u001b[33;03m        Sets the source reference on Chart Studio Cloud for\u001b[39;00m\n\u001b[32m   2936\u001b[39m \u001b[33;03m        `median`.\u001b[39;00m\n\u001b[32m   2937\u001b[39m \u001b[33;03m    meta\u001b[39;00m\n\u001b[32m   2938\u001b[39m \u001b[33;03m        Assigns extra meta information associated with this\u001b[39;00m\n\u001b[32m   2939\u001b[39m \u001b[33;03m        trace that can be used in various text attributes.\u001b[39;00m\n\u001b[32m   2940\u001b[39m \u001b[33;03m        Attributes such as trace `name`, graph, axis and\u001b[39;00m\n\u001b[32m   2941\u001b[39m \u001b[33;03m        colorbar `title.text`, annotation `text`\u001b[39;00m\n\u001b[32m   2942\u001b[39m \u001b[33;03m        `rangeselector`, `updatemenues` and `sliders` `label`\u001b[39;00m\n\u001b[32m   2943\u001b[39m \u001b[33;03m        text all support `meta`. To access the trace `meta`\u001b[39;00m\n\u001b[32m   2944\u001b[39m \u001b[33;03m        values in an attribute in the same trace, simply use\u001b[39;00m\n\u001b[32m   2945\u001b[39m \u001b[33;03m        `%{meta[i]}` where `i` is the index or key of the\u001b[39;00m\n\u001b[32m   2946\u001b[39m \u001b[33;03m        `meta` item in question. To access trace `meta` in\u001b[39;00m\n\u001b[32m   2947\u001b[39m \u001b[33;03m        layout attributes, use `%{data[n[.meta[i]}` where `i`\u001b[39;00m\n\u001b[32m   2948\u001b[39m \u001b[33;03m        is the index or key of the `meta` and `n` is the trace\u001b[39;00m\n\u001b[32m   2949\u001b[39m \u001b[33;03m        index.\u001b[39;00m\n\u001b[32m   2950\u001b[39m \u001b[33;03m    metasrc\u001b[39;00m\n\u001b[32m   2951\u001b[39m \u001b[33;03m        Sets the source reference on Chart Studio Cloud for\u001b[39;00m\n\u001b[32m   2952\u001b[39m \u001b[33;03m        `meta`.\u001b[39;00m\n\u001b[32m   2953\u001b[39m \u001b[33;03m    name\u001b[39;00m\n\u001b[32m   2954\u001b[39m \u001b[33;03m        Sets the trace name. The trace name appears as the\u001b[39;00m\n\u001b[32m   2955\u001b[39m \u001b[33;03m        legend item and on hover. For box traces, the name will\u001b[39;00m\n\u001b[32m   2956\u001b[39m \u001b[33;03m        also be used for the position coordinate, if `x` and\u001b[39;00m\n\u001b[32m   2957\u001b[39m \u001b[33;03m        `x0` (`y` and `y0` if horizontal) are missing and the\u001b[39;00m\n\u001b[32m   2958\u001b[39m \u001b[33;03m        position axis is categorical\u001b[39;00m\n\u001b[32m   2959\u001b[39m \u001b[33;03m    notched\u001b[39;00m\n\u001b[32m   2960\u001b[39m \u001b[33;03m        Determines whether or not notches are drawn. Notches\u001b[39;00m\n\u001b[32m   2961\u001b[39m \u001b[33;03m        displays a confidence interval around the median. We\u001b[39;00m\n\u001b[32m   2962\u001b[39m \u001b[33;03m        compute the confidence interval as median +/- 1.57 *\u001b[39;00m\n\u001b[32m   2963\u001b[39m \u001b[33;03m        IQR / sqrt(N), where IQR is the interquartile range and\u001b[39;00m\n\u001b[32m   2964\u001b[39m \u001b[33;03m        N is the sample size. If two boxes' notches do not\u001b[39;00m\n\u001b[32m   2965\u001b[39m \u001b[33;03m        overlap there is 95% confidence their medians differ.\u001b[39;00m\n\u001b[32m   2966\u001b[39m \u001b[33;03m        See https://sites.google.com/site/davidsstatistics/home\u001b[39;00m\n\u001b[32m   2967\u001b[39m \u001b[33;03m        /notched-box-plots for more info. Defaults to False\u001b[39;00m\n\u001b[32m   2968\u001b[39m \u001b[33;03m        unless `notchwidth` or `notchspan` is set.\u001b[39;00m\n\u001b[32m   2969\u001b[39m \u001b[33;03m    notchspan\u001b[39;00m\n\u001b[32m   2970\u001b[39m \u001b[33;03m        Sets the notch span from the boxes' `median` values.\u001b[39;00m\n\u001b[32m   2971\u001b[39m \u001b[33;03m        There should be as many items as the number of boxes\u001b[39;00m\n\u001b[32m   2972\u001b[39m \u001b[33;03m        desired. This attribute has effect only under the\u001b[39;00m\n\u001b[32m   2973\u001b[39m \u001b[33;03m        q1/median/q3 signature. If `notchspan` is not provided\u001b[39;00m\n\u001b[32m   2974\u001b[39m \u001b[33;03m        but a sample (in `y` or `x`) is set, we compute it as\u001b[39;00m\n\u001b[32m   2975\u001b[39m \u001b[33;03m        1.57 * IQR / sqrt(N), where N is the sample size.\u001b[39;00m\n\u001b[32m   2976\u001b[39m \u001b[33;03m    notchspansrc\u001b[39;00m\n\u001b[32m   2977\u001b[39m \u001b[33;03m        Sets the source reference on Chart Studio Cloud for\u001b[39;00m\n\u001b[32m   2978\u001b[39m \u001b[33;03m        `notchspan`.\u001b[39;00m\n\u001b[32m   2979\u001b[39m \u001b[33;03m    notchwidth\u001b[39;00m\n\u001b[32m   2980\u001b[39m \u001b[33;03m        Sets the width of the notches relative to the box'\u001b[39;00m\n\u001b[32m   2981\u001b[39m \u001b[33;03m        width. For example, with 0, the notches are as wide as\u001b[39;00m\n\u001b[32m   2982\u001b[39m \u001b[33;03m        the box(es).\u001b[39;00m\n\u001b[32m   2983\u001b[39m \u001b[33;03m    offsetgroup\u001b[39;00m\n\u001b[32m   2984\u001b[39m \u001b[33;03m        Set several traces linked to the same position axis or\u001b[39;00m\n\u001b[32m   2985\u001b[39m \u001b[33;03m        matching axes to the same offsetgroup where bars of the\u001b[39;00m\n\u001b[32m   2986\u001b[39m \u001b[33;03m        same position coordinate will line up.\u001b[39;00m\n\u001b[32m   2987\u001b[39m \u001b[33;03m    opacity\u001b[39;00m\n\u001b[32m   2988\u001b[39m \u001b[33;03m        Sets the opacity of the trace.\u001b[39;00m\n\u001b[32m-> \u001b[39m\u001b[32m2989\u001b[39m \u001b[33;03m    orientation\u001b[39;00m\n\u001b[32m   2990\u001b[39m \u001b[33;03m        Sets the orientation of the box(es). If \"v\" (\"h\"), the\u001b[39;00m\n\u001b[32m   2991\u001b[39m \u001b[33;03m        distribution is visualized along the vertical\u001b[39;00m\n\u001b[32m   2992\u001b[39m \u001b[33;03m        (horizontal).\u001b[39;00m\n\u001b[32m   2993\u001b[39m \u001b[33;03m    pointpos\u001b[39;00m\n\u001b[32m   2994\u001b[39m \u001b[33;03m        Sets the position of the sample points in relation to\u001b[39;00m\n\u001b[32m   2995\u001b[39m \u001b[33;03m        the box(es). If 0, the sample points are places over\u001b[39;00m\n\u001b[32m   2996\u001b[39m \u001b[33;03m        the center of the box(es). Positive (negative) values\u001b[39;00m\n\u001b[32m   2997\u001b[39m \u001b[33;03m        correspond to positions to the right (left) for\u001b[39;00m\n\u001b[32m   2998\u001b[39m \u001b[33;03m        vertical boxes and above (below) for horizontal boxes\u001b[39;00m\n\u001b[32m   2999\u001b[39m \u001b[33;03m    q1\u001b[39;00m\n\u001b[32m   3000\u001b[39m \u001b[33;03m        Sets the Quartile 1 values. There should be as many\u001b[39;00m\n\u001b[32m   3001\u001b[39m \u001b[33;03m        items as the number of boxes desired.\u001b[39;00m\n\u001b[32m   3002\u001b[39m \u001b[33;03m    q1src\u001b[39;00m\n\u001b[32m   3003\u001b[39m \u001b[33;03m        Sets the source reference on Chart Studio Cloud for\u001b[39;00m\n\u001b[32m   3004\u001b[39m \u001b[33;03m        `q1`.\u001b[39;00m\n\u001b[32m   3005\u001b[39m \u001b[33;03m    q3\u001b[39;00m\n\u001b[32m   3006\u001b[39m \u001b[33;03m        Sets the Quartile 3 values. There should be as many\u001b[39;00m\n\u001b[32m   3007\u001b[39m \u001b[33;03m        items as the number of boxes desired.\u001b[39;00m\n\u001b[32m   3008\u001b[39m \u001b[33;03m    q3src\u001b[39;00m\n\u001b[32m   3009\u001b[39m \u001b[33;03m        Sets the source reference on Chart Studio Cloud for\u001b[39;00m\n\u001b[32m   3010\u001b[39m \u001b[33;03m        `q3`.\u001b[39;00m\n\u001b[32m   3011\u001b[39m \u001b[33;03m    quartilemethod\u001b[39;00m\n\u001b[32m   3012\u001b[39m \u001b[33;03m        Sets the method used to compute the sample's Q1 and Q3\u001b[39;00m\n\u001b[32m   3013\u001b[39m \u001b[33;03m        quartiles. The \"linear\" method uses the 25th percentile\u001b[39;00m\n\u001b[32m   3014\u001b[39m \u001b[33;03m        for Q1 and 75th percentile for Q3 as computed using\u001b[39;00m\n\u001b[32m   3015\u001b[39m \u001b[33;03m        method #10 (listed on\u001b[39;00m\n\u001b[32m   3016\u001b[39m \u001b[33;03m        http://jse.amstat.org/v14n3/langford.html). The\u001b[39;00m\n\u001b[32m   3017\u001b[39m \u001b[33;03m        \"exclusive\" method uses the median to divide the\u001b[39;00m\n\u001b[32m   3018\u001b[39m \u001b[33;03m        ordered dataset into two halves if the sample is odd,\u001b[39;00m\n\u001b[32m   3019\u001b[39m \u001b[33;03m        it does not include the median in either half - Q1 is\u001b[39;00m\n\u001b[32m   3020\u001b[39m \u001b[33;03m        then the median of the lower half and Q3 the median of\u001b[39;00m\n\u001b[32m   3021\u001b[39m \u001b[33;03m        the upper half. The \"inclusive\" method also uses the\u001b[39;00m\n\u001b[32m   3022\u001b[39m \u001b[33;03m        median to divide the ordered dataset into two halves\u001b[39;00m\n\u001b[32m   3023\u001b[39m \u001b[33;03m        but if the sample is odd, it includes the median in\u001b[39;00m\n\u001b[32m   3024\u001b[39m \u001b[33;03m        both halves - Q1 is then the median of the lower half\u001b[39;00m\n\u001b[32m   3025\u001b[39m \u001b[33;03m        and Q3 the median of the upper half.\u001b[39;00m\n\u001b[32m   3026\u001b[39m \u001b[33;03m    sd\u001b[39;00m\n\u001b[32m   3027\u001b[39m \u001b[33;03m        Sets the standard deviation values. There should be as\u001b[39;00m\n\u001b[32m   3028\u001b[39m \u001b[33;03m        many items as the number of boxes desired. This\u001b[39;00m\n\u001b[32m   3029\u001b[39m \u001b[33;03m        attribute has effect only under the q1/median/q3\u001b[39;00m\n\u001b[32m   3030\u001b[39m \u001b[33;03m        signature. If `sd` is not provided but a sample (in `y`\u001b[39;00m\n\u001b[32m   3031\u001b[39m \u001b[33;03m        or `x`) is set, we compute the standard deviation for\u001b[39;00m\n\u001b[32m   3032\u001b[39m \u001b[33;03m        each box using the sample values.\u001b[39;00m\n\u001b[32m   3033\u001b[39m \u001b[33;03m    sdmultiple\u001b[39;00m\n\u001b[32m   3034\u001b[39m \u001b[33;03m        Scales the box size when sizemode=sd Allowing boxes to\u001b[39;00m\n\u001b[32m   3035\u001b[39m \u001b[33;03m        be drawn across any stddev range For example 1-stddev,\u001b[39;00m\n\u001b[32m   3036\u001b[39m \u001b[33;03m        3-stddev, 5-stddev\u001b[39;00m\n\u001b[32m   3037\u001b[39m \u001b[33;03m    sdsrc\u001b[39;00m\n\u001b[32m   3038\u001b[39m \u001b[33;03m        Sets the source reference on Chart Studio Cloud for\u001b[39;00m\n\u001b[32m   3039\u001b[39m \u001b[33;03m        `sd`.\u001b[39;00m\n\u001b[32m   3040\u001b[39m \u001b[33;03m    selected\u001b[39;00m\n\u001b[32m   3041\u001b[39m \u001b[33;03m        :class:`plotly.graph_objects.box.Selected` instance or\u001b[39;00m\n\u001b[32m   3042\u001b[39m \u001b[33;03m        dict with compatible properties\u001b[39;00m\n\u001b[32m   3043\u001b[39m \u001b[33;03m    selectedpoints\u001b[39;00m\n\u001b[32m   3044\u001b[39m \u001b[33;03m        Array containing integer indices of selected points.\u001b[39;00m\n\u001b[32m   3045\u001b[39m \u001b[33;03m        Has an effect only for traces that support selections.\u001b[39;00m\n\u001b[32m   3046\u001b[39m \u001b[33;03m        Note that an empty array means an empty selection where\u001b[39;00m\n\u001b[32m   3047\u001b[39m \u001b[33;03m        the `unselected` are turned on for all points, whereas,\u001b[39;00m\n\u001b[32m   3048\u001b[39m \u001b[33;03m        any other non-array values means no selection all where\u001b[39;00m\n\u001b[32m   3049\u001b[39m \u001b[33;03m        the `selected` and `unselected` styles have no effect.\u001b[39;00m\n\u001b[32m   3050\u001b[39m \u001b[33;03m    showlegend\u001b[39;00m\n\u001b[32m   3051\u001b[39m \u001b[33;03m        Determines whether or not an item corresponding to this\u001b[39;00m\n\u001b[32m   3052\u001b[39m \u001b[33;03m        trace is shown in the legend.\u001b[39;00m\n\u001b[32m   3053\u001b[39m \u001b[33;03m    showwhiskers\u001b[39;00m\n\u001b[32m   3054\u001b[39m \u001b[33;03m        Determines whether or not whiskers are visible.\u001b[39;00m\n\u001b[32m   3055\u001b[39m \u001b[33;03m        Defaults to true for `sizemode` \"quartiles\", false for\u001b[39;00m\n\u001b[32m   3056\u001b[39m \u001b[33;03m        \"sd\".\u001b[39;00m\n\u001b[32m   3057\u001b[39m \u001b[33;03m    sizemode\u001b[39;00m\n\u001b[32m   3058\u001b[39m \u001b[33;03m        Sets the upper and lower bound for the boxes quartiles\u001b[39;00m\n\u001b[32m   3059\u001b[39m \u001b[33;03m        means box is drawn between Q1 and Q3 SD means the box\u001b[39;00m\n\u001b[32m   3060\u001b[39m \u001b[33;03m        is drawn between Mean +- Standard Deviation Argument\u001b[39;00m\n\u001b[32m   3061\u001b[39m \u001b[33;03m        sdmultiple (default 1) to scale the box size So it\u001b[39;00m\n\u001b[32m   3062\u001b[39m \u001b[33;03m        could be drawn 1-stddev, 3-stddev etc\u001b[39;00m\n\u001b[32m   3063\u001b[39m \u001b[33;03m    stream\u001b[39;00m\n\u001b[32m   3064\u001b[39m \u001b[33;03m        :class:`plotly.graph_objects.box.Stream` instance or\u001b[39;00m\n\u001b[32m   3065\u001b[39m \u001b[33;03m        dict with compatible properties\u001b[39;00m\n\u001b[32m   3066\u001b[39m \u001b[33;03m    text\u001b[39;00m\n\u001b[32m   3067\u001b[39m \u001b[33;03m        Sets the text elements associated with each sample\u001b[39;00m\n\u001b[32m   3068\u001b[39m \u001b[33;03m        value. If a single string, the same string appears over\u001b[39;00m\n\u001b[32m   3069\u001b[39m \u001b[33;03m        all the data points. If an array of string, the items\u001b[39;00m\n\u001b[32m   3070\u001b[39m \u001b[33;03m        are mapped in order to the this trace's (x,y)\u001b[39;00m\n\u001b[32m   3071\u001b[39m \u001b[33;03m        coordinates. To be seen, trace `hoverinfo` must contain\u001b[39;00m\n\u001b[32m   3072\u001b[39m \u001b[33;03m        a \"text\" flag.\u001b[39;00m\n\u001b[32m   3073\u001b[39m \u001b[33;03m    textsrc\u001b[39;00m\n\u001b[32m   3074\u001b[39m \u001b[33;03m        Sets the source reference on Chart Studio Cloud for\u001b[39;00m\n\u001b[32m   3075\u001b[39m \u001b[33;03m        `text`.\u001b[39;00m\n\u001b[32m   3076\u001b[39m \u001b[33;03m    uid\u001b[39;00m\n\u001b[32m   3077\u001b[39m \u001b[33;03m        Assign an id to this trace, Use this to provide object\u001b[39;00m\n\u001b[32m   3078\u001b[39m \u001b[33;03m        constancy between traces during animations and\u001b[39;00m\n\u001b[32m   3079\u001b[39m \u001b[33;03m        transitions.\u001b[39;00m\n\u001b[32m   3080\u001b[39m \u001b[33;03m    uirevision\u001b[39;00m\n\u001b[32m   3081\u001b[39m \u001b[33;03m        Controls persistence of some user-driven changes to the\u001b[39;00m\n\u001b[32m   3082\u001b[39m \u001b[33;03m        trace: `constraintrange` in `parcoords` traces, as well\u001b[39;00m\n\u001b[32m   3083\u001b[39m \u001b[33;03m        as some `editable: true` modifications such as `name`\u001b[39;00m\n\u001b[32m   3084\u001b[39m \u001b[33;03m        and `colorbar.title`. Defaults to `layout.uirevision`.\u001b[39;00m\n\u001b[32m   3085\u001b[39m \u001b[33;03m        Note that other user-driven trace attribute changes are\u001b[39;00m\n\u001b[32m   3086\u001b[39m \u001b[33;03m        controlled by `layout` attributes: `trace.visible` is\u001b[39;00m\n\u001b[32m   3087\u001b[39m \u001b[33;03m        controlled by `layout.legend.uirevision`,\u001b[39;00m\n\u001b[32m   3088\u001b[39m \u001b[33;03m        `selectedpoints` is controlled by\u001b[39;00m\n\u001b[32m   3089\u001b[39m \u001b[33;03m        `layout.selectionrevision`, and `colorbar.(x|y)`\u001b[39;00m\n\u001b[32m   3090\u001b[39m \u001b[33;03m        (accessible with `config: {editable: true}`) is\u001b[39;00m\n\u001b[32m   3091\u001b[39m \u001b[33;03m        controlled by `layout.editrevision`. Trace changes are\u001b[39;00m\n\u001b[32m   3092\u001b[39m \u001b[33;03m        tracked by `uid`, which only falls back on trace index\u001b[39;00m\n\u001b[32m   3093\u001b[39m \u001b[33;03m        if no `uid` is provided. So if your app can add/remove\u001b[39;00m\n\u001b[32m   3094\u001b[39m \u001b[33;03m        traces before the end of the `data` array, such that\u001b[39;00m\n\u001b[32m   3095\u001b[39m \u001b[33;03m        the same trace has a different index, you can still\u001b[39;00m\n\u001b[32m   3096\u001b[39m \u001b[33;03m        preserve user-driven changes if you give each trace a\u001b[39;00m\n\u001b[32m   3097\u001b[39m \u001b[33;03m        `uid` that stays with it as it moves.\u001b[39;00m\n\u001b[32m   3098\u001b[39m \u001b[33;03m    unselected\u001b[39;00m\n\u001b[32m   3099\u001b[39m \u001b[33;03m        :class:`plotly.graph_objects.box.Unselected` instance\u001b[39;00m\n\u001b[32m   3100\u001b[39m \u001b[33;03m        or dict with compatible properties\u001b[39;00m\n\u001b[32m   3101\u001b[39m \u001b[33;03m    upperfence\u001b[39;00m\n\u001b[32m   3102\u001b[39m \u001b[33;03m        Sets the upper fence values. There should be as many\u001b[39;00m\n\u001b[32m   3103\u001b[39m \u001b[33;03m        items as the number of boxes desired. This attribute\u001b[39;00m\n\u001b[32m   3104\u001b[39m \u001b[33;03m        has effect only under the q1/median/q3 signature. If\u001b[39;00m\n\u001b[32m   3105\u001b[39m \u001b[33;03m        `upperfence` is not provided but a sample (in `y` or\u001b[39;00m\n\u001b[32m   3106\u001b[39m \u001b[33;03m        `x`) is set, we compute the lower as the last sample\u001b[39;00m\n\u001b[32m   3107\u001b[39m \u001b[33;03m        point above 1.5 times the IQR.\u001b[39;00m\n\u001b[32m   3108\u001b[39m \u001b[33;03m    upperfencesrc\u001b[39;00m\n\u001b[32m   3109\u001b[39m \u001b[33;03m        Sets the source reference on Chart Studio Cloud for\u001b[39;00m\n\u001b[32m   3110\u001b[39m \u001b[33;03m        `upperfence`.\u001b[39;00m\n\u001b[32m   3111\u001b[39m \u001b[33;03m    visible\u001b[39;00m\n\u001b[32m   3112\u001b[39m \u001b[33;03m        Determines whether or not this trace is visible. If\u001b[39;00m\n\u001b[32m   3113\u001b[39m \u001b[33;03m        \"legendonly\", the trace is not drawn, but can appear as\u001b[39;00m\n\u001b[32m   3114\u001b[39m \u001b[33;03m        a legend item (provided that the legend itself is\u001b[39;00m\n\u001b[32m   3115\u001b[39m \u001b[33;03m        visible).\u001b[39;00m\n\u001b[32m   3116\u001b[39m \u001b[33;03m    whiskerwidth\u001b[39;00m\n\u001b[32m   3117\u001b[39m \u001b[33;03m        Sets the width of the whiskers relative to the box'\u001b[39;00m\n\u001b[32m   3118\u001b[39m \u001b[33;03m        width. For example, with 1, the whiskers are as wide as\u001b[39;00m\n\u001b[32m   3119\u001b[39m \u001b[33;03m        the box(es).\u001b[39;00m\n\u001b[32m   3120\u001b[39m \u001b[33;03m    width\u001b[39;00m\n\u001b[32m   3121\u001b[39m \u001b[33;03m        Sets the width of the box in data coordinate If 0\u001b[39;00m\n\u001b[32m   3122\u001b[39m \u001b[33;03m        (default value) the width is automatically selected\u001b[39;00m\n\u001b[32m   3123\u001b[39m \u001b[33;03m        based on the positions of other box traces in the same\u001b[39;00m\n\u001b[32m   3124\u001b[39m \u001b[33;03m        subplot.\u001b[39;00m\n\u001b[32m   3125\u001b[39m \u001b[33;03m    x\u001b[39;00m\n\u001b[32m   3126\u001b[39m \u001b[33;03m        Sets the x sample data or coordinates. See overview for\u001b[39;00m\n\u001b[32m   3127\u001b[39m \u001b[33;03m        more info.\u001b[39;00m\n\u001b[32m   3128\u001b[39m \u001b[33;03m    x0\u001b[39;00m\n\u001b[32m   3129\u001b[39m \u001b[33;03m        Sets the x coordinate for single-box traces or the\u001b[39;00m\n\u001b[32m   3130\u001b[39m \u001b[33;03m        starting coordinate for multi-box traces set using\u001b[39;00m\n\u001b[32m   3131\u001b[39m \u001b[33;03m        q1/median/q3. See overview for more info.\u001b[39;00m\n\u001b[32m   3132\u001b[39m \u001b[33;03m    xaxis\u001b[39;00m\n\u001b[32m   3133\u001b[39m \u001b[33;03m        Sets a reference between this trace's x coordinates and\u001b[39;00m\n\u001b[32m   3134\u001b[39m \u001b[33;03m        a 2D cartesian x axis. If \"x\" (the default value), the\u001b[39;00m\n\u001b[32m   3135\u001b[39m \u001b[33;03m        x coordinates refer to `layout.xaxis`. If \"x2\", the x\u001b[39;00m\n\u001b[32m   3136\u001b[39m \u001b[33;03m        coordinates refer to `layout.xaxis2`, and so on.\u001b[39;00m\n\u001b[32m   3137\u001b[39m \u001b[33;03m    xcalendar\u001b[39;00m\n\u001b[32m   3138\u001b[39m \u001b[33;03m        Sets the calendar system to use with `x` date data.\u001b[39;00m\n\u001b[32m   3139\u001b[39m \u001b[33;03m    xhoverformat\u001b[39;00m\n\u001b[32m   3140\u001b[39m \u001b[33;03m        Sets the hover text formatting rulefor `x`  using d3\u001b[39;00m\n\u001b[32m   3141\u001b[39m \u001b[33;03m        formatting mini-languages which are very similar to\u001b[39;00m\n\u001b[32m   3142\u001b[39m \u001b[33;03m        those in Python. For numbers, see:\u001b[39;00m\n\u001b[32m   3143\u001b[39m \u001b[33;03m        https://github.com/d3/d3-format/tree/v1.4.5#d3-format.\u001b[39;00m\n\u001b[32m   3144\u001b[39m \u001b[33;03m        And for dates see: https://github.com/d3/d3-time-\u001b[39;00m\n\u001b[32m   3145\u001b[39m \u001b[33;03m        format/tree/v2.2.3#locale_format. We add two items to\u001b[39;00m\n\u001b[32m   3146\u001b[39m \u001b[33;03m        d3's date formatter: \"%h\" for half of the year as a\u001b[39;00m\n\u001b[32m   3147\u001b[39m \u001b[33;03m        decimal number as well as \"%{n}f\" for fractional\u001b[39;00m\n\u001b[32m   3148\u001b[39m \u001b[33;03m        seconds with n digits. For example, *2016-10-13\u001b[39;00m\n\u001b[32m   3149\u001b[39m \u001b[33;03m        09:15:23.456* with tickformat \"%H~%M~%S.%2f\" would\u001b[39;00m\n\u001b[32m   3150\u001b[39m \u001b[33;03m        display *09~15~23.46*By default the values are\u001b[39;00m\n\u001b[32m   3151\u001b[39m \u001b[33;03m        formatted using `xaxis.hoverformat`.\u001b[39;00m\n\u001b[32m   3152\u001b[39m \u001b[33;03m    xperiod\u001b[39;00m\n\u001b[32m   3153\u001b[39m \u001b[33;03m        Only relevant when the axis `type` is \"date\". Sets the\u001b[39;00m\n\u001b[32m   3154\u001b[39m \u001b[33;03m        period positioning in milliseconds or \"M<n>\" on the x\u001b[39;00m\n\u001b[32m   3155\u001b[39m \u001b[33;03m        axis. Special values in the form of \"M<n>\" could be\u001b[39;00m\n\u001b[32m   3156\u001b[39m \u001b[33;03m        used to declare the number of months. In this case `n`\u001b[39;00m\n\u001b[32m   3157\u001b[39m \u001b[33;03m        must be a positive integer.\u001b[39;00m\n\u001b[32m   3158\u001b[39m \u001b[33;03m    xperiod0\u001b[39;00m\n\u001b[32m   3159\u001b[39m \u001b[33;03m        Only relevant when the axis `type` is \"date\". Sets the\u001b[39;00m\n\u001b[32m   3160\u001b[39m \u001b[33;03m        base for period positioning in milliseconds or date\u001b[39;00m\n\u001b[32m   3161\u001b[39m \u001b[33;03m        string on the x0 axis. When `x0period` is round number\u001b[39;00m\n\u001b[32m   3162\u001b[39m \u001b[33;03m        of weeks, the `x0period0` by default would be on a\u001b[39;00m\n\u001b[32m   3163\u001b[39m \u001b[33;03m        Sunday i.e. 2000-01-02, otherwise it would be at\u001b[39;00m\n\u001b[32m   3164\u001b[39m \u001b[33;03m        2000-01-01.\u001b[39;00m\n\u001b[32m   3165\u001b[39m \u001b[33;03m    xperiodalignment\u001b[39;00m\n\u001b[32m   3166\u001b[39m \u001b[33;03m        Only relevant when the axis `type` is \"date\". Sets the\u001b[39;00m\n\u001b[32m   3167\u001b[39m \u001b[33;03m        alignment of data points on the x axis.\u001b[39;00m\n\u001b[32m   3168\u001b[39m \u001b[33;03m    xsrc\u001b[39;00m\n\u001b[32m   3169\u001b[39m \u001b[33;03m        Sets the source reference on Chart Studio Cloud for\u001b[39;00m\n\u001b[32m   3170\u001b[39m \u001b[33;03m        `x`.\u001b[39;00m\n\u001b[32m   3171\u001b[39m \u001b[33;03m    y\u001b[39;00m\n\u001b[32m   3172\u001b[39m \u001b[33;03m        Sets the y sample data or coordinates. See overview for\u001b[39;00m\n\u001b[32m   3173\u001b[39m \u001b[33;03m        more info.\u001b[39;00m\n\u001b[32m   3174\u001b[39m \u001b[33;03m    y0\u001b[39;00m\n\u001b[32m   3175\u001b[39m \u001b[33;03m        Sets the y coordinate for single-box traces or the\u001b[39;00m\n\u001b[32m   3176\u001b[39m \u001b[33;03m        starting coordinate for multi-box traces set using\u001b[39;00m\n\u001b[32m   3177\u001b[39m \u001b[33;03m        q1/median/q3. See overview for more info.\u001b[39;00m\n\u001b[32m   3178\u001b[39m \u001b[33;03m    yaxis\u001b[39;00m\n\u001b[32m   3179\u001b[39m \u001b[33;03m        Sets a reference between this trace's y coordinates and\u001b[39;00m\n\u001b[32m   3180\u001b[39m \u001b[33;03m        a 2D cartesian y axis. If \"y\" (the default value), the\u001b[39;00m\n\u001b[32m   3181\u001b[39m \u001b[33;03m        y coordinates refer to `layout.yaxis`. If \"y2\", the y\u001b[39;00m\n\u001b[32m   3182\u001b[39m \u001b[33;03m        coordinates refer to `layout.yaxis2`, and so on.\u001b[39;00m\n\u001b[32m   3183\u001b[39m \u001b[33;03m    ycalendar\u001b[39;00m\n\u001b[32m   3184\u001b[39m \u001b[33;03m        Sets the calendar system to use with `y` date data.\u001b[39;00m\n\u001b[32m   3185\u001b[39m \u001b[33;03m    yhoverformat\u001b[39;00m\n\u001b[32m   3186\u001b[39m \u001b[33;03m        Sets the hover text formatting rulefor `y`  using d3\u001b[39;00m\n\u001b[32m   3187\u001b[39m \u001b[33;03m        formatting mini-languages which are very similar to\u001b[39;00m\n\u001b[32m   3188\u001b[39m \u001b[33;03m        those in Python. For numbers, see:\u001b[39;00m\n\u001b[32m   3189\u001b[39m \u001b[33;03m        https://github.com/d3/d3-format/tree/v1.4.5#d3-format.\u001b[39;00m\n\u001b[32m   3190\u001b[39m \u001b[33;03m        And for dates see: https://github.com/d3/d3-time-\u001b[39;00m\n\u001b[32m   3191\u001b[39m \u001b[33;03m        format/tree/v2.2.3#locale_format. We add two items to\u001b[39;00m\n\u001b[32m   3192\u001b[39m \u001b[33;03m        d3's date formatter: \"%h\" for half of the year as a\u001b[39;00m\n\u001b[32m   3193\u001b[39m \u001b[33;03m        decimal number as well as \"%{n}f\" for fractional\u001b[39;00m\n\u001b[32m   3194\u001b[39m \u001b[33;03m        seconds with n digits. For example, *2016-10-13\u001b[39;00m\n\u001b[32m   3195\u001b[39m \u001b[33;03m        09:15:23.456* with tickformat \"%H~%M~%S.%2f\" would\u001b[39;00m\n\u001b[32m   3196\u001b[39m \u001b[33;03m        display *09~15~23.46*By default the values are\u001b[39;00m\n\u001b[32m   3197\u001b[39m \u001b[33;03m        formatted using `yaxis.hoverformat`.\u001b[39;00m\n\u001b[32m   3198\u001b[39m \u001b[33;03m    yperiod\u001b[39;00m\n\u001b[32m   3199\u001b[39m \u001b[33;03m        Only relevant when the axis `type` is \"date\". Sets the\u001b[39;00m\n\u001b[32m   3200\u001b[39m \u001b[33;03m        period positioning in milliseconds or \"M<n>\" on the y\u001b[39;00m\n\u001b[32m   3201\u001b[39m \u001b[33;03m        axis. Special values in the form of \"M<n>\" could be\u001b[39;00m\n\u001b[32m   3202\u001b[39m \u001b[33;03m        used to declare the number of months. In this case `n`\u001b[39;00m\n\u001b[32m   3203\u001b[39m \u001b[33;03m        must be a positive integer.\u001b[39;00m\n\u001b[32m   3204\u001b[39m \u001b[33;03m    yperiod0\u001b[39;00m\n\u001b[32m   3205\u001b[39m \u001b[33;03m        Only relevant when the axis `type` is \"date\". Sets the\u001b[39;00m\n\u001b[32m   3206\u001b[39m \u001b[33;03m        base for period positioning in milliseconds or date\u001b[39;00m\n\u001b[32m   3207\u001b[39m \u001b[33;03m        string on the y0 axis. When `y0period` is round number\u001b[39;00m\n\u001b[32m   3208\u001b[39m \u001b[33;03m        of weeks, the `y0period0` by default would be on a\u001b[39;00m\n\u001b[32m   3209\u001b[39m \u001b[33;03m        Sunday i.e. 2000-01-02, otherwise it would be at\u001b[39;00m\n\u001b[32m   3210\u001b[39m \u001b[33;03m        2000-01-01.\u001b[39;00m\n\u001b[32m   3211\u001b[39m \u001b[33;03m    yperiodalignment\u001b[39;00m\n\u001b[32m   3212\u001b[39m \u001b[33;03m        Only relevant when the axis `type` is \"date\". Sets the\u001b[39;00m\n\u001b[32m   3213\u001b[39m \u001b[33;03m        alignment of data points on the y axis.\u001b[39;00m\n\u001b[32m   3214\u001b[39m \u001b[33;03m    ysrc\u001b[39;00m\n\u001b[32m   3215\u001b[39m \u001b[33;03m        Sets the source reference on Chart Studio Cloud for\u001b[39;00m\n\u001b[32m   3216\u001b[39m \u001b[33;03m        `y`.\u001b[39;00m\n\u001b[32m   3217\u001b[39m \n\u001b[32m   3218\u001b[39m \u001b[33;03m    Returns\u001b[39;00m\n\u001b[32m   3219\u001b[39m \u001b[33;03m    -------\u001b[39;00m\n\u001b[32m   3220\u001b[39m \u001b[33;03m    Box\u001b[39;00m\n\u001b[32m   3221\u001b[39m \u001b[33;03m    \"\"\"\u001b[39;00m\n\u001b[32m   3222\u001b[39m     \u001b[38;5;28msuper\u001b[39m(Box, \u001b[38;5;28mself\u001b[39m).\u001b[34m__init__\u001b[39m(\u001b[33m\"\u001b[39m\u001b[33mbox\u001b[39m\u001b[33m\"\u001b[39m)\n\u001b[32m   3224\u001b[39m     \u001b[38;5;28;01mif\u001b[39;00m \u001b[33m\"\u001b[39m\u001b[33m_parent\u001b[39m\u001b[33m\"\u001b[39m \u001b[38;5;129;01min\u001b[39;00m kwargs:\n",
      "\u001b[36mFile \u001b[39m\u001b[32mc:\\Users\\ASUS\\AppData\\Local\\Programs\\Python\\Python313\\Lib\\site-packages\\plotly\\basedatatypes.py:4403\u001b[39m, in \u001b[36mBasePlotlyType._set_property\u001b[39m\u001b[34m(self, name, arg, provided)\u001b[39m\n\u001b[32m   4397\u001b[39m \u001b[38;5;28;01mdef\u001b[39;00m\u001b[38;5;250m \u001b[39m\u001b[34m_set_property\u001b[39m(\u001b[38;5;28mself\u001b[39m, name, arg, provided):\n\u001b[32m   4398\u001b[39m \u001b[38;5;250m    \u001b[39m\u001b[33;03m\"\"\"\u001b[39;00m\n\u001b[32m   4399\u001b[39m \u001b[33;03m    Initialize a property of this object using the provided value\u001b[39;00m\n\u001b[32m   4400\u001b[39m \u001b[33;03m    or a value popped from the arguments dictionary. If neither\u001b[39;00m\n\u001b[32m   4401\u001b[39m \u001b[33;03m    is available, do not set the property.\u001b[39;00m\n\u001b[32m   4402\u001b[39m \u001b[33;03m    \"\"\"\u001b[39;00m\n\u001b[32m-> \u001b[39m\u001b[32m4403\u001b[39m     \u001b[43m_set_property_provided_value\u001b[49m\u001b[43m(\u001b[49m\u001b[38;5;28;43mself\u001b[39;49m\u001b[43m,\u001b[49m\u001b[43m \u001b[49m\u001b[43mname\u001b[49m\u001b[43m,\u001b[49m\u001b[43m \u001b[49m\u001b[43marg\u001b[49m\u001b[43m,\u001b[49m\u001b[43m \u001b[49m\u001b[43mprovided\u001b[49m\u001b[43m)\u001b[49m\n",
      "\u001b[36mFile \u001b[39m\u001b[32mc:\\Users\\ASUS\\AppData\\Local\\Programs\\Python\\Python313\\Lib\\site-packages\\plotly\\basedatatypes.py:398\u001b[39m, in \u001b[36m_set_property_provided_value\u001b[39m\u001b[34m(obj, name, arg, provided)\u001b[39m\n\u001b[32m    396\u001b[39m val = provided \u001b[38;5;28;01mif\u001b[39;00m provided \u001b[38;5;129;01mis\u001b[39;00m \u001b[38;5;129;01mnot\u001b[39;00m \u001b[38;5;28;01mNone\u001b[39;00m \u001b[38;5;28;01melse\u001b[39;00m val\n\u001b[32m    397\u001b[39m \u001b[38;5;28;01mif\u001b[39;00m val \u001b[38;5;129;01mis\u001b[39;00m \u001b[38;5;129;01mnot\u001b[39;00m \u001b[38;5;28;01mNone\u001b[39;00m:\n\u001b[32m--> \u001b[39m\u001b[32m398\u001b[39m     \u001b[43mobj\u001b[49m\u001b[43m[\u001b[49m\u001b[43mname\u001b[49m\u001b[43m]\u001b[49m = val\n",
      "\u001b[36mFile \u001b[39m\u001b[32mc:\\Users\\ASUS\\AppData\\Local\\Programs\\Python\\Python313\\Lib\\site-packages\\plotly\\basedatatypes.py:4924\u001b[39m, in \u001b[36mBasePlotlyType.__setitem__\u001b[39m\u001b[34m(self, prop, value)\u001b[39m\n\u001b[32m   4922\u001b[39m \u001b[38;5;66;03m# ### Handle compound property ###\u001b[39;00m\n\u001b[32m   4923\u001b[39m \u001b[38;5;28;01mif\u001b[39;00m \u001b[38;5;28misinstance\u001b[39m(validator, CompoundValidator):\n\u001b[32m-> \u001b[39m\u001b[32m4924\u001b[39m     \u001b[38;5;28;43mself\u001b[39;49m\u001b[43m.\u001b[49m\u001b[43m_set_compound_prop\u001b[49m\u001b[43m(\u001b[49m\u001b[43mprop\u001b[49m\u001b[43m,\u001b[49m\u001b[43m \u001b[49m\u001b[43mvalue\u001b[49m\u001b[43m)\u001b[49m\n\u001b[32m   4926\u001b[39m \u001b[38;5;66;03m# ### Handle compound array property ###\u001b[39;00m\n\u001b[32m   4927\u001b[39m \u001b[38;5;28;01melif\u001b[39;00m \u001b[38;5;28misinstance\u001b[39m(validator, (CompoundArrayValidator, BaseDataValidator)):\n",
      "\u001b[36mFile \u001b[39m\u001b[32mc:\\Users\\ASUS\\AppData\\Local\\Programs\\Python\\Python313\\Lib\\site-packages\\plotly\\basedatatypes.py:5335\u001b[39m, in \u001b[36mBasePlotlyType._set_compound_prop\u001b[39m\u001b[34m(self, prop, val)\u001b[39m\n\u001b[32m   5332\u001b[39m \u001b[38;5;66;03m# Import value\u001b[39;00m\n\u001b[32m   5333\u001b[39m \u001b[38;5;66;03m# ------------\u001b[39;00m\n\u001b[32m   5334\u001b[39m validator = \u001b[38;5;28mself\u001b[39m._get_validator(prop)\n\u001b[32m-> \u001b[39m\u001b[32m5335\u001b[39m val = \u001b[43mvalidator\u001b[49m\u001b[43m.\u001b[49m\u001b[43mvalidate_coerce\u001b[49m\u001b[43m(\u001b[49m\u001b[43mval\u001b[49m\u001b[43m,\u001b[49m\u001b[43m \u001b[49m\u001b[43mskip_invalid\u001b[49m\u001b[43m=\u001b[49m\u001b[38;5;28;43mself\u001b[39;49m\u001b[43m.\u001b[49m\u001b[43m_skip_invalid\u001b[49m\u001b[43m)\u001b[49m\n\u001b[32m   5337\u001b[39m \u001b[38;5;66;03m# Save deep copies of current and new states\u001b[39;00m\n\u001b[32m   5338\u001b[39m \u001b[38;5;66;03m# ------------------------------------------\u001b[39;00m\n\u001b[32m   5339\u001b[39m curr_val = \u001b[38;5;28mself\u001b[39m._compound_props.get(prop, \u001b[38;5;28;01mNone\u001b[39;00m)\n",
      "\u001b[36mFile \u001b[39m\u001b[32mc:\\Users\\ASUS\\AppData\\Local\\Programs\\Python\\Python313\\Lib\\site-packages\\_plotly_utils\\basevalidators.py:2425\u001b[39m, in \u001b[36mCompoundValidator.validate_coerce\u001b[39m\u001b[34m(self, v, skip_invalid, _validate)\u001b[39m\n\u001b[32m   2422\u001b[39m     v = \u001b[38;5;28mself\u001b[39m.data_class()\n\u001b[32m   2424\u001b[39m \u001b[38;5;28;01melif\u001b[39;00m \u001b[38;5;28misinstance\u001b[39m(v, \u001b[38;5;28mdict\u001b[39m):\n\u001b[32m-> \u001b[39m\u001b[32m2425\u001b[39m     v = \u001b[38;5;28;43mself\u001b[39;49m\u001b[43m.\u001b[49m\u001b[43mdata_class\u001b[49m\u001b[43m(\u001b[49m\u001b[43mv\u001b[49m\u001b[43m,\u001b[49m\u001b[43m \u001b[49m\u001b[43mskip_invalid\u001b[49m\u001b[43m=\u001b[49m\u001b[43mskip_invalid\u001b[49m\u001b[43m,\u001b[49m\u001b[43m \u001b[49m\u001b[43m_validate\u001b[49m\u001b[43m=\u001b[49m\u001b[43m_validate\u001b[49m\u001b[43m)\u001b[49m\n\u001b[32m   2427\u001b[39m \u001b[38;5;28;01melif\u001b[39;00m \u001b[38;5;28misinstance\u001b[39m(v, \u001b[38;5;28mself\u001b[39m.data_class):\n\u001b[32m   2428\u001b[39m     \u001b[38;5;66;03m# Copy object\u001b[39;00m\n\u001b[32m   2429\u001b[39m     v = \u001b[38;5;28mself\u001b[39m.data_class(v)\n",
      "\u001b[36mFile \u001b[39m\u001b[32mc:\\Users\\ASUS\\AppData\\Local\\Programs\\Python\\Python313\\Lib\\site-packages\\plotly\\graph_objs\\box\\_marker.py:470\u001b[39m, in \u001b[36mMarker.__init__\u001b[39m\u001b[34m(self, arg, angle, color, line, opacity, outliercolor, size, symbol, **kwargs)\u001b[39m\n\u001b[32m    468\u001b[39m _v = color \u001b[38;5;28;01mif\u001b[39;00m color \u001b[38;5;129;01mis\u001b[39;00m \u001b[38;5;129;01mnot\u001b[39;00m \u001b[38;5;28;01mNone\u001b[39;00m \u001b[38;5;28;01melse\u001b[39;00m _v\n\u001b[32m    469\u001b[39m \u001b[38;5;28;01mif\u001b[39;00m _v \u001b[38;5;129;01mis\u001b[39;00m \u001b[38;5;129;01mnot\u001b[39;00m \u001b[38;5;28;01mNone\u001b[39;00m:\n\u001b[32m--> \u001b[39m\u001b[32m470\u001b[39m     \u001b[38;5;28;43mself\u001b[39;49m\u001b[43m[\u001b[49m\u001b[33;43m\"\u001b[39;49m\u001b[33;43mcolor\u001b[39;49m\u001b[33;43m\"\u001b[39;49m\u001b[43m]\u001b[49m = _v\n\u001b[32m    471\u001b[39m _v = arg.pop(\u001b[33m\"\u001b[39m\u001b[33mline\u001b[39m\u001b[33m\"\u001b[39m, \u001b[38;5;28;01mNone\u001b[39;00m)\n\u001b[32m    472\u001b[39m _v = line \u001b[38;5;28;01mif\u001b[39;00m line \u001b[38;5;129;01mis\u001b[39;00m \u001b[38;5;129;01mnot\u001b[39;00m \u001b[38;5;28;01mNone\u001b[39;00m \u001b[38;5;28;01melse\u001b[39;00m _v\n",
      "\u001b[36mFile \u001b[39m\u001b[32mc:\\Users\\ASUS\\AppData\\Local\\Programs\\Python\\Python313\\Lib\\site-packages\\plotly\\basedatatypes.py:4932\u001b[39m, in \u001b[36mBasePlotlyType.__setitem__\u001b[39m\u001b[34m(self, prop, value)\u001b[39m\n\u001b[32m   4928\u001b[39m         \u001b[38;5;28mself\u001b[39m._set_array_prop(prop, value)\n\u001b[32m   4930\u001b[39m     \u001b[38;5;66;03m# ### Handle simple property ###\u001b[39;00m\n\u001b[32m   4931\u001b[39m     \u001b[38;5;28;01melse\u001b[39;00m:\n\u001b[32m-> \u001b[39m\u001b[32m4932\u001b[39m         \u001b[38;5;28;43mself\u001b[39;49m\u001b[43m.\u001b[49m\u001b[43m_set_prop\u001b[49m\u001b[43m(\u001b[49m\u001b[43mprop\u001b[49m\u001b[43m,\u001b[49m\u001b[43m \u001b[49m\u001b[43mvalue\u001b[49m\u001b[43m)\u001b[49m\n\u001b[32m   4933\u001b[39m \u001b[38;5;28;01melse\u001b[39;00m:\n\u001b[32m   4934\u001b[39m     \u001b[38;5;66;03m# Make sure properties dict is initialized\u001b[39;00m\n\u001b[32m   4935\u001b[39m     \u001b[38;5;28mself\u001b[39m._init_props()\n",
      "\u001b[36mFile \u001b[39m\u001b[32mc:\\Users\\ASUS\\AppData\\Local\\Programs\\Python\\Python313\\Lib\\site-packages\\plotly\\basedatatypes.py:5276\u001b[39m, in \u001b[36mBasePlotlyType._set_prop\u001b[39m\u001b[34m(self, prop, val)\u001b[39m\n\u001b[32m   5274\u001b[39m         \u001b[38;5;28;01mreturn\u001b[39;00m\n\u001b[32m   5275\u001b[39m     \u001b[38;5;28;01melse\u001b[39;00m:\n\u001b[32m-> \u001b[39m\u001b[32m5276\u001b[39m         \u001b[38;5;28;01mraise\u001b[39;00m err\n\u001b[32m   5278\u001b[39m \u001b[38;5;66;03m# val is None\u001b[39;00m\n\u001b[32m   5279\u001b[39m \u001b[38;5;66;03m# -----------\u001b[39;00m\n\u001b[32m   5280\u001b[39m \u001b[38;5;28;01mif\u001b[39;00m val \u001b[38;5;129;01mis\u001b[39;00m \u001b[38;5;28;01mNone\u001b[39;00m:\n\u001b[32m   5281\u001b[39m     \u001b[38;5;66;03m# Check if we should send null update\u001b[39;00m\n",
      "\u001b[36mFile \u001b[39m\u001b[32mc:\\Users\\ASUS\\AppData\\Local\\Programs\\Python\\Python313\\Lib\\site-packages\\plotly\\basedatatypes.py:5271\u001b[39m, in \u001b[36mBasePlotlyType._set_prop\u001b[39m\u001b[34m(self, prop, val)\u001b[39m\n\u001b[32m   5268\u001b[39m validator = \u001b[38;5;28mself\u001b[39m._get_validator(prop)\n\u001b[32m   5270\u001b[39m \u001b[38;5;28;01mtry\u001b[39;00m:\n\u001b[32m-> \u001b[39m\u001b[32m5271\u001b[39m     val = \u001b[43mvalidator\u001b[49m\u001b[43m.\u001b[49m\u001b[43mvalidate_coerce\u001b[49m\u001b[43m(\u001b[49m\u001b[43mval\u001b[49m\u001b[43m)\u001b[49m\n\u001b[32m   5272\u001b[39m \u001b[38;5;28;01mexcept\u001b[39;00m \u001b[38;5;167;01mValueError\u001b[39;00m \u001b[38;5;28;01mas\u001b[39;00m err:\n\u001b[32m   5273\u001b[39m     \u001b[38;5;28;01mif\u001b[39;00m \u001b[38;5;28mself\u001b[39m._skip_invalid:\n",
      "\u001b[36mFile \u001b[39m\u001b[32mc:\\Users\\ASUS\\AppData\\Local\\Programs\\Python\\Python313\\Lib\\site-packages\\_plotly_utils\\basevalidators.py:1374\u001b[39m, in \u001b[36mColorValidator.validate_coerce\u001b[39m\u001b[34m(self, v, should_raise)\u001b[39m\n\u001b[32m   1372\u001b[39m     validated_v = \u001b[38;5;28mself\u001b[39m.vc_scalar(v)\n\u001b[32m   1373\u001b[39m     \u001b[38;5;28;01mif\u001b[39;00m validated_v \u001b[38;5;129;01mis\u001b[39;00m \u001b[38;5;28;01mNone\u001b[39;00m \u001b[38;5;129;01mand\u001b[39;00m should_raise:\n\u001b[32m-> \u001b[39m\u001b[32m1374\u001b[39m         \u001b[38;5;28;43mself\u001b[39;49m\u001b[43m.\u001b[49m\u001b[43mraise_invalid_val\u001b[49m\u001b[43m(\u001b[49m\u001b[43mv\u001b[49m\u001b[43m)\u001b[49m\n\u001b[32m   1376\u001b[39m     v = validated_v\n\u001b[32m   1378\u001b[39m \u001b[38;5;28;01mreturn\u001b[39;00m v\n",
      "\u001b[36mFile \u001b[39m\u001b[32mc:\\Users\\ASUS\\AppData\\Local\\Programs\\Python\\Python313\\Lib\\site-packages\\_plotly_utils\\basevalidators.py:298\u001b[39m, in \u001b[36mBaseValidator.raise_invalid_val\u001b[39m\u001b[34m(self, v, inds)\u001b[39m\n\u001b[32m    295\u001b[39m             \u001b[38;5;28;01mfor\u001b[39;00m i \u001b[38;5;129;01min\u001b[39;00m inds:\n\u001b[32m    296\u001b[39m                 name += \u001b[33m\"\u001b[39m\u001b[33m[\u001b[39m\u001b[33m\"\u001b[39m + \u001b[38;5;28mstr\u001b[39m(i) + \u001b[33m\"\u001b[39m\u001b[33m]\u001b[39m\u001b[33m\"\u001b[39m\n\u001b[32m--> \u001b[39m\u001b[32m298\u001b[39m         \u001b[38;5;28;01mraise\u001b[39;00m \u001b[38;5;167;01mValueError\u001b[39;00m(\n\u001b[32m    299\u001b[39m \u001b[38;5;250m            \u001b[39m\u001b[33;03m\"\"\"\u001b[39;00m\n\u001b[32m    300\u001b[39m \u001b[33;03m    Invalid value of type {typ} received for the '{name}' property of {pname}\u001b[39;00m\n\u001b[32m    301\u001b[39m \u001b[33;03m        Received value: {v}\u001b[39;00m\n\u001b[32m    302\u001b[39m \n\u001b[32m    303\u001b[39m \u001b[33;03m{valid_clr_desc}\"\"\"\u001b[39;00m.format(\n\u001b[32m    304\u001b[39m                 name=name,\n\u001b[32m    305\u001b[39m                 pname=\u001b[38;5;28mself\u001b[39m.parent_name,\n\u001b[32m    306\u001b[39m                 typ=type_str(v),\n\u001b[32m    307\u001b[39m                 v=\u001b[38;5;28mrepr\u001b[39m(v),\n\u001b[32m    308\u001b[39m                 valid_clr_desc=\u001b[38;5;28mself\u001b[39m.description(),\n\u001b[32m    309\u001b[39m             )\n\u001b[32m    310\u001b[39m         )\n",
      "\u001b[31mValueError\u001b[39m: \n    Invalid value of type 'builtins.str' received for the 'color' property of box.marker\n        Received value: 'rgba(255, 153, 51, np.float64(1.0))'\n\n    The 'color' property is a color and may be specified as:\n      - A hex string (e.g. '#ff0000')\n      - An rgb/rgba string (e.g. 'rgb(255,0,0)')\n      - An hsl/hsla string (e.g. 'hsl(0,100%,50%)')\n      - An hsv/hsva string (e.g. 'hsv(0,100%,100%)')\n      - A named CSS color: see https://plotly.com/python/css-colors/ for a list"
     ]
    }
   ],
   "source": [
    "tips[['total_bill', 'day']].iplot(kind = 'box', x = 'total_bill', y = 'day')"
   ]
  },
  {
   "cell_type": "code",
   "execution_count": null,
   "id": "4606bcc4",
   "metadata": {},
   "outputs": [],
   "source": []
  }
 ],
 "metadata": {
  "kernelspec": {
   "display_name": "Python 3",
   "language": "python",
   "name": "python3"
  },
  "language_info": {
   "codemirror_mode": {
    "name": "ipython",
    "version": 3
   },
   "file_extension": ".py",
   "mimetype": "text/x-python",
   "name": "python",
   "nbconvert_exporter": "python",
   "pygments_lexer": "ipython3",
   "version": "3.13.7"
  }
 },
 "nbformat": 4,
 "nbformat_minor": 5
}
