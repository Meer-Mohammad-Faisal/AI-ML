{
 "cells": [
  {
   "cell_type": "markdown",
   "id": "9d005e30",
   "metadata": {},
   "source": [
    "# Categoraical Data Plots\n",
    "\n",
    "Now let's discuss using seaborn to plot categorical data! there are a few main plot types for this:\n",
    "\n",
    "boxplot\n",
    "violinplot\n",
    "stripplot\n",
    "swarmplot\n",
    "barplot\n",
    "countplot\n",
    "\n",
    "Let's go throw example of each!"
   ]
  }
 ],
 "metadata": {
  "language_info": {
   "name": "python"
  }
 },
 "nbformat": 4,
 "nbformat_minor": 5
}
