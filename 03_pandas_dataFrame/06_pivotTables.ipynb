{
 "cells": [
  {
   "cell_type": "markdown",
   "id": "f36fd301",
   "metadata": {},
   "source": [
    "# pivot tables"
   ]
  },
  {
   "cell_type": "code",
   "execution_count": 1,
   "id": "319a7042",
   "metadata": {},
   "outputs": [],
   "source": [
    "import numpy as np \n",
    "import pandas as pd"
   ]
  },
  {
   "cell_type": "code",
   "execution_count": 3,
   "id": "b98c2c37",
   "metadata": {},
   "outputs": [
    {
     "data": {
      "application/vnd.microsoft.datawrangler.viewer.v0+json": {
       "columns": [
        {
         "name": "index",
         "rawType": "int64",
         "type": "integer"
        },
        {
         "name": "Date",
         "rawType": "datetime64[ns]",
         "type": "datetime"
        },
        {
         "name": "Product",
         "rawType": "object",
         "type": "string"
        },
        {
         "name": "Region",
         "rawType": "object",
         "type": "string"
        },
        {
         "name": "Sales",
         "rawType": "int32",
         "type": "integer"
        },
        {
         "name": "Units",
         "rawType": "int32",
         "type": "integer"
        },
        {
         "name": "Rep",
         "rawType": "object",
         "type": "string"
        },
        {
         "name": "Month",
         "rawType": "object",
         "type": "string"
        },
        {
         "name": "Quarter",
         "rawType": "object",
         "type": "string"
        }
       ],
       "ref": "4eb19a5f-03b4-4843-9d80-48243678278e",
       "rows": [
        [
         "0",
         "2023-01-01 00:00:00",
         "A",
         "East",
         "497",
         "24",
         "Jhon",
         "January",
         "Q1"
        ],
        [
         "1",
         "2023-01-02 00:00:00",
         "B",
         "West",
         "922",
         "26",
         "Mary",
         "January",
         "Q1"
        ],
        [
         "2",
         "2023-01-03 00:00:00",
         "C",
         "North",
         "541",
         "22",
         "Bob",
         "January",
         "Q1"
        ],
        [
         "3",
         "2023-01-04 00:00:00",
         "D",
         "South",
         "798",
         "20",
         "Alice",
         "January",
         "Q1"
        ],
        [
         "4",
         "2023-01-05 00:00:00",
         "A",
         "East",
         "831",
         "17",
         "Jhon",
         "January",
         "Q1"
        ],
        [
         "5",
         "2023-01-06 00:00:00",
         "B",
         "West",
         "994",
         "83",
         "Mary",
         "January",
         "Q1"
        ],
        [
         "6",
         "2023-01-07 00:00:00",
         "C",
         "North",
         "354",
         "16",
         "Bob",
         "January",
         "Q1"
        ],
        [
         "7",
         "2023-01-08 00:00:00",
         "D",
         "South",
         "552",
         "52",
         "Alice",
         "January",
         "Q1"
        ],
        [
         "8",
         "2023-01-09 00:00:00",
         "A",
         "East",
         "706",
         "77",
         "Jhon",
         "January",
         "Q1"
        ],
        [
         "9",
         "2023-01-10 00:00:00",
         "B",
         "West",
         "234",
         "54",
         "Mary",
         "January",
         "Q1"
        ],
        [
         "10",
         "2023-01-11 00:00:00",
         "C",
         "North",
         "334",
         "47",
         "Bob",
         "January",
         "Q1"
        ],
        [
         "11",
         "2023-01-12 00:00:00",
         "D",
         "South",
         "312",
         "99",
         "Alice",
         "January",
         "Q1"
        ],
        [
         "12",
         "2023-01-13 00:00:00",
         "A",
         "East",
         "936",
         "30",
         "Jhon",
         "January",
         "Q1"
        ],
        [
         "13",
         "2023-01-14 00:00:00",
         "B",
         "West",
         "334",
         "27",
         "Mary",
         "January",
         "Q1"
        ],
        [
         "14",
         "2023-01-15 00:00:00",
         "C",
         "North",
         "914",
         "50",
         "Bob",
         "January",
         "Q1"
        ],
        [
         "15",
         "2023-01-16 00:00:00",
         "D",
         "South",
         "841",
         "92",
         "Alice",
         "January",
         "Q1"
        ],
        [
         "16",
         "2023-01-17 00:00:00",
         "A",
         "East",
         "933",
         "75",
         "Jhon",
         "January",
         "Q1"
        ],
        [
         "17",
         "2023-01-18 00:00:00",
         "B",
         "West",
         "330",
         "91",
         "Mary",
         "January",
         "Q1"
        ],
        [
         "18",
         "2023-01-19 00:00:00",
         "C",
         "North",
         "922",
         "99",
         "Bob",
         "January",
         "Q1"
        ],
        [
         "19",
         "2023-01-20 00:00:00",
         "D",
         "South",
         "796",
         "79",
         "Alice",
         "January",
         "Q1"
        ]
       ],
       "shape": {
        "columns": 8,
        "rows": 20
       }
      },
      "text/html": [
       "<div>\n",
       "<style scoped>\n",
       "    .dataframe tbody tr th:only-of-type {\n",
       "        vertical-align: middle;\n",
       "    }\n",
       "\n",
       "    .dataframe tbody tr th {\n",
       "        vertical-align: top;\n",
       "    }\n",
       "\n",
       "    .dataframe thead th {\n",
       "        text-align: right;\n",
       "    }\n",
       "</style>\n",
       "<table border=\"1\" class=\"dataframe\">\n",
       "  <thead>\n",
       "    <tr style=\"text-align: right;\">\n",
       "      <th></th>\n",
       "      <th>Date</th>\n",
       "      <th>Product</th>\n",
       "      <th>Region</th>\n",
       "      <th>Sales</th>\n",
       "      <th>Units</th>\n",
       "      <th>Rep</th>\n",
       "      <th>Month</th>\n",
       "      <th>Quarter</th>\n",
       "    </tr>\n",
       "  </thead>\n",
       "  <tbody>\n",
       "    <tr>\n",
       "      <th>0</th>\n",
       "      <td>2023-01-01</td>\n",
       "      <td>A</td>\n",
       "      <td>East</td>\n",
       "      <td>497</td>\n",
       "      <td>24</td>\n",
       "      <td>Jhon</td>\n",
       "      <td>January</td>\n",
       "      <td>Q1</td>\n",
       "    </tr>\n",
       "    <tr>\n",
       "      <th>1</th>\n",
       "      <td>2023-01-02</td>\n",
       "      <td>B</td>\n",
       "      <td>West</td>\n",
       "      <td>922</td>\n",
       "      <td>26</td>\n",
       "      <td>Mary</td>\n",
       "      <td>January</td>\n",
       "      <td>Q1</td>\n",
       "    </tr>\n",
       "    <tr>\n",
       "      <th>2</th>\n",
       "      <td>2023-01-03</td>\n",
       "      <td>C</td>\n",
       "      <td>North</td>\n",
       "      <td>541</td>\n",
       "      <td>22</td>\n",
       "      <td>Bob</td>\n",
       "      <td>January</td>\n",
       "      <td>Q1</td>\n",
       "    </tr>\n",
       "    <tr>\n",
       "      <th>3</th>\n",
       "      <td>2023-01-04</td>\n",
       "      <td>D</td>\n",
       "      <td>South</td>\n",
       "      <td>798</td>\n",
       "      <td>20</td>\n",
       "      <td>Alice</td>\n",
       "      <td>January</td>\n",
       "      <td>Q1</td>\n",
       "    </tr>\n",
       "    <tr>\n",
       "      <th>4</th>\n",
       "      <td>2023-01-05</td>\n",
       "      <td>A</td>\n",
       "      <td>East</td>\n",
       "      <td>831</td>\n",
       "      <td>17</td>\n",
       "      <td>Jhon</td>\n",
       "      <td>January</td>\n",
       "      <td>Q1</td>\n",
       "    </tr>\n",
       "    <tr>\n",
       "      <th>5</th>\n",
       "      <td>2023-01-06</td>\n",
       "      <td>B</td>\n",
       "      <td>West</td>\n",
       "      <td>994</td>\n",
       "      <td>83</td>\n",
       "      <td>Mary</td>\n",
       "      <td>January</td>\n",
       "      <td>Q1</td>\n",
       "    </tr>\n",
       "    <tr>\n",
       "      <th>6</th>\n",
       "      <td>2023-01-07</td>\n",
       "      <td>C</td>\n",
       "      <td>North</td>\n",
       "      <td>354</td>\n",
       "      <td>16</td>\n",
       "      <td>Bob</td>\n",
       "      <td>January</td>\n",
       "      <td>Q1</td>\n",
       "    </tr>\n",
       "    <tr>\n",
       "      <th>7</th>\n",
       "      <td>2023-01-08</td>\n",
       "      <td>D</td>\n",
       "      <td>South</td>\n",
       "      <td>552</td>\n",
       "      <td>52</td>\n",
       "      <td>Alice</td>\n",
       "      <td>January</td>\n",
       "      <td>Q1</td>\n",
       "    </tr>\n",
       "    <tr>\n",
       "      <th>8</th>\n",
       "      <td>2023-01-09</td>\n",
       "      <td>A</td>\n",
       "      <td>East</td>\n",
       "      <td>706</td>\n",
       "      <td>77</td>\n",
       "      <td>Jhon</td>\n",
       "      <td>January</td>\n",
       "      <td>Q1</td>\n",
       "    </tr>\n",
       "    <tr>\n",
       "      <th>9</th>\n",
       "      <td>2023-01-10</td>\n",
       "      <td>B</td>\n",
       "      <td>West</td>\n",
       "      <td>234</td>\n",
       "      <td>54</td>\n",
       "      <td>Mary</td>\n",
       "      <td>January</td>\n",
       "      <td>Q1</td>\n",
       "    </tr>\n",
       "    <tr>\n",
       "      <th>10</th>\n",
       "      <td>2023-01-11</td>\n",
       "      <td>C</td>\n",
       "      <td>North</td>\n",
       "      <td>334</td>\n",
       "      <td>47</td>\n",
       "      <td>Bob</td>\n",
       "      <td>January</td>\n",
       "      <td>Q1</td>\n",
       "    </tr>\n",
       "    <tr>\n",
       "      <th>11</th>\n",
       "      <td>2023-01-12</td>\n",
       "      <td>D</td>\n",
       "      <td>South</td>\n",
       "      <td>312</td>\n",
       "      <td>99</td>\n",
       "      <td>Alice</td>\n",
       "      <td>January</td>\n",
       "      <td>Q1</td>\n",
       "    </tr>\n",
       "    <tr>\n",
       "      <th>12</th>\n",
       "      <td>2023-01-13</td>\n",
       "      <td>A</td>\n",
       "      <td>East</td>\n",
       "      <td>936</td>\n",
       "      <td>30</td>\n",
       "      <td>Jhon</td>\n",
       "      <td>January</td>\n",
       "      <td>Q1</td>\n",
       "    </tr>\n",
       "    <tr>\n",
       "      <th>13</th>\n",
       "      <td>2023-01-14</td>\n",
       "      <td>B</td>\n",
       "      <td>West</td>\n",
       "      <td>334</td>\n",
       "      <td>27</td>\n",
       "      <td>Mary</td>\n",
       "      <td>January</td>\n",
       "      <td>Q1</td>\n",
       "    </tr>\n",
       "    <tr>\n",
       "      <th>14</th>\n",
       "      <td>2023-01-15</td>\n",
       "      <td>C</td>\n",
       "      <td>North</td>\n",
       "      <td>914</td>\n",
       "      <td>50</td>\n",
       "      <td>Bob</td>\n",
       "      <td>January</td>\n",
       "      <td>Q1</td>\n",
       "    </tr>\n",
       "    <tr>\n",
       "      <th>15</th>\n",
       "      <td>2023-01-16</td>\n",
       "      <td>D</td>\n",
       "      <td>South</td>\n",
       "      <td>841</td>\n",
       "      <td>92</td>\n",
       "      <td>Alice</td>\n",
       "      <td>January</td>\n",
       "      <td>Q1</td>\n",
       "    </tr>\n",
       "    <tr>\n",
       "      <th>16</th>\n",
       "      <td>2023-01-17</td>\n",
       "      <td>A</td>\n",
       "      <td>East</td>\n",
       "      <td>933</td>\n",
       "      <td>75</td>\n",
       "      <td>Jhon</td>\n",
       "      <td>January</td>\n",
       "      <td>Q1</td>\n",
       "    </tr>\n",
       "    <tr>\n",
       "      <th>17</th>\n",
       "      <td>2023-01-18</td>\n",
       "      <td>B</td>\n",
       "      <td>West</td>\n",
       "      <td>330</td>\n",
       "      <td>91</td>\n",
       "      <td>Mary</td>\n",
       "      <td>January</td>\n",
       "      <td>Q1</td>\n",
       "    </tr>\n",
       "    <tr>\n",
       "      <th>18</th>\n",
       "      <td>2023-01-19</td>\n",
       "      <td>C</td>\n",
       "      <td>North</td>\n",
       "      <td>922</td>\n",
       "      <td>99</td>\n",
       "      <td>Bob</td>\n",
       "      <td>January</td>\n",
       "      <td>Q1</td>\n",
       "    </tr>\n",
       "    <tr>\n",
       "      <th>19</th>\n",
       "      <td>2023-01-20</td>\n",
       "      <td>D</td>\n",
       "      <td>South</td>\n",
       "      <td>796</td>\n",
       "      <td>79</td>\n",
       "      <td>Alice</td>\n",
       "      <td>January</td>\n",
       "      <td>Q1</td>\n",
       "    </tr>\n",
       "  </tbody>\n",
       "</table>\n",
       "</div>"
      ],
      "text/plain": [
       "         Date Product Region  Sales  Units    Rep    Month Quarter\n",
       "0  2023-01-01       A   East    497     24   Jhon  January      Q1\n",
       "1  2023-01-02       B   West    922     26   Mary  January      Q1\n",
       "2  2023-01-03       C  North    541     22    Bob  January      Q1\n",
       "3  2023-01-04       D  South    798     20  Alice  January      Q1\n",
       "4  2023-01-05       A   East    831     17   Jhon  January      Q1\n",
       "5  2023-01-06       B   West    994     83   Mary  January      Q1\n",
       "6  2023-01-07       C  North    354     16    Bob  January      Q1\n",
       "7  2023-01-08       D  South    552     52  Alice  January      Q1\n",
       "8  2023-01-09       A   East    706     77   Jhon  January      Q1\n",
       "9  2023-01-10       B   West    234     54   Mary  January      Q1\n",
       "10 2023-01-11       C  North    334     47    Bob  January      Q1\n",
       "11 2023-01-12       D  South    312     99  Alice  January      Q1\n",
       "12 2023-01-13       A   East    936     30   Jhon  January      Q1\n",
       "13 2023-01-14       B   West    334     27   Mary  January      Q1\n",
       "14 2023-01-15       C  North    914     50    Bob  January      Q1\n",
       "15 2023-01-16       D  South    841     92  Alice  January      Q1\n",
       "16 2023-01-17       A   East    933     75   Jhon  January      Q1\n",
       "17 2023-01-18       B   West    330     91   Mary  January      Q1\n",
       "18 2023-01-19       C  North    922     99    Bob  January      Q1\n",
       "19 2023-01-20       D  South    796     79  Alice  January      Q1"
      ]
     },
     "execution_count": 3,
     "metadata": {},
     "output_type": "execute_result"
    }
   ],
   "source": [
    "data = {\n",
    "    'Date': pd.date_range(start='2023-01-01', periods=20),\n",
    "    'Product': ['A', 'B', 'C', 'D'] * 5,\n",
    "    'Region': ['East', 'West', 'North', 'South'] * 5,\n",
    "    'Sales': np.random.randint(100, 1000, 20),\n",
    "    'Units': np.random.randint(10, 100, 20),\n",
    "    'Rep': ['Jhon', 'Mary', 'Bob', 'Alice'] * 5,\n",
    "}\n",
    "\n",
    "df = pd.DataFrame(data)\n",
    "df['Month'] = df['Date'].dt.month_name()\n",
    "df['Quarter'] = 'Q' + df['Date'].dt.quarter.astype(str)\n",
    "df"
   ]
  },
  {
   "cell_type": "code",
   "execution_count": 8,
   "id": "b6e73094",
   "metadata": {},
   "outputs": [
    {
     "data": {
      "application/vnd.microsoft.datawrangler.viewer.v0+json": {
       "columns": [
        {
         "name": "Region",
         "rawType": "object",
         "type": "string"
        },
        {
         "name": "A",
         "rawType": "float64",
         "type": "float"
        },
        {
         "name": "B",
         "rawType": "float64",
         "type": "float"
        },
        {
         "name": "C",
         "rawType": "float64",
         "type": "float"
        },
        {
         "name": "D",
         "rawType": "float64",
         "type": "float"
        }
       ],
       "ref": "8f27088d-0287-4588-90a2-6fe9893a2f87",
       "rows": [
        [
         "East",
         "3903.0",
         null,
         null,
         null
        ],
        [
         "North",
         null,
         null,
         "3065.0",
         null
        ],
        [
         "South",
         null,
         null,
         null,
         "3299.0"
        ],
        [
         "West",
         null,
         "2814.0",
         null,
         null
        ]
       ],
       "shape": {
        "columns": 4,
        "rows": 4
       }
      },
      "text/html": [
       "<div>\n",
       "<style scoped>\n",
       "    .dataframe tbody tr th:only-of-type {\n",
       "        vertical-align: middle;\n",
       "    }\n",
       "\n",
       "    .dataframe tbody tr th {\n",
       "        vertical-align: top;\n",
       "    }\n",
       "\n",
       "    .dataframe thead th {\n",
       "        text-align: right;\n",
       "    }\n",
       "</style>\n",
       "<table border=\"1\" class=\"dataframe\">\n",
       "  <thead>\n",
       "    <tr style=\"text-align: right;\">\n",
       "      <th>Product</th>\n",
       "      <th>A</th>\n",
       "      <th>B</th>\n",
       "      <th>C</th>\n",
       "      <th>D</th>\n",
       "    </tr>\n",
       "    <tr>\n",
       "      <th>Region</th>\n",
       "      <th></th>\n",
       "      <th></th>\n",
       "      <th></th>\n",
       "      <th></th>\n",
       "    </tr>\n",
       "  </thead>\n",
       "  <tbody>\n",
       "    <tr>\n",
       "      <th>East</th>\n",
       "      <td>3903.0</td>\n",
       "      <td>NaN</td>\n",
       "      <td>NaN</td>\n",
       "      <td>NaN</td>\n",
       "    </tr>\n",
       "    <tr>\n",
       "      <th>North</th>\n",
       "      <td>NaN</td>\n",
       "      <td>NaN</td>\n",
       "      <td>3065.0</td>\n",
       "      <td>NaN</td>\n",
       "    </tr>\n",
       "    <tr>\n",
       "      <th>South</th>\n",
       "      <td>NaN</td>\n",
       "      <td>NaN</td>\n",
       "      <td>NaN</td>\n",
       "      <td>3299.0</td>\n",
       "    </tr>\n",
       "    <tr>\n",
       "      <th>West</th>\n",
       "      <td>NaN</td>\n",
       "      <td>2814.0</td>\n",
       "      <td>NaN</td>\n",
       "      <td>NaN</td>\n",
       "    </tr>\n",
       "  </tbody>\n",
       "</table>\n",
       "</div>"
      ],
      "text/plain": [
       "Product       A       B       C       D\n",
       "Region                                 \n",
       "East     3903.0     NaN     NaN     NaN\n",
       "North       NaN     NaN  3065.0     NaN\n",
       "South       NaN     NaN     NaN  3299.0\n",
       "West        NaN  2814.0     NaN     NaN"
      ]
     },
     "execution_count": 8,
     "metadata": {},
     "output_type": "execute_result"
    }
   ],
   "source": [
    "pd.pivot_table(df, values='Sales', index='Region', columns='Product', aggfunc = 'sum')"
   ]
  },
  {
   "cell_type": "code",
   "execution_count": null,
   "id": "48ca5a4f",
   "metadata": {},
   "outputs": [
    {
     "data": {
      "application/vnd.microsoft.datawrangler.viewer.v0+json": {
       "columns": [
        {
         "name": "Region",
         "rawType": "object",
         "type": "string"
        },
        {
         "name": "('Sales', 'A')",
         "rawType": "float64",
         "type": "float"
        },
        {
         "name": "('Sales', 'B')",
         "rawType": "float64",
         "type": "float"
        },
        {
         "name": "('Sales', 'C')",
         "rawType": "float64",
         "type": "float"
        },
        {
         "name": "('Sales', 'D')",
         "rawType": "float64",
         "type": "float"
        },
        {
         "name": "('Units', 'A')",
         "rawType": "float64",
         "type": "float"
        },
        {
         "name": "('Units', 'B')",
         "rawType": "float64",
         "type": "float"
        },
        {
         "name": "('Units', 'C')",
         "rawType": "float64",
         "type": "float"
        },
        {
         "name": "('Units', 'D')",
         "rawType": "float64",
         "type": "float"
        }
       ],
       "ref": "cf5b7938-3f67-4bef-8bd6-3f2a66ee255b",
       "rows": [
        [
         "East",
         "780.6",
         null,
         null,
         null,
         "44.6",
         null,
         null,
         null
        ],
        [
         "North",
         null,
         null,
         "613.0",
         null,
         null,
         null,
         "46.8",
         null
        ],
        [
         "South",
         null,
         null,
         null,
         "659.8",
         null,
         null,
         null,
         "68.4"
        ],
        [
         "West",
         null,
         "562.8",
         null,
         null,
         null,
         "56.2",
         null,
         null
        ]
       ],
       "shape": {
        "columns": 8,
        "rows": 4
       }
      },
      "text/html": [
       "<div>\n",
       "<style scoped>\n",
       "    .dataframe tbody tr th:only-of-type {\n",
       "        vertical-align: middle;\n",
       "    }\n",
       "\n",
       "    .dataframe tbody tr th {\n",
       "        vertical-align: top;\n",
       "    }\n",
       "\n",
       "    .dataframe thead tr th {\n",
       "        text-align: left;\n",
       "    }\n",
       "\n",
       "    .dataframe thead tr:last-of-type th {\n",
       "        text-align: right;\n",
       "    }\n",
       "</style>\n",
       "<table border=\"1\" class=\"dataframe\">\n",
       "  <thead>\n",
       "    <tr>\n",
       "      <th></th>\n",
       "      <th colspan=\"4\" halign=\"left\">Sales</th>\n",
       "      <th colspan=\"4\" halign=\"left\">Units</th>\n",
       "    </tr>\n",
       "    <tr>\n",
       "      <th>Product</th>\n",
       "      <th>A</th>\n",
       "      <th>B</th>\n",
       "      <th>C</th>\n",
       "      <th>D</th>\n",
       "      <th>A</th>\n",
       "      <th>B</th>\n",
       "      <th>C</th>\n",
       "      <th>D</th>\n",
       "    </tr>\n",
       "    <tr>\n",
       "      <th>Region</th>\n",
       "      <th></th>\n",
       "      <th></th>\n",
       "      <th></th>\n",
       "      <th></th>\n",
       "      <th></th>\n",
       "      <th></th>\n",
       "      <th></th>\n",
       "      <th></th>\n",
       "    </tr>\n",
       "  </thead>\n",
       "  <tbody>\n",
       "    <tr>\n",
       "      <th>East</th>\n",
       "      <td>780.6</td>\n",
       "      <td>NaN</td>\n",
       "      <td>NaN</td>\n",
       "      <td>NaN</td>\n",
       "      <td>44.6</td>\n",
       "      <td>NaN</td>\n",
       "      <td>NaN</td>\n",
       "      <td>NaN</td>\n",
       "    </tr>\n",
       "    <tr>\n",
       "      <th>North</th>\n",
       "      <td>NaN</td>\n",
       "      <td>NaN</td>\n",
       "      <td>613.0</td>\n",
       "      <td>NaN</td>\n",
       "      <td>NaN</td>\n",
       "      <td>NaN</td>\n",
       "      <td>46.8</td>\n",
       "      <td>NaN</td>\n",
       "    </tr>\n",
       "    <tr>\n",
       "      <th>South</th>\n",
       "      <td>NaN</td>\n",
       "      <td>NaN</td>\n",
       "      <td>NaN</td>\n",
       "      <td>659.8</td>\n",
       "      <td>NaN</td>\n",
       "      <td>NaN</td>\n",
       "      <td>NaN</td>\n",
       "      <td>68.4</td>\n",
       "    </tr>\n",
       "    <tr>\n",
       "      <th>West</th>\n",
       "      <td>NaN</td>\n",
       "      <td>562.8</td>\n",
       "      <td>NaN</td>\n",
       "      <td>NaN</td>\n",
       "      <td>NaN</td>\n",
       "      <td>56.2</td>\n",
       "      <td>NaN</td>\n",
       "      <td>NaN</td>\n",
       "    </tr>\n",
       "  </tbody>\n",
       "</table>\n",
       "</div>"
      ],
      "text/plain": [
       "         Sales                      Units                  \n",
       "Product      A      B      C      D     A     B     C     D\n",
       "Region                                                     \n",
       "East     780.6    NaN    NaN    NaN  44.6   NaN   NaN   NaN\n",
       "North      NaN    NaN  613.0    NaN   NaN   NaN  46.8   NaN\n",
       "South      NaN    NaN    NaN  659.8   NaN   NaN   NaN  68.4\n",
       "West       NaN  562.8    NaN    NaN   NaN  56.2   NaN   NaN"
      ]
     },
     "execution_count": 10,
     "metadata": {},
     "output_type": "execute_result"
    }
   ],
   "source": [
    "pivot2 = pd.pivot_table(df, values=['Sales', 'Units'], index='Region', columns='Product') # values mush be numeric\n",
    "pivot2"
   ]
  },
  {
   "cell_type": "markdown",
   "id": "ae76784f",
   "metadata": {},
   "source": [
    "# Cross Tabs"
   ]
  },
  {
   "cell_type": "code",
   "execution_count": null,
   "id": "a6ac7cc4",
   "metadata": {},
   "outputs": [
    {
     "data": {
      "application/vnd.microsoft.datawrangler.viewer.v0+json": {
       "columns": [
        {
         "name": "Region",
         "rawType": "object",
         "type": "string"
        },
        {
         "name": "A",
         "rawType": "int64",
         "type": "integer"
        },
        {
         "name": "B",
         "rawType": "int64",
         "type": "integer"
        },
        {
         "name": "C",
         "rawType": "int64",
         "type": "integer"
        },
        {
         "name": "D",
         "rawType": "int64",
         "type": "integer"
        }
       ],
       "ref": "bf63e898-5b2a-4e64-ad9a-633f3fcd779f",
       "rows": [
        [
         "East",
         "5",
         "0",
         "0",
         "0"
        ],
        [
         "North",
         "0",
         "0",
         "5",
         "0"
        ],
        [
         "South",
         "0",
         "0",
         "0",
         "5"
        ],
        [
         "West",
         "0",
         "5",
         "0",
         "0"
        ]
       ],
       "shape": {
        "columns": 4,
        "rows": 4
       }
      },
      "text/html": [
       "<div>\n",
       "<style scoped>\n",
       "    .dataframe tbody tr th:only-of-type {\n",
       "        vertical-align: middle;\n",
       "    }\n",
       "\n",
       "    .dataframe tbody tr th {\n",
       "        vertical-align: top;\n",
       "    }\n",
       "\n",
       "    .dataframe thead th {\n",
       "        text-align: right;\n",
       "    }\n",
       "</style>\n",
       "<table border=\"1\" class=\"dataframe\">\n",
       "  <thead>\n",
       "    <tr style=\"text-align: right;\">\n",
       "      <th>Product</th>\n",
       "      <th>A</th>\n",
       "      <th>B</th>\n",
       "      <th>C</th>\n",
       "      <th>D</th>\n",
       "    </tr>\n",
       "    <tr>\n",
       "      <th>Region</th>\n",
       "      <th></th>\n",
       "      <th></th>\n",
       "      <th></th>\n",
       "      <th></th>\n",
       "    </tr>\n",
       "  </thead>\n",
       "  <tbody>\n",
       "    <tr>\n",
       "      <th>East</th>\n",
       "      <td>5</td>\n",
       "      <td>0</td>\n",
       "      <td>0</td>\n",
       "      <td>0</td>\n",
       "    </tr>\n",
       "    <tr>\n",
       "      <th>North</th>\n",
       "      <td>0</td>\n",
       "      <td>0</td>\n",
       "      <td>5</td>\n",
       "      <td>0</td>\n",
       "    </tr>\n",
       "    <tr>\n",
       "      <th>South</th>\n",
       "      <td>0</td>\n",
       "      <td>0</td>\n",
       "      <td>0</td>\n",
       "      <td>5</td>\n",
       "    </tr>\n",
       "    <tr>\n",
       "      <th>West</th>\n",
       "      <td>0</td>\n",
       "      <td>5</td>\n",
       "      <td>0</td>\n",
       "      <td>0</td>\n",
       "    </tr>\n",
       "  </tbody>\n",
       "</table>\n",
       "</div>"
      ],
      "text/plain": [
       "Product  A  B  C  D\n",
       "Region             \n",
       "East     5  0  0  0\n",
       "North    0  0  5  0\n",
       "South    0  0  0  5\n",
       "West     0  5  0  0"
      ]
     },
     "execution_count": 11,
     "metadata": {},
     "output_type": "execute_result"
    }
   ],
   "source": [
    "pd.crosstab(df['Region'], df['Product']) # cross is like pivot table but only for counting"
   ]
  },
  {
   "cell_type": "code",
   "execution_count": null,
   "id": "6a51c935",
   "metadata": {},
   "outputs": [],
   "source": []
  }
 ],
 "metadata": {
  "kernelspec": {
   "display_name": "Python 3",
   "language": "python",
   "name": "python3"
  },
  "language_info": {
   "codemirror_mode": {
    "name": "ipython",
    "version": 3
   },
   "file_extension": ".py",
   "mimetype": "text/x-python",
   "name": "python",
   "nbconvert_exporter": "python",
   "pygments_lexer": "ipython3",
   "version": "3.13.7"
  }
 },
 "nbformat": 4,
 "nbformat_minor": 5
}
