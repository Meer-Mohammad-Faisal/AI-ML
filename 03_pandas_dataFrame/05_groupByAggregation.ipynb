{
 "cells": [
  {
   "cell_type": "code",
   "execution_count": 1,
   "id": "4fb5f41c",
   "metadata": {},
   "outputs": [],
   "source": [
    "import numpy as np\n",
    "import pandas as pd"
   ]
  },
  {
   "cell_type": "markdown",
   "id": "2a44ce1e",
   "metadata": {},
   "source": [
    "## Group By Aggregation"
   ]
  },
  {
   "cell_type": "code",
   "execution_count": 2,
   "id": "1a2ebdaf",
   "metadata": {},
   "outputs": [],
   "source": [
    "data = {\n",
    "    \"Category\": [\"A\", \"B\", \"A\", \"B\", \"A\", \"B\", \"A\", \"B\"],\n",
    "    \"Store\": ['S1', 'S1', 'S2', 'S2', 'S1', 'S1', 'S2', 'S1'],\n",
    "    \"Sales\": [100, 150, 200, 250, 300, 350, 400, 450],\n",
    "    \"Quantity\": [1, 2, 3, 4, 5, 6, 7, 8],\n",
    "    \"Date\": pd.date_range(\"2023-01-01\", periods=8)\n",
    "}\n",
    "df = pd.DataFrame(data)"
   ]
  },
  {
   "cell_type": "code",
   "execution_count": 3,
   "id": "0e336717",
   "metadata": {},
   "outputs": [
    {
     "data": {
      "application/vnd.microsoft.datawrangler.viewer.v0+json": {
       "columns": [
        {
         "name": "index",
         "rawType": "int64",
         "type": "integer"
        },
        {
         "name": "Category",
         "rawType": "object",
         "type": "string"
        },
        {
         "name": "Store",
         "rawType": "object",
         "type": "string"
        },
        {
         "name": "Sales",
         "rawType": "int64",
         "type": "integer"
        },
        {
         "name": "Quantity",
         "rawType": "int64",
         "type": "integer"
        },
        {
         "name": "Date",
         "rawType": "datetime64[ns]",
         "type": "datetime"
        }
       ],
       "ref": "7943fa65-1eb4-4ac5-8c9d-36efa5d98668",
       "rows": [
        [
         "0",
         "A",
         "S1",
         "100",
         "1",
         "2023-01-01 00:00:00"
        ],
        [
         "1",
         "B",
         "S1",
         "150",
         "2",
         "2023-01-02 00:00:00"
        ],
        [
         "2",
         "A",
         "S2",
         "200",
         "3",
         "2023-01-03 00:00:00"
        ],
        [
         "3",
         "B",
         "S2",
         "250",
         "4",
         "2023-01-04 00:00:00"
        ],
        [
         "4",
         "A",
         "S1",
         "300",
         "5",
         "2023-01-05 00:00:00"
        ],
        [
         "5",
         "B",
         "S1",
         "350",
         "6",
         "2023-01-06 00:00:00"
        ],
        [
         "6",
         "A",
         "S2",
         "400",
         "7",
         "2023-01-07 00:00:00"
        ],
        [
         "7",
         "B",
         "S1",
         "450",
         "8",
         "2023-01-08 00:00:00"
        ]
       ],
       "shape": {
        "columns": 5,
        "rows": 8
       }
      },
      "text/html": [
       "<div>\n",
       "<style scoped>\n",
       "    .dataframe tbody tr th:only-of-type {\n",
       "        vertical-align: middle;\n",
       "    }\n",
       "\n",
       "    .dataframe tbody tr th {\n",
       "        vertical-align: top;\n",
       "    }\n",
       "\n",
       "    .dataframe thead th {\n",
       "        text-align: right;\n",
       "    }\n",
       "</style>\n",
       "<table border=\"1\" class=\"dataframe\">\n",
       "  <thead>\n",
       "    <tr style=\"text-align: right;\">\n",
       "      <th></th>\n",
       "      <th>Category</th>\n",
       "      <th>Store</th>\n",
       "      <th>Sales</th>\n",
       "      <th>Quantity</th>\n",
       "      <th>Date</th>\n",
       "    </tr>\n",
       "  </thead>\n",
       "  <tbody>\n",
       "    <tr>\n",
       "      <th>0</th>\n",
       "      <td>A</td>\n",
       "      <td>S1</td>\n",
       "      <td>100</td>\n",
       "      <td>1</td>\n",
       "      <td>2023-01-01</td>\n",
       "    </tr>\n",
       "    <tr>\n",
       "      <th>1</th>\n",
       "      <td>B</td>\n",
       "      <td>S1</td>\n",
       "      <td>150</td>\n",
       "      <td>2</td>\n",
       "      <td>2023-01-02</td>\n",
       "    </tr>\n",
       "    <tr>\n",
       "      <th>2</th>\n",
       "      <td>A</td>\n",
       "      <td>S2</td>\n",
       "      <td>200</td>\n",
       "      <td>3</td>\n",
       "      <td>2023-01-03</td>\n",
       "    </tr>\n",
       "    <tr>\n",
       "      <th>3</th>\n",
       "      <td>B</td>\n",
       "      <td>S2</td>\n",
       "      <td>250</td>\n",
       "      <td>4</td>\n",
       "      <td>2023-01-04</td>\n",
       "    </tr>\n",
       "    <tr>\n",
       "      <th>4</th>\n",
       "      <td>A</td>\n",
       "      <td>S1</td>\n",
       "      <td>300</td>\n",
       "      <td>5</td>\n",
       "      <td>2023-01-05</td>\n",
       "    </tr>\n",
       "    <tr>\n",
       "      <th>5</th>\n",
       "      <td>B</td>\n",
       "      <td>S1</td>\n",
       "      <td>350</td>\n",
       "      <td>6</td>\n",
       "      <td>2023-01-06</td>\n",
       "    </tr>\n",
       "    <tr>\n",
       "      <th>6</th>\n",
       "      <td>A</td>\n",
       "      <td>S2</td>\n",
       "      <td>400</td>\n",
       "      <td>7</td>\n",
       "      <td>2023-01-07</td>\n",
       "    </tr>\n",
       "    <tr>\n",
       "      <th>7</th>\n",
       "      <td>B</td>\n",
       "      <td>S1</td>\n",
       "      <td>450</td>\n",
       "      <td>8</td>\n",
       "      <td>2023-01-08</td>\n",
       "    </tr>\n",
       "  </tbody>\n",
       "</table>\n",
       "</div>"
      ],
      "text/plain": [
       "  Category Store  Sales  Quantity       Date\n",
       "0        A    S1    100         1 2023-01-01\n",
       "1        B    S1    150         2 2023-01-02\n",
       "2        A    S2    200         3 2023-01-03\n",
       "3        B    S2    250         4 2023-01-04\n",
       "4        A    S1    300         5 2023-01-05\n",
       "5        B    S1    350         6 2023-01-06\n",
       "6        A    S2    400         7 2023-01-07\n",
       "7        B    S1    450         8 2023-01-08"
      ]
     },
     "execution_count": 3,
     "metadata": {},
     "output_type": "execute_result"
    }
   ],
   "source": [
    "df"
   ]
  },
  {
   "cell_type": "code",
   "execution_count": 5,
   "id": "2f070533",
   "metadata": {},
   "outputs": [
    {
     "data": {
      "application/vnd.microsoft.datawrangler.viewer.v0+json": {
       "columns": [
        {
         "name": "Category",
         "rawType": "object",
         "type": "string"
        },
        {
         "name": "Sales",
         "rawType": "int64",
         "type": "integer"
        }
       ],
       "ref": "e458744a-a3d6-40fa-be3f-f2049ad6ec23",
       "rows": [
        [
         "A",
         "1000"
        ],
        [
         "B",
         "1200"
        ]
       ],
       "shape": {
        "columns": 1,
        "rows": 2
       }
      },
      "text/plain": [
       "Category\n",
       "A    1000\n",
       "B    1200\n",
       "Name: Sales, dtype: int64"
      ]
     },
     "execution_count": 5,
     "metadata": {},
     "output_type": "execute_result"
    }
   ],
   "source": [
    "# group by category and sum sales\n",
    "df.groupby('Category')['Sales'].sum()"
   ]
  },
  {
   "cell_type": "code",
   "execution_count": 6,
   "id": "10b22347",
   "metadata": {},
   "outputs": [
    {
     "data": {
      "application/vnd.microsoft.datawrangler.viewer.v0+json": {
       "columns": [
        {
         "name": "Store",
         "rawType": "object",
         "type": "string"
        },
        {
         "name": "Sales",
         "rawType": "int64",
         "type": "integer"
        }
       ],
       "ref": "8f430e8a-1749-49bb-b801-263374ccf5bf",
       "rows": [
        [
         "S1",
         "1350"
        ],
        [
         "S2",
         "850"
        ]
       ],
       "shape": {
        "columns": 1,
        "rows": 2
       }
      },
      "text/plain": [
       "Store\n",
       "S1    1350\n",
       "S2     850\n",
       "Name: Sales, dtype: int64"
      ]
     },
     "execution_count": 6,
     "metadata": {},
     "output_type": "execute_result"
    }
   ],
   "source": [
    "df.groupby('Store')['Sales'].sum()"
   ]
  },
  {
   "cell_type": "code",
   "execution_count": 7,
   "id": "b2889f97",
   "metadata": {},
   "outputs": [
    {
     "data": {
      "application/vnd.microsoft.datawrangler.viewer.v0+json": {
       "columns": [
        {
         "name": "('Category', 'Store')",
         "rawType": "object",
         "type": "unknown"
        },
        {
         "name": "Sales",
         "rawType": "int64",
         "type": "integer"
        }
       ],
       "ref": "814db257-aab4-4a93-ab98-dee8a10f4687",
       "rows": [
        [
         "('A', 'S1')",
         "400"
        ],
        [
         "('A', 'S2')",
         "600"
        ],
        [
         "('B', 'S1')",
         "950"
        ],
        [
         "('B', 'S2')",
         "250"
        ]
       ],
       "shape": {
        "columns": 1,
        "rows": 4
       }
      },
      "text/plain": [
       "Category  Store\n",
       "A         S1       400\n",
       "          S2       600\n",
       "B         S1       950\n",
       "          S2       250\n",
       "Name: Sales, dtype: int64"
      ]
     },
     "execution_count": 7,
     "metadata": {},
     "output_type": "execute_result"
    }
   ],
   "source": [
    "# group by multiple columns\n",
    "df.groupby(['Category', 'Store'])['Sales'].sum()"
   ]
  },
  {
   "cell_type": "markdown",
   "id": "917ce575",
   "metadata": {},
   "source": [
    "# Aggregation"
   ]
  },
  {
   "cell_type": "code",
   "execution_count": 10,
   "id": "ebcd8c5c",
   "metadata": {},
   "outputs": [
    {
     "data": {
      "text/plain": [
       "np.float64(15000.0)"
      ]
     },
     "execution_count": 10,
     "metadata": {},
     "output_type": "execute_result"
    }
   ],
   "source": [
    "df['Sales'].mean()\n",
    "df['Sales'].max()\n",
    "df['Sales'].min()\n",
    "df['Sales'].std()\n",
    "df['Sales'].count()\n",
    "df['Sales'].median()\n",
    "df['Sales'].var()"
   ]
  },
  {
   "cell_type": "code",
   "execution_count": 11,
   "id": "4696371c",
   "metadata": {},
   "outputs": [
    {
     "name": "stderr",
     "output_type": "stream",
     "text": [
      "C:\\Users\\ASUS\\AppData\\Local\\Temp\\ipykernel_20692\\2138786665.py:1: FutureWarning: The provided callable <function sum at 0x000002456BFA2020> is currently using Series.sum. In a future version of pandas, the provided callable will be used directly. To keep current behavior pass the string \"sum\" instead.\n",
      "  df['Sales'].agg([np.sum, np.mean, np.std, np.min, np.max])\n",
      "C:\\Users\\ASUS\\AppData\\Local\\Temp\\ipykernel_20692\\2138786665.py:1: FutureWarning: The provided callable <function mean at 0x000002456BFA3420> is currently using Series.mean. In a future version of pandas, the provided callable will be used directly. To keep current behavior pass the string \"mean\" instead.\n",
      "  df['Sales'].agg([np.sum, np.mean, np.std, np.min, np.max])\n",
      "C:\\Users\\ASUS\\AppData\\Local\\Temp\\ipykernel_20692\\2138786665.py:1: FutureWarning: The provided callable <function std at 0x000002456BFA3560> is currently using Series.std. In a future version of pandas, the provided callable will be used directly. To keep current behavior pass the string \"std\" instead.\n",
      "  df['Sales'].agg([np.sum, np.mean, np.std, np.min, np.max])\n",
      "C:\\Users\\ASUS\\AppData\\Local\\Temp\\ipykernel_20692\\2138786665.py:1: FutureWarning: The provided callable <function min at 0x000002456BFA2B60> is currently using Series.min. In a future version of pandas, the provided callable will be used directly. To keep current behavior pass the string \"min\" instead.\n",
      "  df['Sales'].agg([np.sum, np.mean, np.std, np.min, np.max])\n",
      "C:\\Users\\ASUS\\AppData\\Local\\Temp\\ipykernel_20692\\2138786665.py:1: FutureWarning: The provided callable <function max at 0x000002456BFA2A20> is currently using Series.max. In a future version of pandas, the provided callable will be used directly. To keep current behavior pass the string \"max\" instead.\n",
      "  df['Sales'].agg([np.sum, np.mean, np.std, np.min, np.max])\n"
     ]
    },
    {
     "data": {
      "application/vnd.microsoft.datawrangler.viewer.v0+json": {
       "columns": [
        {
         "name": "index",
         "rawType": "object",
         "type": "string"
        },
        {
         "name": "Sales",
         "rawType": "float64",
         "type": "float"
        }
       ],
       "ref": "fa743100-4a95-42d8-bf17-208ce3ee3332",
       "rows": [
        [
         "sum",
         "2200.0"
        ],
        [
         "mean",
         "275.0"
        ],
        [
         "std",
         "122.47448713915891"
        ],
        [
         "min",
         "100.0"
        ],
        [
         "max",
         "450.0"
        ]
       ],
       "shape": {
        "columns": 1,
        "rows": 5
       }
      },
      "text/plain": [
       "sum     2200.000000\n",
       "mean     275.000000\n",
       "std      122.474487\n",
       "min      100.000000\n",
       "max      450.000000\n",
       "Name: Sales, dtype: float64"
      ]
     },
     "execution_count": 11,
     "metadata": {},
     "output_type": "execute_result"
    }
   ],
   "source": [
    "df['Sales'].agg([np.sum, np.mean, np.std, np.min, np.max])"
   ]
  },
  {
   "cell_type": "code",
   "execution_count": null,
   "id": "51ad9692",
   "metadata": {},
   "outputs": [],
   "source": []
  }
 ],
 "metadata": {
  "kernelspec": {
   "display_name": "Python 3",
   "language": "python",
   "name": "python3"
  },
  "language_info": {
   "codemirror_mode": {
    "name": "ipython",
    "version": 3
   },
   "file_extension": ".py",
   "mimetype": "text/x-python",
   "name": "python",
   "nbconvert_exporter": "python",
   "pygments_lexer": "ipython3",
   "version": "3.13.7"
  }
 },
 "nbformat": 4,
 "nbformat_minor": 5
}
