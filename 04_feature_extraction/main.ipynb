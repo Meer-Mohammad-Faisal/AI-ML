{
 "cells": [
  {
   "cell_type": "markdown",
   "id": "52e631b3",
   "metadata": {},
   "source": [
    "# Feature Extraction"
   ]
  },
  {
   "cell_type": "code",
   "execution_count": 34,
   "id": "eef60635",
   "metadata": {},
   "outputs": [],
   "source": [
    "import numpy as np\n",
    "import pandas as pd"
   ]
  },
  {
   "cell_type": "code",
   "execution_count": 35,
   "id": "ac3adbb9",
   "metadata": {},
   "outputs": [],
   "source": [
    "# Loading the data\n",
    "df = pd.read_csv(r'anime.csv')"
   ]
  },
  {
   "cell_type": "code",
   "execution_count": 36,
   "id": "891692bd",
   "metadata": {},
   "outputs": [
    {
     "data": {
      "application/vnd.microsoft.datawrangler.viewer.v0+json": {
       "columns": [
        {
         "name": "index",
         "rawType": "int64",
         "type": "integer"
        },
        {
         "name": "Rank",
         "rawType": "int64",
         "type": "integer"
        },
        {
         "name": "Title",
         "rawType": "object",
         "type": "string"
        },
        {
         "name": "Score",
         "rawType": "float64",
         "type": "float"
        }
       ],
       "ref": "4b466329-daae-4a8a-a3de-8a296900fda5",
       "rows": [
        [
         "0",
         "1",
         "Fullmetal Alchemist: BrotherhoodTV (64 eps)Apr 2009 - Jul 20103,218,472 membersManga StoreVolume 1€4.58Preview",
         "9.1"
        ],
        [
         "1",
         "2",
         "Steins;GateTV (24 eps)Apr 2011 - Sep 20112,473,707 members",
         "9.07"
        ],
        [
         "2",
         "3",
         "Bleach: Sennen Kessen-henTV (13 eps)Oct 2022 - Dec 2022474,138 members",
         "9.06"
        ],
        [
         "3",
         "4",
         "Gintama°TV (51 eps)Apr 2015 - Mar 2016605,113 members",
         "9.06"
        ],
        [
         "4",
         "5",
         "Shingeki no Kyojin Season 3 Part 2TV (10 eps)Apr 2019 - Jul 20192,146,679 membersManga StoreVolume 1€10.99Preview",
         "9.05"
        ]
       ],
       "shape": {
        "columns": 3,
        "rows": 5
       }
      },
      "text/html": [
       "<div>\n",
       "<style scoped>\n",
       "    .dataframe tbody tr th:only-of-type {\n",
       "        vertical-align: middle;\n",
       "    }\n",
       "\n",
       "    .dataframe tbody tr th {\n",
       "        vertical-align: top;\n",
       "    }\n",
       "\n",
       "    .dataframe thead th {\n",
       "        text-align: right;\n",
       "    }\n",
       "</style>\n",
       "<table border=\"1\" class=\"dataframe\">\n",
       "  <thead>\n",
       "    <tr style=\"text-align: right;\">\n",
       "      <th></th>\n",
       "      <th>Rank</th>\n",
       "      <th>Title</th>\n",
       "      <th>Score</th>\n",
       "    </tr>\n",
       "  </thead>\n",
       "  <tbody>\n",
       "    <tr>\n",
       "      <th>0</th>\n",
       "      <td>1</td>\n",
       "      <td>Fullmetal Alchemist: BrotherhoodTV (64 eps)Apr...</td>\n",
       "      <td>9.10</td>\n",
       "    </tr>\n",
       "    <tr>\n",
       "      <th>1</th>\n",
       "      <td>2</td>\n",
       "      <td>Steins;GateTV (24 eps)Apr 2011 - Sep 20112,473...</td>\n",
       "      <td>9.07</td>\n",
       "    </tr>\n",
       "    <tr>\n",
       "      <th>2</th>\n",
       "      <td>3</td>\n",
       "      <td>Bleach: Sennen Kessen-henTV (13 eps)Oct 2022 -...</td>\n",
       "      <td>9.06</td>\n",
       "    </tr>\n",
       "    <tr>\n",
       "      <th>3</th>\n",
       "      <td>4</td>\n",
       "      <td>Gintama°TV (51 eps)Apr 2015 - Mar 2016605,113 ...</td>\n",
       "      <td>9.06</td>\n",
       "    </tr>\n",
       "    <tr>\n",
       "      <th>4</th>\n",
       "      <td>5</td>\n",
       "      <td>Shingeki no Kyojin Season 3 Part 2TV (10 eps)A...</td>\n",
       "      <td>9.05</td>\n",
       "    </tr>\n",
       "  </tbody>\n",
       "</table>\n",
       "</div>"
      ],
      "text/plain": [
       "   Rank                                              Title  Score\n",
       "0     1  Fullmetal Alchemist: BrotherhoodTV (64 eps)Apr...   9.10\n",
       "1     2  Steins;GateTV (24 eps)Apr 2011 - Sep 20112,473...   9.07\n",
       "2     3  Bleach: Sennen Kessen-henTV (13 eps)Oct 2022 -...   9.06\n",
       "3     4  Gintama°TV (51 eps)Apr 2015 - Mar 2016605,113 ...   9.06\n",
       "4     5  Shingeki no Kyojin Season 3 Part 2TV (10 eps)A...   9.05"
      ]
     },
     "execution_count": 36,
     "metadata": {},
     "output_type": "execute_result"
    }
   ],
   "source": [
    "df.head()"
   ]
  },
  {
   "cell_type": "code",
   "execution_count": 37,
   "id": "dbbd2b8d",
   "metadata": {},
   "outputs": [
    {
     "data": {
      "text/plain": [
       "'Bleach: Sennen Kessen-henTV (13 eps)Oct 2022 - Dec 2022474,138 members'"
      ]
     },
     "execution_count": 37,
     "metadata": {},
     "output_type": "execute_result"
    }
   ],
   "source": [
    "df.loc[2]['Title']"
   ]
  },
  {
   "cell_type": "code",
   "execution_count": 38,
   "id": "c86df57d",
   "metadata": {},
   "outputs": [],
   "source": [
    "def extract_episods(txt):\n",
    "    check = False\n",
    "    data = ''\n",
    "    for i in txt:\n",
    "        if i == \")\":\n",
    "            check = False\n",
    "            return data\n",
    "        if check == True:\n",
    "            data += i\n",
    "        if i == \"(\":\n",
    "            check = True"
   ]
  },
  {
   "cell_type": "code",
   "execution_count": 39,
   "id": "14b59f36",
   "metadata": {},
   "outputs": [],
   "source": [
    "df[\"Episods\"] = df['Title'].apply(extract_episods)"
   ]
  },
  {
   "cell_type": "code",
   "execution_count": 40,
   "id": "a745fa70",
   "metadata": {},
   "outputs": [
    {
     "data": {
      "application/vnd.microsoft.datawrangler.viewer.v0+json": {
       "columns": [
        {
         "name": "index",
         "rawType": "int64",
         "type": "integer"
        },
        {
         "name": "Rank",
         "rawType": "int64",
         "type": "integer"
        },
        {
         "name": "Title",
         "rawType": "object",
         "type": "string"
        },
        {
         "name": "Score",
         "rawType": "float64",
         "type": "float"
        },
        {
         "name": "Episods",
         "rawType": "object",
         "type": "string"
        }
       ],
       "ref": "7ee80ae4-7826-4750-88e1-6abe1e137090",
       "rows": [
        [
         "0",
         "1",
         "Fullmetal Alchemist: BrotherhoodTV (64 eps)Apr 2009 - Jul 20103,218,472 membersManga StoreVolume 1€4.58Preview",
         "9.1",
         "64 eps"
        ],
        [
         "1",
         "2",
         "Steins;GateTV (24 eps)Apr 2011 - Sep 20112,473,707 members",
         "9.07",
         "24 eps"
        ],
        [
         "2",
         "3",
         "Bleach: Sennen Kessen-henTV (13 eps)Oct 2022 - Dec 2022474,138 members",
         "9.06",
         "13 eps"
        ],
        [
         "3",
         "4",
         "Gintama°TV (51 eps)Apr 2015 - Mar 2016605,113 members",
         "9.06",
         "51 eps"
        ],
        [
         "4",
         "5",
         "Shingeki no Kyojin Season 3 Part 2TV (10 eps)Apr 2019 - Jul 20192,146,679 membersManga StoreVolume 1€10.99Preview",
         "9.05",
         "10 eps"
        ],
        [
         "5",
         "6",
         "Gintama'TV (51 eps)Apr 2011 - Mar 2012534,105 members",
         "9.04",
         "51 eps"
        ],
        [
         "6",
         "7",
         "Gintama: The FinalMovie (1 eps)Jan 2021 - Jan 2021137,208 members",
         "9.04",
         "1 eps"
        ],
        [
         "7",
         "8",
         "Hunter x Hunter TV (148 eps)Oct 2011 - Sep 20142,701,154 members",
         "9.04",
         "148 eps"
        ],
        [
         "8",
         "9",
         "Kaguya-sama wa Kokurasetai: Ultra RomanticTV (13 eps)Apr 2022 - Jun 2022851,445 members",
         "9.04",
         "13 eps"
        ],
        [
         "9",
         "10",
         "Gintama': EnchousenTV (13 eps)Oct 2012 - Mar 2013313,446 members",
         "9.03",
         "13 eps"
        ],
        [
         "10",
         "11",
         "Shingeki no Kyojin: The Final Season - Kanketsu-henSpecial (2 eps)Mar 2023 - May 2023472,340 membersManga StoreVolume 1€10.99Preview",
         "9.03",
         "2 eps"
        ],
        [
         "11",
         "12",
         "Ginga Eiyuu DensetsuOVA (110 eps)Jan 1988 - Mar 1997309,193 members",
         "9.02",
         "110 eps"
        ],
        [
         "12",
         "13",
         "Bleach: Sennen Kessen-hen - Ketsubetsu-tanTV (13 eps)Jul 2023 - Aug 2023 178,482 members",
         "8.99",
         "13 eps"
        ],
        [
         "13",
         "14",
         "Fruits Basket: The FinalTV (13 eps)Apr 2021 - Jun 2021443,882 membersManga StoreVolume 1€6.66Preview",
         "8.99",
         "13 eps"
        ],
        [
         "14",
         "15",
         "Gintama.TV (12 eps)Jan 2017 - Mar 2017302,232 members",
         "8.98",
         "12 eps"
        ],
        [
         "15",
         "16",
         "GintamaTV (201 eps)Apr 2006 - Mar 20101,034,418 members",
         "8.94",
         "201 eps"
        ],
        [
         "16",
         "17",
         "Koe no KatachiMovie (1 eps)Sep 2016 - Sep 20162,228,957 membersManga StoreVolume 1€10.99Preview",
         "8.94",
         "1 eps"
        ],
        [
         "17",
         "18",
         "3-gatsu no Lion 2nd SeasonTV (22 eps)Oct 2017 - Mar 2018388,358 members",
         "8.93",
         "22 eps"
        ],
        [
         "18",
         "19",
         "Clannad: After StoryTV (24 eps)Oct 2008 - Mar 20091,160,879 members",
         "8.93",
         "24 eps"
        ],
        [
         "19",
         "20",
         "Code Geass: Hangyaku no Lelouch R2TV (25 eps)Apr 2008 - Sep 20081,720,715 members",
         "8.91",
         "25 eps"
        ],
        [
         "20",
         "21",
         "Gintama Movie 2: Kanketsu-hen - Yorozuya yo Eien NareMovie (1 eps)Jul 2013 - Jul 2013232,388 members",
         "8.91",
         "1 eps"
        ],
        [
         "21",
         "22",
         "Violet Evergarden MovieMovie (1 eps)Sep 2020 - Sep 2020564,225 members",
         "8.89",
         "1 eps"
        ],
        [
         "22",
         "23",
         "Owarimonogatari 2nd SeasonTV (7 eps)Aug 2017 - Aug 2017385,248 members",
         "8.88",
         "7 eps"
        ],
        [
         "23",
         "24",
         "Gintama.: Shirogane no Tamashii-hen - Kouhan-senTV (14 eps)Jul 2018 - Oct 2018189,172 members",
         "8.88",
         "14 eps"
        ],
        [
         "24",
         "25",
         "MonsterTV (74 eps)Apr 2004 - Sep 20051,041,081 members",
         "8.87",
         "74 eps"
        ],
        [
         "25",
         "26",
         "Kimi no Na wa.Movie (1 eps)Aug 2016 - Aug 20162,635,814 membersManga StoreVolume 1€4.58Preview",
         "8.84",
         "1 eps"
        ],
        [
         "26",
         "27",
         "Kaguya-sama wa Kokurasetai: First Kiss wa OwaranaiMovie (1 eps)Dec 2022 - Dec 2022205,150 members",
         "8.84",
         "1 eps"
        ],
        [
         "27",
         "28",
         "Bocchi the Rock!TV (12 eps)Oct 2022 - Dec 2022464,981 members",
         "8.83",
         "12 eps"
        ],
        [
         "28",
         "29",
         "The First Slam DunkMovie (1 eps)Dec 2022 - Dec 202227,063 members",
         "8.83",
         "1 eps"
        ],
        [
         "29",
         "30",
         "Vinland Saga Season 2TV (24 eps)Jan 2023 - Jun 2023495,454 membersManga StoreVolume 1€17.99Preview",
         "8.82",
         "24 eps"
        ],
        [
         "30",
         "31",
         "Jujutsu Kaisen 2nd SeasonTV (23 eps)Jul 2023 - Aug 2023 556,301 members",
         "8.82",
         "23 eps"
        ],
        [
         "31",
         "32",
         "Gintama.: Shirogane no Tamashii-henTV (12 eps)Jan 2018 - Mar 2018203,540 members",
         "8.81",
         "12 eps"
        ],
        [
         "32",
         "33",
         "Kingdom 3rd SeasonTV (26 eps)Apr 2020 - Oct 202193,645 members",
         "8.81",
         "26 eps"
        ],
        [
         "33",
         "34",
         "Mob Psycho 100 IITV (13 eps)Jan 2019 - Apr 20191,458,089 members",
         "8.8",
         "13 eps"
        ],
        [
         "34",
         "35",
         "Shingeki no Kyojin: The Final SeasonTV (16 eps)Dec 2020 - Mar 20211,882,760 membersManga StoreVolume 1€10.99Preview",
         "8.8",
         "16 eps"
        ],
        [
         "35",
         "36",
         "Kimetsu no Yaiba: Yuukaku-henTV (11 eps)Dec 2021 - Feb 20221,302,152 members",
         "8.79",
         "11 eps"
        ],
        [
         "36",
         "37",
         "Kizumonogatari III: Reiketsu-henMovie (1 eps)Jan 2017 - Jan 2017445,640 membersManga StorePart1€9.99Preview",
         "8.79",
         "1 eps"
        ],
        [
         "37",
         "38",
         "\"Oshi no Ko\"TV (11 eps)Apr 2023 - Jun 2023645,856 members",
         "8.79",
         "11 eps"
        ],
        [
         "38",
         "39",
         "Haikyuu!! Karasuno Koukou vs. Shiratorizawa Gakuen KoukouTV (10 eps)Oct 2016 - Dec 20161,157,497 members",
         "8.78",
         "10 eps"
        ],
        [
         "39",
         "40",
         "Sen to Chihiro no KamikakushiMovie (1 eps)Jul 2001 - Jul 20011,784,960 members",
         "8.78",
         "1 eps"
        ],
        [
         "40",
         "41",
         "Monogatari Series: Second SeasonTV (26 eps)Jul 2013 - Dec 2013653,257 membersManga StoreVolume 1€9.99Preview",
         "8.77",
         "26 eps"
        ],
        [
         "41",
         "42",
         "Shingeki no Kyojin: The Final Season Part 2TV (12 eps)Jan 2022 - Apr 20221,170,165 membersManga StoreVolume 1€10.99Preview",
         "8.77",
         "12 eps"
        ],
        [
         "42",
         "43",
         "Hajime no IppoTV (75 eps)Oct 2000 - Mar 2002558,435 members",
         "8.76",
         "75 eps"
        ],
        [
         "43",
         "44",
         "Cowboy BebopTV (26 eps)Apr 1998 - Apr 19991,796,109 members",
         "8.75",
         "26 eps"
        ],
        [
         "44",
         "45",
         "Kingdom 4th SeasonTV (26 eps)Apr 2022 - Oct 202255,833 members",
         "8.75",
         "26 eps"
        ],
        [
         "45",
         "46",
         "Vinland SagaTV (24 eps)Jul 2019 - Dec 20191,403,669 membersManga StoreVolume 1€17.99Preview",
         "8.74",
         "24 eps"
        ],
        [
         "46",
         "47",
         "Mushishi Zoku Shou 2nd SeasonTV (10 eps)Oct 2014 - Dec 2014257,622 membersManga StoreVolume 1€10.99Preview",
         "8.73",
         "10 eps"
        ],
        [
         "47",
         "48",
         "Shouwa Genroku Rakugo Shinjuu: Sukeroku Futatabi-henTV (12 eps)Jan 2017 - Mar 2017182,450 membersManga StoreVolume 1€12.99Preview",
         "8.72",
         "12 eps"
        ],
        [
         "48",
         "49",
         "Mob Psycho 100 IIITV (12 eps)Oct 2022 - Dec 2022600,098 members",
         "8.71",
         "12 eps"
        ],
        [
         "49",
         "50",
         "Rurouni Kenshin: Meiji Kenkaku Romantan - Tsuioku-henOVA (4 eps)Feb 1999 - Sep 1999271,108 members",
         "8.71",
         "4 eps"
        ]
       ],
       "shape": {
        "columns": 4,
        "rows": 50
       }
      },
      "text/html": [
       "<div>\n",
       "<style scoped>\n",
       "    .dataframe tbody tr th:only-of-type {\n",
       "        vertical-align: middle;\n",
       "    }\n",
       "\n",
       "    .dataframe tbody tr th {\n",
       "        vertical-align: top;\n",
       "    }\n",
       "\n",
       "    .dataframe thead th {\n",
       "        text-align: right;\n",
       "    }\n",
       "</style>\n",
       "<table border=\"1\" class=\"dataframe\">\n",
       "  <thead>\n",
       "    <tr style=\"text-align: right;\">\n",
       "      <th></th>\n",
       "      <th>Rank</th>\n",
       "      <th>Title</th>\n",
       "      <th>Score</th>\n",
       "      <th>Episods</th>\n",
       "    </tr>\n",
       "  </thead>\n",
       "  <tbody>\n",
       "    <tr>\n",
       "      <th>0</th>\n",
       "      <td>1</td>\n",
       "      <td>Fullmetal Alchemist: BrotherhoodTV (64 eps)Apr...</td>\n",
       "      <td>9.10</td>\n",
       "      <td>64 eps</td>\n",
       "    </tr>\n",
       "    <tr>\n",
       "      <th>1</th>\n",
       "      <td>2</td>\n",
       "      <td>Steins;GateTV (24 eps)Apr 2011 - Sep 20112,473...</td>\n",
       "      <td>9.07</td>\n",
       "      <td>24 eps</td>\n",
       "    </tr>\n",
       "    <tr>\n",
       "      <th>2</th>\n",
       "      <td>3</td>\n",
       "      <td>Bleach: Sennen Kessen-henTV (13 eps)Oct 2022 -...</td>\n",
       "      <td>9.06</td>\n",
       "      <td>13 eps</td>\n",
       "    </tr>\n",
       "    <tr>\n",
       "      <th>3</th>\n",
       "      <td>4</td>\n",
       "      <td>Gintama°TV (51 eps)Apr 2015 - Mar 2016605,113 ...</td>\n",
       "      <td>9.06</td>\n",
       "      <td>51 eps</td>\n",
       "    </tr>\n",
       "    <tr>\n",
       "      <th>4</th>\n",
       "      <td>5</td>\n",
       "      <td>Shingeki no Kyojin Season 3 Part 2TV (10 eps)A...</td>\n",
       "      <td>9.05</td>\n",
       "      <td>10 eps</td>\n",
       "    </tr>\n",
       "    <tr>\n",
       "      <th>5</th>\n",
       "      <td>6</td>\n",
       "      <td>Gintama'TV (51 eps)Apr 2011 - Mar 2012534,105 ...</td>\n",
       "      <td>9.04</td>\n",
       "      <td>51 eps</td>\n",
       "    </tr>\n",
       "    <tr>\n",
       "      <th>6</th>\n",
       "      <td>7</td>\n",
       "      <td>Gintama: The FinalMovie (1 eps)Jan 2021 - Jan ...</td>\n",
       "      <td>9.04</td>\n",
       "      <td>1 eps</td>\n",
       "    </tr>\n",
       "    <tr>\n",
       "      <th>7</th>\n",
       "      <td>8</td>\n",
       "      <td>Hunter x Hunter TV (148 eps)Oct 2011 - Sep 201...</td>\n",
       "      <td>9.04</td>\n",
       "      <td>148 eps</td>\n",
       "    </tr>\n",
       "    <tr>\n",
       "      <th>8</th>\n",
       "      <td>9</td>\n",
       "      <td>Kaguya-sama wa Kokurasetai: Ultra RomanticTV (...</td>\n",
       "      <td>9.04</td>\n",
       "      <td>13 eps</td>\n",
       "    </tr>\n",
       "    <tr>\n",
       "      <th>9</th>\n",
       "      <td>10</td>\n",
       "      <td>Gintama': EnchousenTV (13 eps)Oct 2012 - Mar 2...</td>\n",
       "      <td>9.03</td>\n",
       "      <td>13 eps</td>\n",
       "    </tr>\n",
       "    <tr>\n",
       "      <th>10</th>\n",
       "      <td>11</td>\n",
       "      <td>Shingeki no Kyojin: The Final Season - Kankets...</td>\n",
       "      <td>9.03</td>\n",
       "      <td>2 eps</td>\n",
       "    </tr>\n",
       "    <tr>\n",
       "      <th>11</th>\n",
       "      <td>12</td>\n",
       "      <td>Ginga Eiyuu DensetsuOVA (110 eps)Jan 1988 - Ma...</td>\n",
       "      <td>9.02</td>\n",
       "      <td>110 eps</td>\n",
       "    </tr>\n",
       "    <tr>\n",
       "      <th>12</th>\n",
       "      <td>13</td>\n",
       "      <td>Bleach: Sennen Kessen-hen - Ketsubetsu-tanTV (...</td>\n",
       "      <td>8.99</td>\n",
       "      <td>13 eps</td>\n",
       "    </tr>\n",
       "    <tr>\n",
       "      <th>13</th>\n",
       "      <td>14</td>\n",
       "      <td>Fruits Basket: The FinalTV (13 eps)Apr 2021 - ...</td>\n",
       "      <td>8.99</td>\n",
       "      <td>13 eps</td>\n",
       "    </tr>\n",
       "    <tr>\n",
       "      <th>14</th>\n",
       "      <td>15</td>\n",
       "      <td>Gintama.TV (12 eps)Jan 2017 - Mar 2017302,232 ...</td>\n",
       "      <td>8.98</td>\n",
       "      <td>12 eps</td>\n",
       "    </tr>\n",
       "    <tr>\n",
       "      <th>15</th>\n",
       "      <td>16</td>\n",
       "      <td>GintamaTV (201 eps)Apr 2006 - Mar 20101,034,41...</td>\n",
       "      <td>8.94</td>\n",
       "      <td>201 eps</td>\n",
       "    </tr>\n",
       "    <tr>\n",
       "      <th>16</th>\n",
       "      <td>17</td>\n",
       "      <td>Koe no KatachiMovie (1 eps)Sep 2016 - Sep 2016...</td>\n",
       "      <td>8.94</td>\n",
       "      <td>1 eps</td>\n",
       "    </tr>\n",
       "    <tr>\n",
       "      <th>17</th>\n",
       "      <td>18</td>\n",
       "      <td>3-gatsu no Lion 2nd SeasonTV (22 eps)Oct 2017 ...</td>\n",
       "      <td>8.93</td>\n",
       "      <td>22 eps</td>\n",
       "    </tr>\n",
       "    <tr>\n",
       "      <th>18</th>\n",
       "      <td>19</td>\n",
       "      <td>Clannad: After StoryTV (24 eps)Oct 2008 - Mar ...</td>\n",
       "      <td>8.93</td>\n",
       "      <td>24 eps</td>\n",
       "    </tr>\n",
       "    <tr>\n",
       "      <th>19</th>\n",
       "      <td>20</td>\n",
       "      <td>Code Geass: Hangyaku no Lelouch R2TV (25 eps)A...</td>\n",
       "      <td>8.91</td>\n",
       "      <td>25 eps</td>\n",
       "    </tr>\n",
       "    <tr>\n",
       "      <th>20</th>\n",
       "      <td>21</td>\n",
       "      <td>Gintama Movie 2: Kanketsu-hen - Yorozuya yo Ei...</td>\n",
       "      <td>8.91</td>\n",
       "      <td>1 eps</td>\n",
       "    </tr>\n",
       "    <tr>\n",
       "      <th>21</th>\n",
       "      <td>22</td>\n",
       "      <td>Violet Evergarden MovieMovie (1 eps)Sep 2020 -...</td>\n",
       "      <td>8.89</td>\n",
       "      <td>1 eps</td>\n",
       "    </tr>\n",
       "    <tr>\n",
       "      <th>22</th>\n",
       "      <td>23</td>\n",
       "      <td>Owarimonogatari 2nd SeasonTV (7 eps)Aug 2017 -...</td>\n",
       "      <td>8.88</td>\n",
       "      <td>7 eps</td>\n",
       "    </tr>\n",
       "    <tr>\n",
       "      <th>23</th>\n",
       "      <td>24</td>\n",
       "      <td>Gintama.: Shirogane no Tamashii-hen - Kouhan-s...</td>\n",
       "      <td>8.88</td>\n",
       "      <td>14 eps</td>\n",
       "    </tr>\n",
       "    <tr>\n",
       "      <th>24</th>\n",
       "      <td>25</td>\n",
       "      <td>MonsterTV (74 eps)Apr 2004 - Sep 20051,041,081...</td>\n",
       "      <td>8.87</td>\n",
       "      <td>74 eps</td>\n",
       "    </tr>\n",
       "    <tr>\n",
       "      <th>25</th>\n",
       "      <td>26</td>\n",
       "      <td>Kimi no Na wa.Movie (1 eps)Aug 2016 - Aug 2016...</td>\n",
       "      <td>8.84</td>\n",
       "      <td>1 eps</td>\n",
       "    </tr>\n",
       "    <tr>\n",
       "      <th>26</th>\n",
       "      <td>27</td>\n",
       "      <td>Kaguya-sama wa Kokurasetai: First Kiss wa Owar...</td>\n",
       "      <td>8.84</td>\n",
       "      <td>1 eps</td>\n",
       "    </tr>\n",
       "    <tr>\n",
       "      <th>27</th>\n",
       "      <td>28</td>\n",
       "      <td>Bocchi the Rock!TV (12 eps)Oct 2022 - Dec 2022...</td>\n",
       "      <td>8.83</td>\n",
       "      <td>12 eps</td>\n",
       "    </tr>\n",
       "    <tr>\n",
       "      <th>28</th>\n",
       "      <td>29</td>\n",
       "      <td>The First Slam DunkMovie (1 eps)Dec 2022 - Dec...</td>\n",
       "      <td>8.83</td>\n",
       "      <td>1 eps</td>\n",
       "    </tr>\n",
       "    <tr>\n",
       "      <th>29</th>\n",
       "      <td>30</td>\n",
       "      <td>Vinland Saga Season 2TV (24 eps)Jan 2023 - Jun...</td>\n",
       "      <td>8.82</td>\n",
       "      <td>24 eps</td>\n",
       "    </tr>\n",
       "    <tr>\n",
       "      <th>30</th>\n",
       "      <td>31</td>\n",
       "      <td>Jujutsu Kaisen 2nd SeasonTV (23 eps)Jul 2023 -...</td>\n",
       "      <td>8.82</td>\n",
       "      <td>23 eps</td>\n",
       "    </tr>\n",
       "    <tr>\n",
       "      <th>31</th>\n",
       "      <td>32</td>\n",
       "      <td>Gintama.: Shirogane no Tamashii-henTV (12 eps)...</td>\n",
       "      <td>8.81</td>\n",
       "      <td>12 eps</td>\n",
       "    </tr>\n",
       "    <tr>\n",
       "      <th>32</th>\n",
       "      <td>33</td>\n",
       "      <td>Kingdom 3rd SeasonTV (26 eps)Apr 2020 - Oct 20...</td>\n",
       "      <td>8.81</td>\n",
       "      <td>26 eps</td>\n",
       "    </tr>\n",
       "    <tr>\n",
       "      <th>33</th>\n",
       "      <td>34</td>\n",
       "      <td>Mob Psycho 100 IITV (13 eps)Jan 2019 - Apr 201...</td>\n",
       "      <td>8.80</td>\n",
       "      <td>13 eps</td>\n",
       "    </tr>\n",
       "    <tr>\n",
       "      <th>34</th>\n",
       "      <td>35</td>\n",
       "      <td>Shingeki no Kyojin: The Final SeasonTV (16 eps...</td>\n",
       "      <td>8.80</td>\n",
       "      <td>16 eps</td>\n",
       "    </tr>\n",
       "    <tr>\n",
       "      <th>35</th>\n",
       "      <td>36</td>\n",
       "      <td>Kimetsu no Yaiba: Yuukaku-henTV (11 eps)Dec 20...</td>\n",
       "      <td>8.79</td>\n",
       "      <td>11 eps</td>\n",
       "    </tr>\n",
       "    <tr>\n",
       "      <th>36</th>\n",
       "      <td>37</td>\n",
       "      <td>Kizumonogatari III: Reiketsu-henMovie (1 eps)J...</td>\n",
       "      <td>8.79</td>\n",
       "      <td>1 eps</td>\n",
       "    </tr>\n",
       "    <tr>\n",
       "      <th>37</th>\n",
       "      <td>38</td>\n",
       "      <td>\"Oshi no Ko\"TV (11 eps)Apr 2023 - Jun 2023645,...</td>\n",
       "      <td>8.79</td>\n",
       "      <td>11 eps</td>\n",
       "    </tr>\n",
       "    <tr>\n",
       "      <th>38</th>\n",
       "      <td>39</td>\n",
       "      <td>Haikyuu!! Karasuno Koukou vs. Shiratorizawa Ga...</td>\n",
       "      <td>8.78</td>\n",
       "      <td>10 eps</td>\n",
       "    </tr>\n",
       "    <tr>\n",
       "      <th>39</th>\n",
       "      <td>40</td>\n",
       "      <td>Sen to Chihiro no KamikakushiMovie (1 eps)Jul ...</td>\n",
       "      <td>8.78</td>\n",
       "      <td>1 eps</td>\n",
       "    </tr>\n",
       "    <tr>\n",
       "      <th>40</th>\n",
       "      <td>41</td>\n",
       "      <td>Monogatari Series: Second SeasonTV (26 eps)Jul...</td>\n",
       "      <td>8.77</td>\n",
       "      <td>26 eps</td>\n",
       "    </tr>\n",
       "    <tr>\n",
       "      <th>41</th>\n",
       "      <td>42</td>\n",
       "      <td>Shingeki no Kyojin: The Final Season Part 2TV ...</td>\n",
       "      <td>8.77</td>\n",
       "      <td>12 eps</td>\n",
       "    </tr>\n",
       "    <tr>\n",
       "      <th>42</th>\n",
       "      <td>43</td>\n",
       "      <td>Hajime no IppoTV (75 eps)Oct 2000 - Mar 200255...</td>\n",
       "      <td>8.76</td>\n",
       "      <td>75 eps</td>\n",
       "    </tr>\n",
       "    <tr>\n",
       "      <th>43</th>\n",
       "      <td>44</td>\n",
       "      <td>Cowboy BebopTV (26 eps)Apr 1998 - Apr 19991,79...</td>\n",
       "      <td>8.75</td>\n",
       "      <td>26 eps</td>\n",
       "    </tr>\n",
       "    <tr>\n",
       "      <th>44</th>\n",
       "      <td>45</td>\n",
       "      <td>Kingdom 4th SeasonTV (26 eps)Apr 2022 - Oct 20...</td>\n",
       "      <td>8.75</td>\n",
       "      <td>26 eps</td>\n",
       "    </tr>\n",
       "    <tr>\n",
       "      <th>45</th>\n",
       "      <td>46</td>\n",
       "      <td>Vinland SagaTV (24 eps)Jul 2019 - Dec 20191,40...</td>\n",
       "      <td>8.74</td>\n",
       "      <td>24 eps</td>\n",
       "    </tr>\n",
       "    <tr>\n",
       "      <th>46</th>\n",
       "      <td>47</td>\n",
       "      <td>Mushishi Zoku Shou 2nd SeasonTV (10 eps)Oct 20...</td>\n",
       "      <td>8.73</td>\n",
       "      <td>10 eps</td>\n",
       "    </tr>\n",
       "    <tr>\n",
       "      <th>47</th>\n",
       "      <td>48</td>\n",
       "      <td>Shouwa Genroku Rakugo Shinjuu: Sukeroku Futata...</td>\n",
       "      <td>8.72</td>\n",
       "      <td>12 eps</td>\n",
       "    </tr>\n",
       "    <tr>\n",
       "      <th>48</th>\n",
       "      <td>49</td>\n",
       "      <td>Mob Psycho 100 IIITV (12 eps)Oct 2022 - Dec 20...</td>\n",
       "      <td>8.71</td>\n",
       "      <td>12 eps</td>\n",
       "    </tr>\n",
       "    <tr>\n",
       "      <th>49</th>\n",
       "      <td>50</td>\n",
       "      <td>Rurouni Kenshin: Meiji Kenkaku Romantan - Tsui...</td>\n",
       "      <td>8.71</td>\n",
       "      <td>4 eps</td>\n",
       "    </tr>\n",
       "  </tbody>\n",
       "</table>\n",
       "</div>"
      ],
      "text/plain": [
       "    Rank                                              Title  Score  Episods\n",
       "0      1  Fullmetal Alchemist: BrotherhoodTV (64 eps)Apr...   9.10   64 eps\n",
       "1      2  Steins;GateTV (24 eps)Apr 2011 - Sep 20112,473...   9.07   24 eps\n",
       "2      3  Bleach: Sennen Kessen-henTV (13 eps)Oct 2022 -...   9.06   13 eps\n",
       "3      4  Gintama°TV (51 eps)Apr 2015 - Mar 2016605,113 ...   9.06   51 eps\n",
       "4      5  Shingeki no Kyojin Season 3 Part 2TV (10 eps)A...   9.05   10 eps\n",
       "5      6  Gintama'TV (51 eps)Apr 2011 - Mar 2012534,105 ...   9.04   51 eps\n",
       "6      7  Gintama: The FinalMovie (1 eps)Jan 2021 - Jan ...   9.04    1 eps\n",
       "7      8  Hunter x Hunter TV (148 eps)Oct 2011 - Sep 201...   9.04  148 eps\n",
       "8      9  Kaguya-sama wa Kokurasetai: Ultra RomanticTV (...   9.04   13 eps\n",
       "9     10  Gintama': EnchousenTV (13 eps)Oct 2012 - Mar 2...   9.03   13 eps\n",
       "10    11  Shingeki no Kyojin: The Final Season - Kankets...   9.03    2 eps\n",
       "11    12  Ginga Eiyuu DensetsuOVA (110 eps)Jan 1988 - Ma...   9.02  110 eps\n",
       "12    13  Bleach: Sennen Kessen-hen - Ketsubetsu-tanTV (...   8.99   13 eps\n",
       "13    14  Fruits Basket: The FinalTV (13 eps)Apr 2021 - ...   8.99   13 eps\n",
       "14    15  Gintama.TV (12 eps)Jan 2017 - Mar 2017302,232 ...   8.98   12 eps\n",
       "15    16  GintamaTV (201 eps)Apr 2006 - Mar 20101,034,41...   8.94  201 eps\n",
       "16    17  Koe no KatachiMovie (1 eps)Sep 2016 - Sep 2016...   8.94    1 eps\n",
       "17    18  3-gatsu no Lion 2nd SeasonTV (22 eps)Oct 2017 ...   8.93   22 eps\n",
       "18    19  Clannad: After StoryTV (24 eps)Oct 2008 - Mar ...   8.93   24 eps\n",
       "19    20  Code Geass: Hangyaku no Lelouch R2TV (25 eps)A...   8.91   25 eps\n",
       "20    21  Gintama Movie 2: Kanketsu-hen - Yorozuya yo Ei...   8.91    1 eps\n",
       "21    22  Violet Evergarden MovieMovie (1 eps)Sep 2020 -...   8.89    1 eps\n",
       "22    23  Owarimonogatari 2nd SeasonTV (7 eps)Aug 2017 -...   8.88    7 eps\n",
       "23    24  Gintama.: Shirogane no Tamashii-hen - Kouhan-s...   8.88   14 eps\n",
       "24    25  MonsterTV (74 eps)Apr 2004 - Sep 20051,041,081...   8.87   74 eps\n",
       "25    26  Kimi no Na wa.Movie (1 eps)Aug 2016 - Aug 2016...   8.84    1 eps\n",
       "26    27  Kaguya-sama wa Kokurasetai: First Kiss wa Owar...   8.84    1 eps\n",
       "27    28  Bocchi the Rock!TV (12 eps)Oct 2022 - Dec 2022...   8.83   12 eps\n",
       "28    29  The First Slam DunkMovie (1 eps)Dec 2022 - Dec...   8.83    1 eps\n",
       "29    30  Vinland Saga Season 2TV (24 eps)Jan 2023 - Jun...   8.82   24 eps\n",
       "30    31  Jujutsu Kaisen 2nd SeasonTV (23 eps)Jul 2023 -...   8.82   23 eps\n",
       "31    32  Gintama.: Shirogane no Tamashii-henTV (12 eps)...   8.81   12 eps\n",
       "32    33  Kingdom 3rd SeasonTV (26 eps)Apr 2020 - Oct 20...   8.81   26 eps\n",
       "33    34  Mob Psycho 100 IITV (13 eps)Jan 2019 - Apr 201...   8.80   13 eps\n",
       "34    35  Shingeki no Kyojin: The Final SeasonTV (16 eps...   8.80   16 eps\n",
       "35    36  Kimetsu no Yaiba: Yuukaku-henTV (11 eps)Dec 20...   8.79   11 eps\n",
       "36    37  Kizumonogatari III: Reiketsu-henMovie (1 eps)J...   8.79    1 eps\n",
       "37    38  \"Oshi no Ko\"TV (11 eps)Apr 2023 - Jun 2023645,...   8.79   11 eps\n",
       "38    39  Haikyuu!! Karasuno Koukou vs. Shiratorizawa Ga...   8.78   10 eps\n",
       "39    40  Sen to Chihiro no KamikakushiMovie (1 eps)Jul ...   8.78    1 eps\n",
       "40    41  Monogatari Series: Second SeasonTV (26 eps)Jul...   8.77   26 eps\n",
       "41    42  Shingeki no Kyojin: The Final Season Part 2TV ...   8.77   12 eps\n",
       "42    43  Hajime no IppoTV (75 eps)Oct 2000 - Mar 200255...   8.76   75 eps\n",
       "43    44  Cowboy BebopTV (26 eps)Apr 1998 - Apr 19991,79...   8.75   26 eps\n",
       "44    45  Kingdom 4th SeasonTV (26 eps)Apr 2022 - Oct 20...   8.75   26 eps\n",
       "45    46  Vinland SagaTV (24 eps)Jul 2019 - Dec 20191,40...   8.74   24 eps\n",
       "46    47  Mushishi Zoku Shou 2nd SeasonTV (10 eps)Oct 20...   8.73   10 eps\n",
       "47    48  Shouwa Genroku Rakugo Shinjuu: Sukeroku Futata...   8.72   12 eps\n",
       "48    49  Mob Psycho 100 IIITV (12 eps)Oct 2022 - Dec 20...   8.71   12 eps\n",
       "49    50  Rurouni Kenshin: Meiji Kenkaku Romantan - Tsui...   8.71    4 eps"
      ]
     },
     "execution_count": 40,
     "metadata": {},
     "output_type": "execute_result"
    }
   ],
   "source": [
    "df"
   ]
  },
  {
   "cell_type": "code",
   "execution_count": 41,
   "id": "0a8213a1",
   "metadata": {},
   "outputs": [],
   "source": [
    "# replacing \" eps\" with an empty string in the 'Episods' column\n",
    "df['Episods'] = df['Episods'].str.replace(\" eps\", \"\")"
   ]
  },
  {
   "cell_type": "code",
   "execution_count": 42,
   "id": "e63336da",
   "metadata": {},
   "outputs": [
    {
     "data": {
      "text/plain": [
       "str"
      ]
     },
     "execution_count": 42,
     "metadata": {},
     "output_type": "execute_result"
    }
   ],
   "source": [
    "type(df['Episods'][0])"
   ]
  },
  {
   "cell_type": "code",
   "execution_count": 43,
   "id": "86b70551",
   "metadata": {},
   "outputs": [
    {
     "data": {
      "application/vnd.microsoft.datawrangler.viewer.v0+json": {
       "columns": [
        {
         "name": "index",
         "rawType": "object",
         "type": "string"
        },
        {
         "name": "0",
         "rawType": "object",
         "type": "unknown"
        }
       ],
       "ref": "17030fc5-9717-4017-95c0-0c4445cfef00",
       "rows": [
        [
         "Rank",
         "int64"
        ],
        [
         "Title",
         "object"
        ],
        [
         "Score",
         "float64"
        ],
        [
         "Episods",
         "int64"
        ]
       ],
       "shape": {
        "columns": 1,
        "rows": 4
       }
      },
      "text/plain": [
       "Rank         int64\n",
       "Title       object\n",
       "Score      float64\n",
       "Episods      int64\n",
       "dtype: object"
      ]
     },
     "execution_count": 43,
     "metadata": {},
     "output_type": "execute_result"
    }
   ],
   "source": [
    "# we convert the 'Episods' column to numeric values\n",
    "df['Episods'] = df['Episods'].astype(int)\n",
    "df.dtypes"
   ]
  },
  {
   "cell_type": "markdown",
   "id": "d152a069",
   "metadata": {},
   "source": [
    "# make a new column for time stamp"
   ]
  },
  {
   "cell_type": "code",
   "execution_count": 44,
   "id": "7d5c122a",
   "metadata": {},
   "outputs": [
    {
     "data": {
      "text/plain": [
       "'Fullmetal Alchemist: BrotherhoodTV (64 eps)Apr 2009 - Jul 20103,218,472 membersManga StoreVolume 1€4.58Preview'"
      ]
     },
     "execution_count": 44,
     "metadata": {},
     "output_type": "execute_result"
    }
   ],
   "source": [
    "df.loc[0]['Title']"
   ]
  },
  {
   "cell_type": "code",
   "execution_count": 50,
   "id": "f10e2ae3",
   "metadata": {},
   "outputs": [],
   "source": [
    "def extraction_time(txt):\n",
    "    check = False\n",
    "    data = \"\"\n",
    "    for i in range(len(txt)):\n",
    "        if txt[i] == \")\":\n",
    "            for j in range(i+1, i + 20):\n",
    "                data += txt[j]\n",
    "            return data\n",
    "\n",
    "\n"
   ]
  },
  {
   "cell_type": "code",
   "execution_count": 52,
   "id": "0b3f3233",
   "metadata": {},
   "outputs": [],
   "source": [
    "df['Total Time'] = df['Title'].apply(extraction_time)"
   ]
  },
  {
   "cell_type": "code",
   "execution_count": 53,
   "id": "79581cdc",
   "metadata": {},
   "outputs": [
    {
     "data": {
      "application/vnd.microsoft.datawrangler.viewer.v0+json": {
       "columns": [
        {
         "name": "index",
         "rawType": "int64",
         "type": "integer"
        },
        {
         "name": "Rank",
         "rawType": "int64",
         "type": "integer"
        },
        {
         "name": "Title",
         "rawType": "object",
         "type": "string"
        },
        {
         "name": "Score",
         "rawType": "float64",
         "type": "float"
        },
        {
         "name": "Episods",
         "rawType": "int64",
         "type": "integer"
        },
        {
         "name": "Total Time",
         "rawType": "object",
         "type": "string"
        }
       ],
       "ref": "6e24f9a7-eb42-4c24-95d8-663dd47782e8",
       "rows": [
        [
         "0",
         "1",
         "Fullmetal Alchemist: BrotherhoodTV (64 eps)Apr 2009 - Jul 20103,218,472 membersManga StoreVolume 1€4.58Preview",
         "9.1",
         "64",
         "Apr 2009 - Jul 2010"
        ],
        [
         "1",
         "2",
         "Steins;GateTV (24 eps)Apr 2011 - Sep 20112,473,707 members",
         "9.07",
         "24",
         "Apr 2011 - Sep 2011"
        ],
        [
         "2",
         "3",
         "Bleach: Sennen Kessen-henTV (13 eps)Oct 2022 - Dec 2022474,138 members",
         "9.06",
         "13",
         "Oct 2022 - Dec 2022"
        ],
        [
         "3",
         "4",
         "Gintama°TV (51 eps)Apr 2015 - Mar 2016605,113 members",
         "9.06",
         "51",
         "Apr 2015 - Mar 2016"
        ],
        [
         "4",
         "5",
         "Shingeki no Kyojin Season 3 Part 2TV (10 eps)Apr 2019 - Jul 20192,146,679 membersManga StoreVolume 1€10.99Preview",
         "9.05",
         "10",
         "Apr 2019 - Jul 2019"
        ]
       ],
       "shape": {
        "columns": 5,
        "rows": 5
       }
      },
      "text/html": [
       "<div>\n",
       "<style scoped>\n",
       "    .dataframe tbody tr th:only-of-type {\n",
       "        vertical-align: middle;\n",
       "    }\n",
       "\n",
       "    .dataframe tbody tr th {\n",
       "        vertical-align: top;\n",
       "    }\n",
       "\n",
       "    .dataframe thead th {\n",
       "        text-align: right;\n",
       "    }\n",
       "</style>\n",
       "<table border=\"1\" class=\"dataframe\">\n",
       "  <thead>\n",
       "    <tr style=\"text-align: right;\">\n",
       "      <th></th>\n",
       "      <th>Rank</th>\n",
       "      <th>Title</th>\n",
       "      <th>Score</th>\n",
       "      <th>Episods</th>\n",
       "      <th>Total Time</th>\n",
       "    </tr>\n",
       "  </thead>\n",
       "  <tbody>\n",
       "    <tr>\n",
       "      <th>0</th>\n",
       "      <td>1</td>\n",
       "      <td>Fullmetal Alchemist: BrotherhoodTV (64 eps)Apr...</td>\n",
       "      <td>9.10</td>\n",
       "      <td>64</td>\n",
       "      <td>Apr 2009 - Jul 2010</td>\n",
       "    </tr>\n",
       "    <tr>\n",
       "      <th>1</th>\n",
       "      <td>2</td>\n",
       "      <td>Steins;GateTV (24 eps)Apr 2011 - Sep 20112,473...</td>\n",
       "      <td>9.07</td>\n",
       "      <td>24</td>\n",
       "      <td>Apr 2011 - Sep 2011</td>\n",
       "    </tr>\n",
       "    <tr>\n",
       "      <th>2</th>\n",
       "      <td>3</td>\n",
       "      <td>Bleach: Sennen Kessen-henTV (13 eps)Oct 2022 -...</td>\n",
       "      <td>9.06</td>\n",
       "      <td>13</td>\n",
       "      <td>Oct 2022 - Dec 2022</td>\n",
       "    </tr>\n",
       "    <tr>\n",
       "      <th>3</th>\n",
       "      <td>4</td>\n",
       "      <td>Gintama°TV (51 eps)Apr 2015 - Mar 2016605,113 ...</td>\n",
       "      <td>9.06</td>\n",
       "      <td>51</td>\n",
       "      <td>Apr 2015 - Mar 2016</td>\n",
       "    </tr>\n",
       "    <tr>\n",
       "      <th>4</th>\n",
       "      <td>5</td>\n",
       "      <td>Shingeki no Kyojin Season 3 Part 2TV (10 eps)A...</td>\n",
       "      <td>9.05</td>\n",
       "      <td>10</td>\n",
       "      <td>Apr 2019 - Jul 2019</td>\n",
       "    </tr>\n",
       "  </tbody>\n",
       "</table>\n",
       "</div>"
      ],
      "text/plain": [
       "   Rank                                              Title  Score  Episods  \\\n",
       "0     1  Fullmetal Alchemist: BrotherhoodTV (64 eps)Apr...   9.10       64   \n",
       "1     2  Steins;GateTV (24 eps)Apr 2011 - Sep 20112,473...   9.07       24   \n",
       "2     3  Bleach: Sennen Kessen-henTV (13 eps)Oct 2022 -...   9.06       13   \n",
       "3     4  Gintama°TV (51 eps)Apr 2015 - Mar 2016605,113 ...   9.06       51   \n",
       "4     5  Shingeki no Kyojin Season 3 Part 2TV (10 eps)A...   9.05       10   \n",
       "\n",
       "            Total Time  \n",
       "0  Apr 2009 - Jul 2010  \n",
       "1  Apr 2011 - Sep 2011  \n",
       "2  Oct 2022 - Dec 2022  \n",
       "3  Apr 2015 - Mar 2016  \n",
       "4  Apr 2019 - Jul 2019  "
      ]
     },
     "execution_count": 53,
     "metadata": {},
     "output_type": "execute_result"
    }
   ],
   "source": [
    "df.head()"
   ]
  },
  {
   "cell_type": "code",
   "execution_count": 56,
   "id": "c9003091",
   "metadata": {},
   "outputs": [
    {
     "data": {
      "application/vnd.microsoft.datawrangler.viewer.v0+json": {
       "columns": [
        {
         "name": "index",
         "rawType": "int64",
         "type": "integer"
        },
        {
         "name": "Rank",
         "rawType": "int64",
         "type": "integer"
        },
        {
         "name": "Title",
         "rawType": "object",
         "type": "string"
        },
        {
         "name": "Score",
         "rawType": "float64",
         "type": "float"
        },
        {
         "name": "Episods",
         "rawType": "int64",
         "type": "integer"
        },
        {
         "name": "Total Time",
         "rawType": "object",
         "type": "string"
        },
        {
         "name": "Months",
         "rawType": "int64",
         "type": "integer"
        }
       ],
       "ref": "029983a1-faaa-4239-971f-f2e41f41966b",
       "rows": [
        [
         "0",
         "1",
         "Fullmetal Alchemist: BrotherhoodTV (64 eps)Apr 2009 - Jul 20103,218,472 membersManga StoreVolume 1€4.58Preview",
         "9.1",
         "64",
         "Apr 2009 - Jul 2010",
         "16"
        ],
        [
         "1",
         "2",
         "Steins;GateTV (24 eps)Apr 2011 - Sep 20112,473,707 members",
         "9.07",
         "24",
         "Apr 2011 - Sep 2011",
         "6"
        ],
        [
         "2",
         "3",
         "Bleach: Sennen Kessen-henTV (13 eps)Oct 2022 - Dec 2022474,138 members",
         "9.06",
         "13",
         "Oct 2022 - Dec 2022",
         "3"
        ],
        [
         "3",
         "4",
         "Gintama°TV (51 eps)Apr 2015 - Mar 2016605,113 members",
         "9.06",
         "51",
         "Apr 2015 - Mar 2016",
         "12"
        ],
        [
         "4",
         "5",
         "Shingeki no Kyojin Season 3 Part 2TV (10 eps)Apr 2019 - Jul 20192,146,679 membersManga StoreVolume 1€10.99Preview",
         "9.05",
         "10",
         "Apr 2019 - Jul 2019",
         "4"
        ],
        [
         "5",
         "6",
         "Gintama'TV (51 eps)Apr 2011 - Mar 2012534,105 members",
         "9.04",
         "51",
         "Apr 2011 - Mar 2012",
         "12"
        ],
        [
         "6",
         "7",
         "Gintama: The FinalMovie (1 eps)Jan 2021 - Jan 2021137,208 members",
         "9.04",
         "1",
         "Jan 2021 - Jan 2021",
         "1"
        ],
        [
         "7",
         "8",
         "Hunter x Hunter TV (148 eps)Oct 2011 - Sep 20142,701,154 members",
         "9.04",
         "148",
         "Oct 2011 - Sep 2014",
         "36"
        ],
        [
         "8",
         "9",
         "Kaguya-sama wa Kokurasetai: Ultra RomanticTV (13 eps)Apr 2022 - Jun 2022851,445 members",
         "9.04",
         "13",
         "Apr 2022 - Jun 2022",
         "3"
        ],
        [
         "9",
         "10",
         "Gintama': EnchousenTV (13 eps)Oct 2012 - Mar 2013313,446 members",
         "9.03",
         "13",
         "Oct 2012 - Mar 2013",
         "6"
        ],
        [
         "10",
         "11",
         "Shingeki no Kyojin: The Final Season - Kanketsu-henSpecial (2 eps)Mar 2023 - May 2023472,340 membersManga StoreVolume 1€10.99Preview",
         "9.03",
         "2",
         "Mar 2023 - May 2023",
         "3"
        ],
        [
         "11",
         "12",
         "Ginga Eiyuu DensetsuOVA (110 eps)Jan 1988 - Mar 1997309,193 members",
         "9.02",
         "110",
         "Jan 1988 - Mar 1997",
         "111"
        ],
        [
         "12",
         "13",
         "Bleach: Sennen Kessen-hen - Ketsubetsu-tanTV (13 eps)Jul 2023 - Aug 2023 178,482 members",
         "8.99",
         "13",
         "Jul 2023 - Aug 2023",
         "2"
        ],
        [
         "13",
         "14",
         "Fruits Basket: The FinalTV (13 eps)Apr 2021 - Jun 2021443,882 membersManga StoreVolume 1€6.66Preview",
         "8.99",
         "13",
         "Apr 2021 - Jun 2021",
         "3"
        ],
        [
         "14",
         "15",
         "Gintama.TV (12 eps)Jan 2017 - Mar 2017302,232 members",
         "8.98",
         "12",
         "Jan 2017 - Mar 2017",
         "3"
        ],
        [
         "15",
         "16",
         "GintamaTV (201 eps)Apr 2006 - Mar 20101,034,418 members",
         "8.94",
         "201",
         "Apr 2006 - Mar 2010",
         "48"
        ],
        [
         "16",
         "17",
         "Koe no KatachiMovie (1 eps)Sep 2016 - Sep 20162,228,957 membersManga StoreVolume 1€10.99Preview",
         "8.94",
         "1",
         "Sep 2016 - Sep 2016",
         "1"
        ],
        [
         "17",
         "18",
         "3-gatsu no Lion 2nd SeasonTV (22 eps)Oct 2017 - Mar 2018388,358 members",
         "8.93",
         "22",
         "Oct 2017 - Mar 2018",
         "6"
        ],
        [
         "18",
         "19",
         "Clannad: After StoryTV (24 eps)Oct 2008 - Mar 20091,160,879 members",
         "8.93",
         "24",
         "Oct 2008 - Mar 2009",
         "6"
        ],
        [
         "19",
         "20",
         "Code Geass: Hangyaku no Lelouch R2TV (25 eps)Apr 2008 - Sep 20081,720,715 members",
         "8.91",
         "25",
         "Apr 2008 - Sep 2008",
         "6"
        ],
        [
         "20",
         "21",
         "Gintama Movie 2: Kanketsu-hen - Yorozuya yo Eien NareMovie (1 eps)Jul 2013 - Jul 2013232,388 members",
         "8.91",
         "1",
         "Jul 2013 - Jul 2013",
         "1"
        ],
        [
         "21",
         "22",
         "Violet Evergarden MovieMovie (1 eps)Sep 2020 - Sep 2020564,225 members",
         "8.89",
         "1",
         "Sep 2020 - Sep 2020",
         "1"
        ],
        [
         "22",
         "23",
         "Owarimonogatari 2nd SeasonTV (7 eps)Aug 2017 - Aug 2017385,248 members",
         "8.88",
         "7",
         "Aug 2017 - Aug 2017",
         "1"
        ],
        [
         "23",
         "24",
         "Gintama.: Shirogane no Tamashii-hen - Kouhan-senTV (14 eps)Jul 2018 - Oct 2018189,172 members",
         "8.88",
         "14",
         "Jul 2018 - Oct 2018",
         "4"
        ],
        [
         "24",
         "25",
         "MonsterTV (74 eps)Apr 2004 - Sep 20051,041,081 members",
         "8.87",
         "74",
         "Apr 2004 - Sep 2005",
         "18"
        ],
        [
         "25",
         "26",
         "Kimi no Na wa.Movie (1 eps)Aug 2016 - Aug 20162,635,814 membersManga StoreVolume 1€4.58Preview",
         "8.84",
         "1",
         "Aug 2016 - Aug 2016",
         "1"
        ],
        [
         "26",
         "27",
         "Kaguya-sama wa Kokurasetai: First Kiss wa OwaranaiMovie (1 eps)Dec 2022 - Dec 2022205,150 members",
         "8.84",
         "1",
         "Dec 2022 - Dec 2022",
         "1"
        ],
        [
         "27",
         "28",
         "Bocchi the Rock!TV (12 eps)Oct 2022 - Dec 2022464,981 members",
         "8.83",
         "12",
         "Oct 2022 - Dec 2022",
         "3"
        ],
        [
         "28",
         "29",
         "The First Slam DunkMovie (1 eps)Dec 2022 - Dec 202227,063 members",
         "8.83",
         "1",
         "Dec 2022 - Dec 2022",
         "1"
        ],
        [
         "29",
         "30",
         "Vinland Saga Season 2TV (24 eps)Jan 2023 - Jun 2023495,454 membersManga StoreVolume 1€17.99Preview",
         "8.82",
         "24",
         "Jan 2023 - Jun 2023",
         "6"
        ],
        [
         "30",
         "31",
         "Jujutsu Kaisen 2nd SeasonTV (23 eps)Jul 2023 - Aug 2023 556,301 members",
         "8.82",
         "23",
         "Jul 2023 - Aug 2023",
         "2"
        ],
        [
         "31",
         "32",
         "Gintama.: Shirogane no Tamashii-henTV (12 eps)Jan 2018 - Mar 2018203,540 members",
         "8.81",
         "12",
         "Jan 2018 - Mar 2018",
         "3"
        ],
        [
         "32",
         "33",
         "Kingdom 3rd SeasonTV (26 eps)Apr 2020 - Oct 202193,645 members",
         "8.81",
         "26",
         "Apr 2020 - Oct 2021",
         "19"
        ],
        [
         "33",
         "34",
         "Mob Psycho 100 IITV (13 eps)Jan 2019 - Apr 20191,458,089 members",
         "8.8",
         "13",
         "Jan 2019 - Apr 2019",
         "4"
        ],
        [
         "34",
         "35",
         "Shingeki no Kyojin: The Final SeasonTV (16 eps)Dec 2020 - Mar 20211,882,760 membersManga StoreVolume 1€10.99Preview",
         "8.8",
         "16",
         "Dec 2020 - Mar 2021",
         "4"
        ],
        [
         "35",
         "36",
         "Kimetsu no Yaiba: Yuukaku-henTV (11 eps)Dec 2021 - Feb 20221,302,152 members",
         "8.79",
         "11",
         "Dec 2021 - Feb 2022",
         "3"
        ],
        [
         "36",
         "37",
         "Kizumonogatari III: Reiketsu-henMovie (1 eps)Jan 2017 - Jan 2017445,640 membersManga StorePart1€9.99Preview",
         "8.79",
         "1",
         "Jan 2017 - Jan 2017",
         "1"
        ],
        [
         "37",
         "38",
         "\"Oshi no Ko\"TV (11 eps)Apr 2023 - Jun 2023645,856 members",
         "8.79",
         "11",
         "Apr 2023 - Jun 2023",
         "3"
        ],
        [
         "38",
         "39",
         "Haikyuu!! Karasuno Koukou vs. Shiratorizawa Gakuen KoukouTV (10 eps)Oct 2016 - Dec 20161,157,497 members",
         "8.78",
         "10",
         "Oct 2016 - Dec 2016",
         "3"
        ],
        [
         "39",
         "40",
         "Sen to Chihiro no KamikakushiMovie (1 eps)Jul 2001 - Jul 20011,784,960 members",
         "8.78",
         "1",
         "Jul 2001 - Jul 2001",
         "1"
        ],
        [
         "40",
         "41",
         "Monogatari Series: Second SeasonTV (26 eps)Jul 2013 - Dec 2013653,257 membersManga StoreVolume 1€9.99Preview",
         "8.77",
         "26",
         "Jul 2013 - Dec 2013",
         "6"
        ],
        [
         "41",
         "42",
         "Shingeki no Kyojin: The Final Season Part 2TV (12 eps)Jan 2022 - Apr 20221,170,165 membersManga StoreVolume 1€10.99Preview",
         "8.77",
         "12",
         "Jan 2022 - Apr 2022",
         "4"
        ],
        [
         "42",
         "43",
         "Hajime no IppoTV (75 eps)Oct 2000 - Mar 2002558,435 members",
         "8.76",
         "75",
         "Oct 2000 - Mar 2002",
         "18"
        ],
        [
         "43",
         "44",
         "Cowboy BebopTV (26 eps)Apr 1998 - Apr 19991,796,109 members",
         "8.75",
         "26",
         "Apr 1998 - Apr 1999",
         "13"
        ],
        [
         "44",
         "45",
         "Kingdom 4th SeasonTV (26 eps)Apr 2022 - Oct 202255,833 members",
         "8.75",
         "26",
         "Apr 2022 - Oct 2022",
         "7"
        ],
        [
         "45",
         "46",
         "Vinland SagaTV (24 eps)Jul 2019 - Dec 20191,403,669 membersManga StoreVolume 1€17.99Preview",
         "8.74",
         "24",
         "Jul 2019 - Dec 2019",
         "6"
        ],
        [
         "46",
         "47",
         "Mushishi Zoku Shou 2nd SeasonTV (10 eps)Oct 2014 - Dec 2014257,622 membersManga StoreVolume 1€10.99Preview",
         "8.73",
         "10",
         "Oct 2014 - Dec 2014",
         "3"
        ],
        [
         "47",
         "48",
         "Shouwa Genroku Rakugo Shinjuu: Sukeroku Futatabi-henTV (12 eps)Jan 2017 - Mar 2017182,450 membersManga StoreVolume 1€12.99Preview",
         "8.72",
         "12",
         "Jan 2017 - Mar 2017",
         "3"
        ],
        [
         "48",
         "49",
         "Mob Psycho 100 IIITV (12 eps)Oct 2022 - Dec 2022600,098 members",
         "8.71",
         "12",
         "Oct 2022 - Dec 2022",
         "3"
        ],
        [
         "49",
         "50",
         "Rurouni Kenshin: Meiji Kenkaku Romantan - Tsuioku-henOVA (4 eps)Feb 1999 - Sep 1999271,108 members",
         "8.71",
         "4",
         "Feb 1999 - Sep 1999",
         "8"
        ]
       ],
       "shape": {
        "columns": 6,
        "rows": 50
       }
      },
      "text/html": [
       "<div>\n",
       "<style scoped>\n",
       "    .dataframe tbody tr th:only-of-type {\n",
       "        vertical-align: middle;\n",
       "    }\n",
       "\n",
       "    .dataframe tbody tr th {\n",
       "        vertical-align: top;\n",
       "    }\n",
       "\n",
       "    .dataframe thead th {\n",
       "        text-align: right;\n",
       "    }\n",
       "</style>\n",
       "<table border=\"1\" class=\"dataframe\">\n",
       "  <thead>\n",
       "    <tr style=\"text-align: right;\">\n",
       "      <th></th>\n",
       "      <th>Rank</th>\n",
       "      <th>Title</th>\n",
       "      <th>Score</th>\n",
       "      <th>Episods</th>\n",
       "      <th>Total Time</th>\n",
       "      <th>Months</th>\n",
       "    </tr>\n",
       "  </thead>\n",
       "  <tbody>\n",
       "    <tr>\n",
       "      <th>0</th>\n",
       "      <td>1</td>\n",
       "      <td>Fullmetal Alchemist: BrotherhoodTV (64 eps)Apr...</td>\n",
       "      <td>9.10</td>\n",
       "      <td>64</td>\n",
       "      <td>Apr 2009 - Jul 2010</td>\n",
       "      <td>16</td>\n",
       "    </tr>\n",
       "    <tr>\n",
       "      <th>1</th>\n",
       "      <td>2</td>\n",
       "      <td>Steins;GateTV (24 eps)Apr 2011 - Sep 20112,473...</td>\n",
       "      <td>9.07</td>\n",
       "      <td>24</td>\n",
       "      <td>Apr 2011 - Sep 2011</td>\n",
       "      <td>6</td>\n",
       "    </tr>\n",
       "    <tr>\n",
       "      <th>2</th>\n",
       "      <td>3</td>\n",
       "      <td>Bleach: Sennen Kessen-henTV (13 eps)Oct 2022 -...</td>\n",
       "      <td>9.06</td>\n",
       "      <td>13</td>\n",
       "      <td>Oct 2022 - Dec 2022</td>\n",
       "      <td>3</td>\n",
       "    </tr>\n",
       "    <tr>\n",
       "      <th>3</th>\n",
       "      <td>4</td>\n",
       "      <td>Gintama°TV (51 eps)Apr 2015 - Mar 2016605,113 ...</td>\n",
       "      <td>9.06</td>\n",
       "      <td>51</td>\n",
       "      <td>Apr 2015 - Mar 2016</td>\n",
       "      <td>12</td>\n",
       "    </tr>\n",
       "    <tr>\n",
       "      <th>4</th>\n",
       "      <td>5</td>\n",
       "      <td>Shingeki no Kyojin Season 3 Part 2TV (10 eps)A...</td>\n",
       "      <td>9.05</td>\n",
       "      <td>10</td>\n",
       "      <td>Apr 2019 - Jul 2019</td>\n",
       "      <td>4</td>\n",
       "    </tr>\n",
       "    <tr>\n",
       "      <th>5</th>\n",
       "      <td>6</td>\n",
       "      <td>Gintama'TV (51 eps)Apr 2011 - Mar 2012534,105 ...</td>\n",
       "      <td>9.04</td>\n",
       "      <td>51</td>\n",
       "      <td>Apr 2011 - Mar 2012</td>\n",
       "      <td>12</td>\n",
       "    </tr>\n",
       "    <tr>\n",
       "      <th>6</th>\n",
       "      <td>7</td>\n",
       "      <td>Gintama: The FinalMovie (1 eps)Jan 2021 - Jan ...</td>\n",
       "      <td>9.04</td>\n",
       "      <td>1</td>\n",
       "      <td>Jan 2021 - Jan 2021</td>\n",
       "      <td>1</td>\n",
       "    </tr>\n",
       "    <tr>\n",
       "      <th>7</th>\n",
       "      <td>8</td>\n",
       "      <td>Hunter x Hunter TV (148 eps)Oct 2011 - Sep 201...</td>\n",
       "      <td>9.04</td>\n",
       "      <td>148</td>\n",
       "      <td>Oct 2011 - Sep 2014</td>\n",
       "      <td>36</td>\n",
       "    </tr>\n",
       "    <tr>\n",
       "      <th>8</th>\n",
       "      <td>9</td>\n",
       "      <td>Kaguya-sama wa Kokurasetai: Ultra RomanticTV (...</td>\n",
       "      <td>9.04</td>\n",
       "      <td>13</td>\n",
       "      <td>Apr 2022 - Jun 2022</td>\n",
       "      <td>3</td>\n",
       "    </tr>\n",
       "    <tr>\n",
       "      <th>9</th>\n",
       "      <td>10</td>\n",
       "      <td>Gintama': EnchousenTV (13 eps)Oct 2012 - Mar 2...</td>\n",
       "      <td>9.03</td>\n",
       "      <td>13</td>\n",
       "      <td>Oct 2012 - Mar 2013</td>\n",
       "      <td>6</td>\n",
       "    </tr>\n",
       "    <tr>\n",
       "      <th>10</th>\n",
       "      <td>11</td>\n",
       "      <td>Shingeki no Kyojin: The Final Season - Kankets...</td>\n",
       "      <td>9.03</td>\n",
       "      <td>2</td>\n",
       "      <td>Mar 2023 - May 2023</td>\n",
       "      <td>3</td>\n",
       "    </tr>\n",
       "    <tr>\n",
       "      <th>11</th>\n",
       "      <td>12</td>\n",
       "      <td>Ginga Eiyuu DensetsuOVA (110 eps)Jan 1988 - Ma...</td>\n",
       "      <td>9.02</td>\n",
       "      <td>110</td>\n",
       "      <td>Jan 1988 - Mar 1997</td>\n",
       "      <td>111</td>\n",
       "    </tr>\n",
       "    <tr>\n",
       "      <th>12</th>\n",
       "      <td>13</td>\n",
       "      <td>Bleach: Sennen Kessen-hen - Ketsubetsu-tanTV (...</td>\n",
       "      <td>8.99</td>\n",
       "      <td>13</td>\n",
       "      <td>Jul 2023 - Aug 2023</td>\n",
       "      <td>2</td>\n",
       "    </tr>\n",
       "    <tr>\n",
       "      <th>13</th>\n",
       "      <td>14</td>\n",
       "      <td>Fruits Basket: The FinalTV (13 eps)Apr 2021 - ...</td>\n",
       "      <td>8.99</td>\n",
       "      <td>13</td>\n",
       "      <td>Apr 2021 - Jun 2021</td>\n",
       "      <td>3</td>\n",
       "    </tr>\n",
       "    <tr>\n",
       "      <th>14</th>\n",
       "      <td>15</td>\n",
       "      <td>Gintama.TV (12 eps)Jan 2017 - Mar 2017302,232 ...</td>\n",
       "      <td>8.98</td>\n",
       "      <td>12</td>\n",
       "      <td>Jan 2017 - Mar 2017</td>\n",
       "      <td>3</td>\n",
       "    </tr>\n",
       "    <tr>\n",
       "      <th>15</th>\n",
       "      <td>16</td>\n",
       "      <td>GintamaTV (201 eps)Apr 2006 - Mar 20101,034,41...</td>\n",
       "      <td>8.94</td>\n",
       "      <td>201</td>\n",
       "      <td>Apr 2006 - Mar 2010</td>\n",
       "      <td>48</td>\n",
       "    </tr>\n",
       "    <tr>\n",
       "      <th>16</th>\n",
       "      <td>17</td>\n",
       "      <td>Koe no KatachiMovie (1 eps)Sep 2016 - Sep 2016...</td>\n",
       "      <td>8.94</td>\n",
       "      <td>1</td>\n",
       "      <td>Sep 2016 - Sep 2016</td>\n",
       "      <td>1</td>\n",
       "    </tr>\n",
       "    <tr>\n",
       "      <th>17</th>\n",
       "      <td>18</td>\n",
       "      <td>3-gatsu no Lion 2nd SeasonTV (22 eps)Oct 2017 ...</td>\n",
       "      <td>8.93</td>\n",
       "      <td>22</td>\n",
       "      <td>Oct 2017 - Mar 2018</td>\n",
       "      <td>6</td>\n",
       "    </tr>\n",
       "    <tr>\n",
       "      <th>18</th>\n",
       "      <td>19</td>\n",
       "      <td>Clannad: After StoryTV (24 eps)Oct 2008 - Mar ...</td>\n",
       "      <td>8.93</td>\n",
       "      <td>24</td>\n",
       "      <td>Oct 2008 - Mar 2009</td>\n",
       "      <td>6</td>\n",
       "    </tr>\n",
       "    <tr>\n",
       "      <th>19</th>\n",
       "      <td>20</td>\n",
       "      <td>Code Geass: Hangyaku no Lelouch R2TV (25 eps)A...</td>\n",
       "      <td>8.91</td>\n",
       "      <td>25</td>\n",
       "      <td>Apr 2008 - Sep 2008</td>\n",
       "      <td>6</td>\n",
       "    </tr>\n",
       "    <tr>\n",
       "      <th>20</th>\n",
       "      <td>21</td>\n",
       "      <td>Gintama Movie 2: Kanketsu-hen - Yorozuya yo Ei...</td>\n",
       "      <td>8.91</td>\n",
       "      <td>1</td>\n",
       "      <td>Jul 2013 - Jul 2013</td>\n",
       "      <td>1</td>\n",
       "    </tr>\n",
       "    <tr>\n",
       "      <th>21</th>\n",
       "      <td>22</td>\n",
       "      <td>Violet Evergarden MovieMovie (1 eps)Sep 2020 -...</td>\n",
       "      <td>8.89</td>\n",
       "      <td>1</td>\n",
       "      <td>Sep 2020 - Sep 2020</td>\n",
       "      <td>1</td>\n",
       "    </tr>\n",
       "    <tr>\n",
       "      <th>22</th>\n",
       "      <td>23</td>\n",
       "      <td>Owarimonogatari 2nd SeasonTV (7 eps)Aug 2017 -...</td>\n",
       "      <td>8.88</td>\n",
       "      <td>7</td>\n",
       "      <td>Aug 2017 - Aug 2017</td>\n",
       "      <td>1</td>\n",
       "    </tr>\n",
       "    <tr>\n",
       "      <th>23</th>\n",
       "      <td>24</td>\n",
       "      <td>Gintama.: Shirogane no Tamashii-hen - Kouhan-s...</td>\n",
       "      <td>8.88</td>\n",
       "      <td>14</td>\n",
       "      <td>Jul 2018 - Oct 2018</td>\n",
       "      <td>4</td>\n",
       "    </tr>\n",
       "    <tr>\n",
       "      <th>24</th>\n",
       "      <td>25</td>\n",
       "      <td>MonsterTV (74 eps)Apr 2004 - Sep 20051,041,081...</td>\n",
       "      <td>8.87</td>\n",
       "      <td>74</td>\n",
       "      <td>Apr 2004 - Sep 2005</td>\n",
       "      <td>18</td>\n",
       "    </tr>\n",
       "    <tr>\n",
       "      <th>25</th>\n",
       "      <td>26</td>\n",
       "      <td>Kimi no Na wa.Movie (1 eps)Aug 2016 - Aug 2016...</td>\n",
       "      <td>8.84</td>\n",
       "      <td>1</td>\n",
       "      <td>Aug 2016 - Aug 2016</td>\n",
       "      <td>1</td>\n",
       "    </tr>\n",
       "    <tr>\n",
       "      <th>26</th>\n",
       "      <td>27</td>\n",
       "      <td>Kaguya-sama wa Kokurasetai: First Kiss wa Owar...</td>\n",
       "      <td>8.84</td>\n",
       "      <td>1</td>\n",
       "      <td>Dec 2022 - Dec 2022</td>\n",
       "      <td>1</td>\n",
       "    </tr>\n",
       "    <tr>\n",
       "      <th>27</th>\n",
       "      <td>28</td>\n",
       "      <td>Bocchi the Rock!TV (12 eps)Oct 2022 - Dec 2022...</td>\n",
       "      <td>8.83</td>\n",
       "      <td>12</td>\n",
       "      <td>Oct 2022 - Dec 2022</td>\n",
       "      <td>3</td>\n",
       "    </tr>\n",
       "    <tr>\n",
       "      <th>28</th>\n",
       "      <td>29</td>\n",
       "      <td>The First Slam DunkMovie (1 eps)Dec 2022 - Dec...</td>\n",
       "      <td>8.83</td>\n",
       "      <td>1</td>\n",
       "      <td>Dec 2022 - Dec 2022</td>\n",
       "      <td>1</td>\n",
       "    </tr>\n",
       "    <tr>\n",
       "      <th>29</th>\n",
       "      <td>30</td>\n",
       "      <td>Vinland Saga Season 2TV (24 eps)Jan 2023 - Jun...</td>\n",
       "      <td>8.82</td>\n",
       "      <td>24</td>\n",
       "      <td>Jan 2023 - Jun 2023</td>\n",
       "      <td>6</td>\n",
       "    </tr>\n",
       "    <tr>\n",
       "      <th>30</th>\n",
       "      <td>31</td>\n",
       "      <td>Jujutsu Kaisen 2nd SeasonTV (23 eps)Jul 2023 -...</td>\n",
       "      <td>8.82</td>\n",
       "      <td>23</td>\n",
       "      <td>Jul 2023 - Aug 2023</td>\n",
       "      <td>2</td>\n",
       "    </tr>\n",
       "    <tr>\n",
       "      <th>31</th>\n",
       "      <td>32</td>\n",
       "      <td>Gintama.: Shirogane no Tamashii-henTV (12 eps)...</td>\n",
       "      <td>8.81</td>\n",
       "      <td>12</td>\n",
       "      <td>Jan 2018 - Mar 2018</td>\n",
       "      <td>3</td>\n",
       "    </tr>\n",
       "    <tr>\n",
       "      <th>32</th>\n",
       "      <td>33</td>\n",
       "      <td>Kingdom 3rd SeasonTV (26 eps)Apr 2020 - Oct 20...</td>\n",
       "      <td>8.81</td>\n",
       "      <td>26</td>\n",
       "      <td>Apr 2020 - Oct 2021</td>\n",
       "      <td>19</td>\n",
       "    </tr>\n",
       "    <tr>\n",
       "      <th>33</th>\n",
       "      <td>34</td>\n",
       "      <td>Mob Psycho 100 IITV (13 eps)Jan 2019 - Apr 201...</td>\n",
       "      <td>8.80</td>\n",
       "      <td>13</td>\n",
       "      <td>Jan 2019 - Apr 2019</td>\n",
       "      <td>4</td>\n",
       "    </tr>\n",
       "    <tr>\n",
       "      <th>34</th>\n",
       "      <td>35</td>\n",
       "      <td>Shingeki no Kyojin: The Final SeasonTV (16 eps...</td>\n",
       "      <td>8.80</td>\n",
       "      <td>16</td>\n",
       "      <td>Dec 2020 - Mar 2021</td>\n",
       "      <td>4</td>\n",
       "    </tr>\n",
       "    <tr>\n",
       "      <th>35</th>\n",
       "      <td>36</td>\n",
       "      <td>Kimetsu no Yaiba: Yuukaku-henTV (11 eps)Dec 20...</td>\n",
       "      <td>8.79</td>\n",
       "      <td>11</td>\n",
       "      <td>Dec 2021 - Feb 2022</td>\n",
       "      <td>3</td>\n",
       "    </tr>\n",
       "    <tr>\n",
       "      <th>36</th>\n",
       "      <td>37</td>\n",
       "      <td>Kizumonogatari III: Reiketsu-henMovie (1 eps)J...</td>\n",
       "      <td>8.79</td>\n",
       "      <td>1</td>\n",
       "      <td>Jan 2017 - Jan 2017</td>\n",
       "      <td>1</td>\n",
       "    </tr>\n",
       "    <tr>\n",
       "      <th>37</th>\n",
       "      <td>38</td>\n",
       "      <td>\"Oshi no Ko\"TV (11 eps)Apr 2023 - Jun 2023645,...</td>\n",
       "      <td>8.79</td>\n",
       "      <td>11</td>\n",
       "      <td>Apr 2023 - Jun 2023</td>\n",
       "      <td>3</td>\n",
       "    </tr>\n",
       "    <tr>\n",
       "      <th>38</th>\n",
       "      <td>39</td>\n",
       "      <td>Haikyuu!! Karasuno Koukou vs. Shiratorizawa Ga...</td>\n",
       "      <td>8.78</td>\n",
       "      <td>10</td>\n",
       "      <td>Oct 2016 - Dec 2016</td>\n",
       "      <td>3</td>\n",
       "    </tr>\n",
       "    <tr>\n",
       "      <th>39</th>\n",
       "      <td>40</td>\n",
       "      <td>Sen to Chihiro no KamikakushiMovie (1 eps)Jul ...</td>\n",
       "      <td>8.78</td>\n",
       "      <td>1</td>\n",
       "      <td>Jul 2001 - Jul 2001</td>\n",
       "      <td>1</td>\n",
       "    </tr>\n",
       "    <tr>\n",
       "      <th>40</th>\n",
       "      <td>41</td>\n",
       "      <td>Monogatari Series: Second SeasonTV (26 eps)Jul...</td>\n",
       "      <td>8.77</td>\n",
       "      <td>26</td>\n",
       "      <td>Jul 2013 - Dec 2013</td>\n",
       "      <td>6</td>\n",
       "    </tr>\n",
       "    <tr>\n",
       "      <th>41</th>\n",
       "      <td>42</td>\n",
       "      <td>Shingeki no Kyojin: The Final Season Part 2TV ...</td>\n",
       "      <td>8.77</td>\n",
       "      <td>12</td>\n",
       "      <td>Jan 2022 - Apr 2022</td>\n",
       "      <td>4</td>\n",
       "    </tr>\n",
       "    <tr>\n",
       "      <th>42</th>\n",
       "      <td>43</td>\n",
       "      <td>Hajime no IppoTV (75 eps)Oct 2000 - Mar 200255...</td>\n",
       "      <td>8.76</td>\n",
       "      <td>75</td>\n",
       "      <td>Oct 2000 - Mar 2002</td>\n",
       "      <td>18</td>\n",
       "    </tr>\n",
       "    <tr>\n",
       "      <th>43</th>\n",
       "      <td>44</td>\n",
       "      <td>Cowboy BebopTV (26 eps)Apr 1998 - Apr 19991,79...</td>\n",
       "      <td>8.75</td>\n",
       "      <td>26</td>\n",
       "      <td>Apr 1998 - Apr 1999</td>\n",
       "      <td>13</td>\n",
       "    </tr>\n",
       "    <tr>\n",
       "      <th>44</th>\n",
       "      <td>45</td>\n",
       "      <td>Kingdom 4th SeasonTV (26 eps)Apr 2022 - Oct 20...</td>\n",
       "      <td>8.75</td>\n",
       "      <td>26</td>\n",
       "      <td>Apr 2022 - Oct 2022</td>\n",
       "      <td>7</td>\n",
       "    </tr>\n",
       "    <tr>\n",
       "      <th>45</th>\n",
       "      <td>46</td>\n",
       "      <td>Vinland SagaTV (24 eps)Jul 2019 - Dec 20191,40...</td>\n",
       "      <td>8.74</td>\n",
       "      <td>24</td>\n",
       "      <td>Jul 2019 - Dec 2019</td>\n",
       "      <td>6</td>\n",
       "    </tr>\n",
       "    <tr>\n",
       "      <th>46</th>\n",
       "      <td>47</td>\n",
       "      <td>Mushishi Zoku Shou 2nd SeasonTV (10 eps)Oct 20...</td>\n",
       "      <td>8.73</td>\n",
       "      <td>10</td>\n",
       "      <td>Oct 2014 - Dec 2014</td>\n",
       "      <td>3</td>\n",
       "    </tr>\n",
       "    <tr>\n",
       "      <th>47</th>\n",
       "      <td>48</td>\n",
       "      <td>Shouwa Genroku Rakugo Shinjuu: Sukeroku Futata...</td>\n",
       "      <td>8.72</td>\n",
       "      <td>12</td>\n",
       "      <td>Jan 2017 - Mar 2017</td>\n",
       "      <td>3</td>\n",
       "    </tr>\n",
       "    <tr>\n",
       "      <th>48</th>\n",
       "      <td>49</td>\n",
       "      <td>Mob Psycho 100 IIITV (12 eps)Oct 2022 - Dec 20...</td>\n",
       "      <td>8.71</td>\n",
       "      <td>12</td>\n",
       "      <td>Oct 2022 - Dec 2022</td>\n",
       "      <td>3</td>\n",
       "    </tr>\n",
       "    <tr>\n",
       "      <th>49</th>\n",
       "      <td>50</td>\n",
       "      <td>Rurouni Kenshin: Meiji Kenkaku Romantan - Tsui...</td>\n",
       "      <td>8.71</td>\n",
       "      <td>4</td>\n",
       "      <td>Feb 1999 - Sep 1999</td>\n",
       "      <td>8</td>\n",
       "    </tr>\n",
       "  </tbody>\n",
       "</table>\n",
       "</div>"
      ],
      "text/plain": [
       "    Rank                                              Title  Score  Episods  \\\n",
       "0      1  Fullmetal Alchemist: BrotherhoodTV (64 eps)Apr...   9.10       64   \n",
       "1      2  Steins;GateTV (24 eps)Apr 2011 - Sep 20112,473...   9.07       24   \n",
       "2      3  Bleach: Sennen Kessen-henTV (13 eps)Oct 2022 -...   9.06       13   \n",
       "3      4  Gintama°TV (51 eps)Apr 2015 - Mar 2016605,113 ...   9.06       51   \n",
       "4      5  Shingeki no Kyojin Season 3 Part 2TV (10 eps)A...   9.05       10   \n",
       "5      6  Gintama'TV (51 eps)Apr 2011 - Mar 2012534,105 ...   9.04       51   \n",
       "6      7  Gintama: The FinalMovie (1 eps)Jan 2021 - Jan ...   9.04        1   \n",
       "7      8  Hunter x Hunter TV (148 eps)Oct 2011 - Sep 201...   9.04      148   \n",
       "8      9  Kaguya-sama wa Kokurasetai: Ultra RomanticTV (...   9.04       13   \n",
       "9     10  Gintama': EnchousenTV (13 eps)Oct 2012 - Mar 2...   9.03       13   \n",
       "10    11  Shingeki no Kyojin: The Final Season - Kankets...   9.03        2   \n",
       "11    12  Ginga Eiyuu DensetsuOVA (110 eps)Jan 1988 - Ma...   9.02      110   \n",
       "12    13  Bleach: Sennen Kessen-hen - Ketsubetsu-tanTV (...   8.99       13   \n",
       "13    14  Fruits Basket: The FinalTV (13 eps)Apr 2021 - ...   8.99       13   \n",
       "14    15  Gintama.TV (12 eps)Jan 2017 - Mar 2017302,232 ...   8.98       12   \n",
       "15    16  GintamaTV (201 eps)Apr 2006 - Mar 20101,034,41...   8.94      201   \n",
       "16    17  Koe no KatachiMovie (1 eps)Sep 2016 - Sep 2016...   8.94        1   \n",
       "17    18  3-gatsu no Lion 2nd SeasonTV (22 eps)Oct 2017 ...   8.93       22   \n",
       "18    19  Clannad: After StoryTV (24 eps)Oct 2008 - Mar ...   8.93       24   \n",
       "19    20  Code Geass: Hangyaku no Lelouch R2TV (25 eps)A...   8.91       25   \n",
       "20    21  Gintama Movie 2: Kanketsu-hen - Yorozuya yo Ei...   8.91        1   \n",
       "21    22  Violet Evergarden MovieMovie (1 eps)Sep 2020 -...   8.89        1   \n",
       "22    23  Owarimonogatari 2nd SeasonTV (7 eps)Aug 2017 -...   8.88        7   \n",
       "23    24  Gintama.: Shirogane no Tamashii-hen - Kouhan-s...   8.88       14   \n",
       "24    25  MonsterTV (74 eps)Apr 2004 - Sep 20051,041,081...   8.87       74   \n",
       "25    26  Kimi no Na wa.Movie (1 eps)Aug 2016 - Aug 2016...   8.84        1   \n",
       "26    27  Kaguya-sama wa Kokurasetai: First Kiss wa Owar...   8.84        1   \n",
       "27    28  Bocchi the Rock!TV (12 eps)Oct 2022 - Dec 2022...   8.83       12   \n",
       "28    29  The First Slam DunkMovie (1 eps)Dec 2022 - Dec...   8.83        1   \n",
       "29    30  Vinland Saga Season 2TV (24 eps)Jan 2023 - Jun...   8.82       24   \n",
       "30    31  Jujutsu Kaisen 2nd SeasonTV (23 eps)Jul 2023 -...   8.82       23   \n",
       "31    32  Gintama.: Shirogane no Tamashii-henTV (12 eps)...   8.81       12   \n",
       "32    33  Kingdom 3rd SeasonTV (26 eps)Apr 2020 - Oct 20...   8.81       26   \n",
       "33    34  Mob Psycho 100 IITV (13 eps)Jan 2019 - Apr 201...   8.80       13   \n",
       "34    35  Shingeki no Kyojin: The Final SeasonTV (16 eps...   8.80       16   \n",
       "35    36  Kimetsu no Yaiba: Yuukaku-henTV (11 eps)Dec 20...   8.79       11   \n",
       "36    37  Kizumonogatari III: Reiketsu-henMovie (1 eps)J...   8.79        1   \n",
       "37    38  \"Oshi no Ko\"TV (11 eps)Apr 2023 - Jun 2023645,...   8.79       11   \n",
       "38    39  Haikyuu!! Karasuno Koukou vs. Shiratorizawa Ga...   8.78       10   \n",
       "39    40  Sen to Chihiro no KamikakushiMovie (1 eps)Jul ...   8.78        1   \n",
       "40    41  Monogatari Series: Second SeasonTV (26 eps)Jul...   8.77       26   \n",
       "41    42  Shingeki no Kyojin: The Final Season Part 2TV ...   8.77       12   \n",
       "42    43  Hajime no IppoTV (75 eps)Oct 2000 - Mar 200255...   8.76       75   \n",
       "43    44  Cowboy BebopTV (26 eps)Apr 1998 - Apr 19991,79...   8.75       26   \n",
       "44    45  Kingdom 4th SeasonTV (26 eps)Apr 2022 - Oct 20...   8.75       26   \n",
       "45    46  Vinland SagaTV (24 eps)Jul 2019 - Dec 20191,40...   8.74       24   \n",
       "46    47  Mushishi Zoku Shou 2nd SeasonTV (10 eps)Oct 20...   8.73       10   \n",
       "47    48  Shouwa Genroku Rakugo Shinjuu: Sukeroku Futata...   8.72       12   \n",
       "48    49  Mob Psycho 100 IIITV (12 eps)Oct 2022 - Dec 20...   8.71       12   \n",
       "49    50  Rurouni Kenshin: Meiji Kenkaku Romantan - Tsui...   8.71        4   \n",
       "\n",
       "             Total Time  Months  \n",
       "0   Apr 2009 - Jul 2010      16  \n",
       "1   Apr 2011 - Sep 2011       6  \n",
       "2   Oct 2022 - Dec 2022       3  \n",
       "3   Apr 2015 - Mar 2016      12  \n",
       "4   Apr 2019 - Jul 2019       4  \n",
       "5   Apr 2011 - Mar 2012      12  \n",
       "6   Jan 2021 - Jan 2021       1  \n",
       "7   Oct 2011 - Sep 2014      36  \n",
       "8   Apr 2022 - Jun 2022       3  \n",
       "9   Oct 2012 - Mar 2013       6  \n",
       "10  Mar 2023 - May 2023       3  \n",
       "11  Jan 1988 - Mar 1997     111  \n",
       "12  Jul 2023 - Aug 2023       2  \n",
       "13  Apr 2021 - Jun 2021       3  \n",
       "14  Jan 2017 - Mar 2017       3  \n",
       "15  Apr 2006 - Mar 2010      48  \n",
       "16  Sep 2016 - Sep 2016       1  \n",
       "17  Oct 2017 - Mar 2018       6  \n",
       "18  Oct 2008 - Mar 2009       6  \n",
       "19  Apr 2008 - Sep 2008       6  \n",
       "20  Jul 2013 - Jul 2013       1  \n",
       "21  Sep 2020 - Sep 2020       1  \n",
       "22  Aug 2017 - Aug 2017       1  \n",
       "23  Jul 2018 - Oct 2018       4  \n",
       "24  Apr 2004 - Sep 2005      18  \n",
       "25  Aug 2016 - Aug 2016       1  \n",
       "26  Dec 2022 - Dec 2022       1  \n",
       "27  Oct 2022 - Dec 2022       3  \n",
       "28  Dec 2022 - Dec 2022       1  \n",
       "29  Jan 2023 - Jun 2023       6  \n",
       "30  Jul 2023 - Aug 2023       2  \n",
       "31  Jan 2018 - Mar 2018       3  \n",
       "32  Apr 2020 - Oct 2021      19  \n",
       "33  Jan 2019 - Apr 2019       4  \n",
       "34  Dec 2020 - Mar 2021       4  \n",
       "35  Dec 2021 - Feb 2022       3  \n",
       "36  Jan 2017 - Jan 2017       1  \n",
       "37  Apr 2023 - Jun 2023       3  \n",
       "38  Oct 2016 - Dec 2016       3  \n",
       "39  Jul 2001 - Jul 2001       1  \n",
       "40  Jul 2013 - Dec 2013       6  \n",
       "41  Jan 2022 - Apr 2022       4  \n",
       "42  Oct 2000 - Mar 2002      18  \n",
       "43  Apr 1998 - Apr 1999      13  \n",
       "44  Apr 2022 - Oct 2022       7  \n",
       "45  Jul 2019 - Dec 2019       6  \n",
       "46  Oct 2014 - Dec 2014       3  \n",
       "47  Jan 2017 - Mar 2017       3  \n",
       "48  Oct 2022 - Dec 2022       3  \n",
       "49  Feb 1999 - Sep 1999       8  "
      ]
     },
     "execution_count": 56,
     "metadata": {},
     "output_type": "execute_result"
    }
   ],
   "source": [
    "# Function to calculate months difference\n",
    "def get_total_months(duration):\n",
    "    start_str, end_str = duration.split(' - ')\n",
    "    start_date = pd.to_datetime(start_str, format='%b %Y')\n",
    "    end_date = pd.to_datetime(end_str, format='%b %Y')\n",
    "    \n",
    "    # total months = (years difference * 12) + month difference\n",
    "    total_months = (end_date.year - start_date.year) * 12 + (end_date.month - start_date.month) + 1\n",
    "    return total_months\n",
    "\n",
    "# Apply function to the column\n",
    "df['Months'] = df['Total Time'].apply(get_total_months)\n",
    "\n",
    "df"
   ]
  },
  {
   "cell_type": "code",
   "execution_count": 57,
   "id": "03e1770c",
   "metadata": {},
   "outputs": [
    {
     "data": {
      "application/vnd.microsoft.datawrangler.viewer.v0+json": {
       "columns": [
        {
         "name": "index",
         "rawType": "int64",
         "type": "integer"
        },
        {
         "name": "Rank",
         "rawType": "int64",
         "type": "integer"
        },
        {
         "name": "Title",
         "rawType": "object",
         "type": "string"
        },
        {
         "name": "Score",
         "rawType": "float64",
         "type": "float"
        },
        {
         "name": "Episods",
         "rawType": "int64",
         "type": "integer"
        },
        {
         "name": "Total Time",
         "rawType": "object",
         "type": "string"
        },
        {
         "name": "Months",
         "rawType": "int64",
         "type": "integer"
        }
       ],
       "ref": "eb0937cf-6770-45ff-81bc-fc0ff8a72cbc",
       "rows": [
        [
         "0",
         "1",
         "Fullmetal Alchemist: BrotherhoodTV (64 eps)Apr 2009 - Jul 20103,218,472 membersManga StoreVolume 1€4.58Preview",
         "9.1",
         "64",
         "Apr 2009 - Jul 2010",
         "16"
        ]
       ],
       "shape": {
        "columns": 6,
        "rows": 1
       }
      },
      "text/html": [
       "<div>\n",
       "<style scoped>\n",
       "    .dataframe tbody tr th:only-of-type {\n",
       "        vertical-align: middle;\n",
       "    }\n",
       "\n",
       "    .dataframe tbody tr th {\n",
       "        vertical-align: top;\n",
       "    }\n",
       "\n",
       "    .dataframe thead th {\n",
       "        text-align: right;\n",
       "    }\n",
       "</style>\n",
       "<table border=\"1\" class=\"dataframe\">\n",
       "  <thead>\n",
       "    <tr style=\"text-align: right;\">\n",
       "      <th></th>\n",
       "      <th>Rank</th>\n",
       "      <th>Title</th>\n",
       "      <th>Score</th>\n",
       "      <th>Episods</th>\n",
       "      <th>Total Time</th>\n",
       "      <th>Months</th>\n",
       "    </tr>\n",
       "  </thead>\n",
       "  <tbody>\n",
       "    <tr>\n",
       "      <th>0</th>\n",
       "      <td>1</td>\n",
       "      <td>Fullmetal Alchemist: BrotherhoodTV (64 eps)Apr...</td>\n",
       "      <td>9.1</td>\n",
       "      <td>64</td>\n",
       "      <td>Apr 2009 - Jul 2010</td>\n",
       "      <td>16</td>\n",
       "    </tr>\n",
       "  </tbody>\n",
       "</table>\n",
       "</div>"
      ],
      "text/plain": [
       "   Rank                                              Title  Score  Episods  \\\n",
       "0     1  Fullmetal Alchemist: BrotherhoodTV (64 eps)Apr...    9.1       64   \n",
       "\n",
       "            Total Time  Months  \n",
       "0  Apr 2009 - Jul 2010      16  "
      ]
     },
     "execution_count": 57,
     "metadata": {},
     "output_type": "execute_result"
    }
   ],
   "source": [
    "# which anime has the highest score\n",
    "df[df['Score'] == df['Score'].max()]"
   ]
  },
  {
   "cell_type": "code",
   "execution_count": 58,
   "id": "53f077e4",
   "metadata": {},
   "outputs": [
    {
     "data": {
      "application/vnd.microsoft.datawrangler.viewer.v0+json": {
       "columns": [
        {
         "name": "index",
         "rawType": "int64",
         "type": "integer"
        },
        {
         "name": "Rank",
         "rawType": "int64",
         "type": "integer"
        },
        {
         "name": "Title",
         "rawType": "object",
         "type": "string"
        },
        {
         "name": "Score",
         "rawType": "float64",
         "type": "float"
        },
        {
         "name": "Episods",
         "rawType": "int64",
         "type": "integer"
        },
        {
         "name": "Total Time",
         "rawType": "object",
         "type": "string"
        },
        {
         "name": "Months",
         "rawType": "int64",
         "type": "integer"
        }
       ],
       "ref": "190010f8-75d2-4a8a-ada6-2e114314d069",
       "rows": [
        [
         "0",
         "1",
         "Fullmetal Alchemist: BrotherhoodTV (64 eps)Apr 2009 - Jul 20103,218,472 membersManga StoreVolume 1€4.58Preview",
         "9.1",
         "64",
         "Apr 2009 - Jul 2010",
         "16"
        ],
        [
         "1",
         "2",
         "Steins;GateTV (24 eps)Apr 2011 - Sep 20112,473,707 members",
         "9.07",
         "24",
         "Apr 2011 - Sep 2011",
         "6"
        ],
        [
         "2",
         "3",
         "Bleach: Sennen Kessen-henTV (13 eps)Oct 2022 - Dec 2022474,138 members",
         "9.06",
         "13",
         "Oct 2022 - Dec 2022",
         "3"
        ],
        [
         "3",
         "4",
         "Gintama°TV (51 eps)Apr 2015 - Mar 2016605,113 members",
         "9.06",
         "51",
         "Apr 2015 - Mar 2016",
         "12"
        ],
        [
         "4",
         "5",
         "Shingeki no Kyojin Season 3 Part 2TV (10 eps)Apr 2019 - Jul 20192,146,679 membersManga StoreVolume 1€10.99Preview",
         "9.05",
         "10",
         "Apr 2019 - Jul 2019",
         "4"
        ]
       ],
       "shape": {
        "columns": 6,
        "rows": 5
       }
      },
      "text/html": [
       "<div>\n",
       "<style scoped>\n",
       "    .dataframe tbody tr th:only-of-type {\n",
       "        vertical-align: middle;\n",
       "    }\n",
       "\n",
       "    .dataframe tbody tr th {\n",
       "        vertical-align: top;\n",
       "    }\n",
       "\n",
       "    .dataframe thead th {\n",
       "        text-align: right;\n",
       "    }\n",
       "</style>\n",
       "<table border=\"1\" class=\"dataframe\">\n",
       "  <thead>\n",
       "    <tr style=\"text-align: right;\">\n",
       "      <th></th>\n",
       "      <th>Rank</th>\n",
       "      <th>Title</th>\n",
       "      <th>Score</th>\n",
       "      <th>Episods</th>\n",
       "      <th>Total Time</th>\n",
       "      <th>Months</th>\n",
       "    </tr>\n",
       "  </thead>\n",
       "  <tbody>\n",
       "    <tr>\n",
       "      <th>0</th>\n",
       "      <td>1</td>\n",
       "      <td>Fullmetal Alchemist: BrotherhoodTV (64 eps)Apr...</td>\n",
       "      <td>9.10</td>\n",
       "      <td>64</td>\n",
       "      <td>Apr 2009 - Jul 2010</td>\n",
       "      <td>16</td>\n",
       "    </tr>\n",
       "    <tr>\n",
       "      <th>1</th>\n",
       "      <td>2</td>\n",
       "      <td>Steins;GateTV (24 eps)Apr 2011 - Sep 20112,473...</td>\n",
       "      <td>9.07</td>\n",
       "      <td>24</td>\n",
       "      <td>Apr 2011 - Sep 2011</td>\n",
       "      <td>6</td>\n",
       "    </tr>\n",
       "    <tr>\n",
       "      <th>2</th>\n",
       "      <td>3</td>\n",
       "      <td>Bleach: Sennen Kessen-henTV (13 eps)Oct 2022 -...</td>\n",
       "      <td>9.06</td>\n",
       "      <td>13</td>\n",
       "      <td>Oct 2022 - Dec 2022</td>\n",
       "      <td>3</td>\n",
       "    </tr>\n",
       "    <tr>\n",
       "      <th>3</th>\n",
       "      <td>4</td>\n",
       "      <td>Gintama°TV (51 eps)Apr 2015 - Mar 2016605,113 ...</td>\n",
       "      <td>9.06</td>\n",
       "      <td>51</td>\n",
       "      <td>Apr 2015 - Mar 2016</td>\n",
       "      <td>12</td>\n",
       "    </tr>\n",
       "    <tr>\n",
       "      <th>4</th>\n",
       "      <td>5</td>\n",
       "      <td>Shingeki no Kyojin Season 3 Part 2TV (10 eps)A...</td>\n",
       "      <td>9.05</td>\n",
       "      <td>10</td>\n",
       "      <td>Apr 2019 - Jul 2019</td>\n",
       "      <td>4</td>\n",
       "    </tr>\n",
       "  </tbody>\n",
       "</table>\n",
       "</div>"
      ],
      "text/plain": [
       "   Rank                                              Title  Score  Episods  \\\n",
       "0     1  Fullmetal Alchemist: BrotherhoodTV (64 eps)Apr...   9.10       64   \n",
       "1     2  Steins;GateTV (24 eps)Apr 2011 - Sep 20112,473...   9.07       24   \n",
       "2     3  Bleach: Sennen Kessen-henTV (13 eps)Oct 2022 -...   9.06       13   \n",
       "3     4  Gintama°TV (51 eps)Apr 2015 - Mar 2016605,113 ...   9.06       51   \n",
       "4     5  Shingeki no Kyojin Season 3 Part 2TV (10 eps)A...   9.05       10   \n",
       "\n",
       "            Total Time  Months  \n",
       "0  Apr 2009 - Jul 2010      16  \n",
       "1  Apr 2011 - Sep 2011       6  \n",
       "2  Oct 2022 - Dec 2022       3  \n",
       "3  Apr 2015 - Mar 2016      12  \n",
       "4  Apr 2019 - Jul 2019       4  "
      ]
     },
     "execution_count": 58,
     "metadata": {},
     "output_type": "execute_result"
    }
   ],
   "source": [
    "# top 5 highest scored anime\n",
    "df.nlargest(5, 'Score')"
   ]
  },
  {
   "cell_type": "code",
   "execution_count": 59,
   "id": "ef4f9a55",
   "metadata": {},
   "outputs": [
    {
     "data": {
      "application/vnd.microsoft.datawrangler.viewer.v0+json": {
       "columns": [
        {
         "name": "index",
         "rawType": "int64",
         "type": "integer"
        },
        {
         "name": "Rank",
         "rawType": "int64",
         "type": "integer"
        },
        {
         "name": "Title",
         "rawType": "object",
         "type": "string"
        },
        {
         "name": "Score",
         "rawType": "float64",
         "type": "float"
        },
        {
         "name": "Episods",
         "rawType": "int64",
         "type": "integer"
        },
        {
         "name": "Total Time",
         "rawType": "object",
         "type": "string"
        },
        {
         "name": "Months",
         "rawType": "int64",
         "type": "integer"
        }
       ],
       "ref": "47d49189-37f7-49dc-92b2-3e3e3ef643cd",
       "rows": [
        [
         "15",
         "16",
         "GintamaTV (201 eps)Apr 2006 - Mar 20101,034,418 members",
         "8.94",
         "201",
         "Apr 2006 - Mar 2010",
         "48"
        ]
       ],
       "shape": {
        "columns": 6,
        "rows": 1
       }
      },
      "text/html": [
       "<div>\n",
       "<style scoped>\n",
       "    .dataframe tbody tr th:only-of-type {\n",
       "        vertical-align: middle;\n",
       "    }\n",
       "\n",
       "    .dataframe tbody tr th {\n",
       "        vertical-align: top;\n",
       "    }\n",
       "\n",
       "    .dataframe thead th {\n",
       "        text-align: right;\n",
       "    }\n",
       "</style>\n",
       "<table border=\"1\" class=\"dataframe\">\n",
       "  <thead>\n",
       "    <tr style=\"text-align: right;\">\n",
       "      <th></th>\n",
       "      <th>Rank</th>\n",
       "      <th>Title</th>\n",
       "      <th>Score</th>\n",
       "      <th>Episods</th>\n",
       "      <th>Total Time</th>\n",
       "      <th>Months</th>\n",
       "    </tr>\n",
       "  </thead>\n",
       "  <tbody>\n",
       "    <tr>\n",
       "      <th>15</th>\n",
       "      <td>16</td>\n",
       "      <td>GintamaTV (201 eps)Apr 2006 - Mar 20101,034,41...</td>\n",
       "      <td>8.94</td>\n",
       "      <td>201</td>\n",
       "      <td>Apr 2006 - Mar 2010</td>\n",
       "      <td>48</td>\n",
       "    </tr>\n",
       "  </tbody>\n",
       "</table>\n",
       "</div>"
      ],
      "text/plain": [
       "    Rank                                              Title  Score  Episods  \\\n",
       "15    16  GintamaTV (201 eps)Apr 2006 - Mar 20101,034,41...   8.94      201   \n",
       "\n",
       "             Total Time  Months  \n",
       "15  Apr 2006 - Mar 2010      48  "
      ]
     },
     "execution_count": 59,
     "metadata": {},
     "output_type": "execute_result"
    }
   ],
   "source": [
    "# whcich anime has the highest episods count\n",
    "df[df['Episods'] == df['Episods'].max()]"
   ]
  },
  {
   "cell_type": "code",
   "execution_count": 60,
   "id": "193b7fdf",
   "metadata": {},
   "outputs": [
    {
     "data": {
      "application/vnd.microsoft.datawrangler.viewer.v0+json": {
       "columns": [
        {
         "name": "index",
         "rawType": "int64",
         "type": "integer"
        },
        {
         "name": "Rank",
         "rawType": "int64",
         "type": "integer"
        },
        {
         "name": "Title",
         "rawType": "object",
         "type": "string"
        },
        {
         "name": "Score",
         "rawType": "float64",
         "type": "float"
        },
        {
         "name": "Episods",
         "rawType": "int64",
         "type": "integer"
        },
        {
         "name": "Total Time",
         "rawType": "object",
         "type": "string"
        },
        {
         "name": "Months",
         "rawType": "int64",
         "type": "integer"
        }
       ],
       "ref": "c6aebf23-14d5-4ee1-b31d-3a1e0702897d",
       "rows": [
        [
         "15",
         "16",
         "GintamaTV (201 eps)Apr 2006 - Mar 20101,034,418 members",
         "8.94",
         "201",
         "Apr 2006 - Mar 2010",
         "48"
        ],
        [
         "7",
         "8",
         "Hunter x Hunter TV (148 eps)Oct 2011 - Sep 20142,701,154 members",
         "9.04",
         "148",
         "Oct 2011 - Sep 2014",
         "36"
        ],
        [
         "11",
         "12",
         "Ginga Eiyuu DensetsuOVA (110 eps)Jan 1988 - Mar 1997309,193 members",
         "9.02",
         "110",
         "Jan 1988 - Mar 1997",
         "111"
        ],
        [
         "42",
         "43",
         "Hajime no IppoTV (75 eps)Oct 2000 - Mar 2002558,435 members",
         "8.76",
         "75",
         "Oct 2000 - Mar 2002",
         "18"
        ],
        [
         "24",
         "25",
         "MonsterTV (74 eps)Apr 2004 - Sep 20051,041,081 members",
         "8.87",
         "74",
         "Apr 2004 - Sep 2005",
         "18"
        ]
       ],
       "shape": {
        "columns": 6,
        "rows": 5
       }
      },
      "text/html": [
       "<div>\n",
       "<style scoped>\n",
       "    .dataframe tbody tr th:only-of-type {\n",
       "        vertical-align: middle;\n",
       "    }\n",
       "\n",
       "    .dataframe tbody tr th {\n",
       "        vertical-align: top;\n",
       "    }\n",
       "\n",
       "    .dataframe thead th {\n",
       "        text-align: right;\n",
       "    }\n",
       "</style>\n",
       "<table border=\"1\" class=\"dataframe\">\n",
       "  <thead>\n",
       "    <tr style=\"text-align: right;\">\n",
       "      <th></th>\n",
       "      <th>Rank</th>\n",
       "      <th>Title</th>\n",
       "      <th>Score</th>\n",
       "      <th>Episods</th>\n",
       "      <th>Total Time</th>\n",
       "      <th>Months</th>\n",
       "    </tr>\n",
       "  </thead>\n",
       "  <tbody>\n",
       "    <tr>\n",
       "      <th>15</th>\n",
       "      <td>16</td>\n",
       "      <td>GintamaTV (201 eps)Apr 2006 - Mar 20101,034,41...</td>\n",
       "      <td>8.94</td>\n",
       "      <td>201</td>\n",
       "      <td>Apr 2006 - Mar 2010</td>\n",
       "      <td>48</td>\n",
       "    </tr>\n",
       "    <tr>\n",
       "      <th>7</th>\n",
       "      <td>8</td>\n",
       "      <td>Hunter x Hunter TV (148 eps)Oct 2011 - Sep 201...</td>\n",
       "      <td>9.04</td>\n",
       "      <td>148</td>\n",
       "      <td>Oct 2011 - Sep 2014</td>\n",
       "      <td>36</td>\n",
       "    </tr>\n",
       "    <tr>\n",
       "      <th>11</th>\n",
       "      <td>12</td>\n",
       "      <td>Ginga Eiyuu DensetsuOVA (110 eps)Jan 1988 - Ma...</td>\n",
       "      <td>9.02</td>\n",
       "      <td>110</td>\n",
       "      <td>Jan 1988 - Mar 1997</td>\n",
       "      <td>111</td>\n",
       "    </tr>\n",
       "    <tr>\n",
       "      <th>42</th>\n",
       "      <td>43</td>\n",
       "      <td>Hajime no IppoTV (75 eps)Oct 2000 - Mar 200255...</td>\n",
       "      <td>8.76</td>\n",
       "      <td>75</td>\n",
       "      <td>Oct 2000 - Mar 2002</td>\n",
       "      <td>18</td>\n",
       "    </tr>\n",
       "    <tr>\n",
       "      <th>24</th>\n",
       "      <td>25</td>\n",
       "      <td>MonsterTV (74 eps)Apr 2004 - Sep 20051,041,081...</td>\n",
       "      <td>8.87</td>\n",
       "      <td>74</td>\n",
       "      <td>Apr 2004 - Sep 2005</td>\n",
       "      <td>18</td>\n",
       "    </tr>\n",
       "  </tbody>\n",
       "</table>\n",
       "</div>"
      ],
      "text/plain": [
       "    Rank                                              Title  Score  Episods  \\\n",
       "15    16  GintamaTV (201 eps)Apr 2006 - Mar 20101,034,41...   8.94      201   \n",
       "7      8  Hunter x Hunter TV (148 eps)Oct 2011 - Sep 201...   9.04      148   \n",
       "11    12  Ginga Eiyuu DensetsuOVA (110 eps)Jan 1988 - Ma...   9.02      110   \n",
       "42    43  Hajime no IppoTV (75 eps)Oct 2000 - Mar 200255...   8.76       75   \n",
       "24    25  MonsterTV (74 eps)Apr 2004 - Sep 20051,041,081...   8.87       74   \n",
       "\n",
       "             Total Time  Months  \n",
       "15  Apr 2006 - Mar 2010      48  \n",
       "7   Oct 2011 - Sep 2014      36  \n",
       "11  Jan 1988 - Mar 1997     111  \n",
       "42  Oct 2000 - Mar 2002      18  \n",
       "24  Apr 2004 - Sep 2005      18  "
      ]
     },
     "execution_count": 60,
     "metadata": {},
     "output_type": "execute_result"
    }
   ],
   "source": [
    "# animes with top 5 eposods count\n",
    "df.nlargest(5, 'Episods')"
   ]
  },
  {
   "cell_type": "code",
   "execution_count": 62,
   "id": "6b30e54c",
   "metadata": {},
   "outputs": [
    {
     "data": {
      "application/vnd.microsoft.datawrangler.viewer.v0+json": {
       "columns": [
        {
         "name": "index",
         "rawType": "int64",
         "type": "integer"
        },
        {
         "name": "Rank",
         "rawType": "int64",
         "type": "integer"
        },
        {
         "name": "Title",
         "rawType": "object",
         "type": "string"
        },
        {
         "name": "Score",
         "rawType": "float64",
         "type": "float"
        },
        {
         "name": "Episods",
         "rawType": "int64",
         "type": "integer"
        },
        {
         "name": "Total Time",
         "rawType": "object",
         "type": "string"
        },
        {
         "name": "Months",
         "rawType": "int64",
         "type": "integer"
        }
       ],
       "ref": "fa9991dc-2b5f-4d14-8138-8321edf8addb",
       "rows": [
        [
         "11",
         "12",
         "Ginga Eiyuu DensetsuOVA (110 eps)Jan 1988 - Mar 1997309,193 members",
         "9.02",
         "110",
         "Jan 1988 - Mar 1997",
         "111"
        ]
       ],
       "shape": {
        "columns": 6,
        "rows": 1
       }
      },
      "text/html": [
       "<div>\n",
       "<style scoped>\n",
       "    .dataframe tbody tr th:only-of-type {\n",
       "        vertical-align: middle;\n",
       "    }\n",
       "\n",
       "    .dataframe tbody tr th {\n",
       "        vertical-align: top;\n",
       "    }\n",
       "\n",
       "    .dataframe thead th {\n",
       "        text-align: right;\n",
       "    }\n",
       "</style>\n",
       "<table border=\"1\" class=\"dataframe\">\n",
       "  <thead>\n",
       "    <tr style=\"text-align: right;\">\n",
       "      <th></th>\n",
       "      <th>Rank</th>\n",
       "      <th>Title</th>\n",
       "      <th>Score</th>\n",
       "      <th>Episods</th>\n",
       "      <th>Total Time</th>\n",
       "      <th>Months</th>\n",
       "    </tr>\n",
       "  </thead>\n",
       "  <tbody>\n",
       "    <tr>\n",
       "      <th>11</th>\n",
       "      <td>12</td>\n",
       "      <td>Ginga Eiyuu DensetsuOVA (110 eps)Jan 1988 - Ma...</td>\n",
       "      <td>9.02</td>\n",
       "      <td>110</td>\n",
       "      <td>Jan 1988 - Mar 1997</td>\n",
       "      <td>111</td>\n",
       "    </tr>\n",
       "  </tbody>\n",
       "</table>\n",
       "</div>"
      ],
      "text/plain": [
       "    Rank                                              Title  Score  Episods  \\\n",
       "11    12  Ginga Eiyuu DensetsuOVA (110 eps)Jan 1988 - Ma...   9.02      110   \n",
       "\n",
       "             Total Time  Months  \n",
       "11  Jan 1988 - Mar 1997     111  "
      ]
     },
     "execution_count": 62,
     "metadata": {},
     "output_type": "execute_result"
    }
   ],
   "source": [
    "# whcih is the longest running anime\n",
    "df[df['Months'] == df['Months'].max()]"
   ]
  },
  {
   "cell_type": "code",
   "execution_count": null,
   "id": "5b151166",
   "metadata": {},
   "outputs": [],
   "source": []
  }
 ],
 "metadata": {
  "kernelspec": {
   "display_name": "Python 3",
   "language": "python",
   "name": "python3"
  },
  "language_info": {
   "codemirror_mode": {
    "name": "ipython",
    "version": 3
   },
   "file_extension": ".py",
   "mimetype": "text/x-python",
   "name": "python",
   "nbconvert_exporter": "python",
   "pygments_lexer": "ipython3",
   "version": "3.13.7"
  }
 },
 "nbformat": 4,
 "nbformat_minor": 5
}
