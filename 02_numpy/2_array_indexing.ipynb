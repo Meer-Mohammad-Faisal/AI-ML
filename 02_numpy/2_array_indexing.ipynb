{
 "cells": [
  {
   "cell_type": "code",
   "execution_count": 1,
   "id": "8c3eecae",
   "metadata": {},
   "outputs": [],
   "source": [
    "import numpy as np"
   ]
  },
  {
   "cell_type": "markdown",
   "id": "9152dfa0",
   "metadata": {},
   "source": [
    "NUMPY INDEXING AND SLICING OF VECTORS"
   ]
  },
  {
   "cell_type": "code",
   "execution_count": 3,
   "id": "5431ce23",
   "metadata": {},
   "outputs": [
    {
     "data": {
      "text/plain": [
       "array([11, 12, 13, 14, 15, 16, 17, 18, 19, 20])"
      ]
     },
     "execution_count": 3,
     "metadata": {},
     "output_type": "execute_result"
    }
   ],
   "source": [
    "arr = np.arange(11,21)\n",
    "arr"
   ]
  },
  {
   "cell_type": "code",
   "execution_count": 4,
   "id": "ab18d070",
   "metadata": {},
   "outputs": [
    {
     "data": {
      "text/plain": [
       "np.int64(17)"
      ]
     },
     "execution_count": 4,
     "metadata": {},
     "output_type": "execute_result"
    }
   ],
   "source": [
    "arr[6]"
   ]
  },
  {
   "cell_type": "code",
   "execution_count": 5,
   "id": "0d62f1ae",
   "metadata": {},
   "outputs": [
    {
     "data": {
      "text/plain": [
       "np.int64(20)"
      ]
     },
     "execution_count": 5,
     "metadata": {},
     "output_type": "execute_result"
    }
   ],
   "source": [
    "arr[9]"
   ]
  },
  {
   "cell_type": "code",
   "execution_count": 7,
   "id": "5d926da4",
   "metadata": {},
   "outputs": [
    {
     "data": {
      "text/plain": [
       "array([12, 13, 14, 15])"
      ]
     },
     "execution_count": 7,
     "metadata": {},
     "output_type": "execute_result"
    }
   ],
   "source": [
    "arr[1:5]"
   ]
  },
  {
   "cell_type": "code",
   "execution_count": 10,
   "id": "c060f942",
   "metadata": {},
   "outputs": [
    {
     "data": {
      "text/plain": [
       "array([11, 12, 13])"
      ]
     },
     "execution_count": 10,
     "metadata": {},
     "output_type": "execute_result"
    }
   ],
   "source": [
    "arr[:3] #  default 0 to 3"
   ]
  },
  {
   "cell_type": "code",
   "execution_count": 11,
   "id": "f15ccea4",
   "metadata": {},
   "outputs": [
    {
     "data": {
      "text/plain": [
       "array([11, 12, 13, 14, 15, 16, 17, 18, 19, 20])"
      ]
     },
     "execution_count": 11,
     "metadata": {},
     "output_type": "execute_result"
    }
   ],
   "source": [
    "arr[:] # default 0 to end"
   ]
  },
  {
   "cell_type": "code",
   "execution_count": 14,
   "id": "d42c8f21",
   "metadata": {},
   "outputs": [
    {
     "data": {
      "text/plain": [
       "array([14, 16, 18, 20])"
      ]
     },
     "execution_count": 14,
     "metadata": {},
     "output_type": "execute_result"
    }
   ],
   "source": [
    "arr_slice = arr[3::2] # from index 3 to end with step size 2\n",
    "arr_slice"
   ]
  },
  {
   "cell_type": "markdown",
   "id": "10355929",
   "metadata": {},
   "source": [
    "NUMPY INDEXING AND SLICING"
   ]
  },
  {
   "cell_type": "code",
   "execution_count": 17,
   "id": "d662aa29",
   "metadata": {},
   "outputs": [
    {
     "data": {
      "text/plain": [
       "array([[ 1,  2,  3,  4,  5],\n",
       "       [ 6,  7,  8,  9, 10],\n",
       "       [11, 12, 13, 14, 15],\n",
       "       [16, 17, 18, 19, 20],\n",
       "       [21, 22, 23, 24, 25],\n",
       "       [26, 27, 28, 29, 30]])"
      ]
     },
     "execution_count": 17,
     "metadata": {},
     "output_type": "execute_result"
    }
   ],
   "source": [
    "arr = np.arange(1,31).reshape(6,5)\n",
    "arr"
   ]
  },
  {
   "cell_type": "code",
   "execution_count": null,
   "id": "76059f3f",
   "metadata": {},
   "outputs": [
    {
     "data": {
      "text/plain": [
       "array([11, 12, 13, 14, 15])"
      ]
     },
     "execution_count": 18,
     "metadata": {},
     "output_type": "execute_result"
    }
   ],
   "source": [
    "arr[2] # 2nd row"
   ]
  },
  {
   "cell_type": "code",
   "execution_count": null,
   "id": "e40af1ce",
   "metadata": {},
   "outputs": [
    {
     "data": {
      "text/plain": [
       "np.int64(29)"
      ]
     },
     "execution_count": 19,
     "metadata": {},
     "output_type": "execute_result"
    }
   ],
   "source": [
    "arr[5][3] # element at 5th row and 3rd column"
   ]
  },
  {
   "cell_type": "code",
   "execution_count": 20,
   "id": "1f469d34",
   "metadata": {},
   "outputs": [
    {
     "data": {
      "text/plain": [
       "np.int64(1)"
      ]
     },
     "execution_count": 20,
     "metadata": {},
     "output_type": "execute_result"
    }
   ],
   "source": [
    "arr[0,0]"
   ]
  },
  {
   "cell_type": "code",
   "execution_count": 21,
   "id": "fea05ead",
   "metadata": {},
   "outputs": [
    {
     "data": {
      "text/plain": [
       "np.int64(1)"
      ]
     },
     "execution_count": 21,
     "metadata": {},
     "output_type": "execute_result"
    }
   ],
   "source": [
    "arr[0][0]"
   ]
  },
  {
   "cell_type": "code",
   "execution_count": 24,
   "id": "c6b05f80",
   "metadata": {},
   "outputs": [
    {
     "data": {
      "text/plain": [
       "array([[2, 3],\n",
       "       [7, 8]])"
      ]
     },
     "execution_count": 24,
     "metadata": {},
     "output_type": "execute_result"
    }
   ],
   "source": [
    "slice = arr[0:2, 1:3] # rows 0 and 1, columns 1 and 2\n",
    "slice"
   ]
  },
  {
   "cell_type": "code",
   "execution_count": 25,
   "id": "a01cf307",
   "metadata": {},
   "outputs": [
    {
     "data": {
      "text/plain": [
       "array([[19, 20],\n",
       "       [24, 25],\n",
       "       [29, 30]])"
      ]
     },
     "execution_count": 25,
     "metadata": {},
     "output_type": "execute_result"
    }
   ],
   "source": [
    "arr[3:6, 3:5] # rows 3 to 5, columns 3 to 4"
   ]
  },
  {
   "cell_type": "code",
   "execution_count": 26,
   "id": "59535955",
   "metadata": {},
   "outputs": [
    {
     "data": {
      "text/plain": [
       "array([[18, 19, 20],\n",
       "       [23, 24, 25],\n",
       "       [28, 29, 30]])"
      ]
     },
     "execution_count": 26,
     "metadata": {},
     "output_type": "execute_result"
    }
   ],
   "source": [
    "arr[3:, 2:] # rows 3 to end, columns 2 to end"
   ]
  },
  {
   "cell_type": "code",
   "execution_count": 27,
   "id": "1e012363",
   "metadata": {},
   "outputs": [
    {
     "data": {
      "text/plain": [
       "array([[ 1,  2,  3,  4,  5],\n",
       "       [ 6,  7,  8,  9, 10],\n",
       "       [11, 12, 13, 14, 15]])"
      ]
     },
     "execution_count": 27,
     "metadata": {},
     "output_type": "execute_result"
    }
   ],
   "source": [
    "arr[:3] #first three elements"
   ]
  },
  {
   "cell_type": "code",
   "execution_count": null,
   "id": "38d0e817",
   "metadata": {},
   "outputs": [
    {
     "data": {
      "text/plain": [
       "array([ 3,  8, 13, 18, 23, 28])"
      ]
     },
     "execution_count": 28,
     "metadata": {},
     "output_type": "execute_result"
    }
   ],
   "source": [
    "arr[:,2] #  2nd column"
   ]
  },
  {
   "cell_type": "markdown",
   "id": "8e169ef5",
   "metadata": {},
   "source": [
    "Boolean indexing"
   ]
  },
  {
   "cell_type": "code",
   "execution_count": 33,
   "id": "d32e48ec",
   "metadata": {},
   "outputs": [
    {
     "data": {
      "text/plain": [
       "array([11, 12, 13, 14, 15, 16, 17, 18, 19, 20])"
      ]
     },
     "execution_count": 33,
     "metadata": {},
     "output_type": "execute_result"
    }
   ],
   "source": [
    "arr = np.arange(11,21)\n",
    "arr"
   ]
  },
  {
   "cell_type": "code",
   "execution_count": 34,
   "id": "163a8519",
   "metadata": {},
   "outputs": [
    {
     "data": {
      "text/plain": [
       "array([False,  True, False,  True, False,  True, False,  True, False,\n",
       "        True])"
      ]
     },
     "execution_count": 34,
     "metadata": {},
     "output_type": "execute_result"
    }
   ],
   "source": [
    "bool_index = arr %2 == 0\n",
    "bool_index"
   ]
  },
  {
   "cell_type": "code",
   "execution_count": 35,
   "id": "3ba76a6b",
   "metadata": {},
   "outputs": [
    {
     "data": {
      "text/plain": [
       "array([12, 14, 16, 18, 20])"
      ]
     },
     "execution_count": 35,
     "metadata": {},
     "output_type": "execute_result"
    }
   ],
   "source": [
    "arr = arr[bool_index]\n",
    "arr"
   ]
  },
  {
   "cell_type": "code",
   "execution_count": null,
   "id": "6486936c",
   "metadata": {},
   "outputs": [],
   "source": []
  }
 ],
 "metadata": {
  "kernelspec": {
   "display_name": "Python 3",
   "language": "python",
   "name": "python3"
  },
  "language_info": {
   "codemirror_mode": {
    "name": "ipython",
    "version": 3
   },
   "file_extension": ".py",
   "mimetype": "text/x-python",
   "name": "python",
   "nbconvert_exporter": "python",
   "pygments_lexer": "ipython3",
   "version": "3.13.7"
  }
 },
 "nbformat": 4,
 "nbformat_minor": 5
}
