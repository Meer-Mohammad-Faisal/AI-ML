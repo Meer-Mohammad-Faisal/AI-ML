{
 "cells": [
  {
   "cell_type": "markdown",
   "id": "296a7bae",
   "metadata": {},
   "source": [
    "ADVANCE ARRAY MANIPULATION"
   ]
  },
  {
   "cell_type": "markdown",
   "id": "9f236666",
   "metadata": {},
   "source": [
    "Stacking Array"
   ]
  },
  {
   "cell_type": "code",
   "execution_count": 6,
   "id": "05d1b1a8",
   "metadata": {},
   "outputs": [],
   "source": [
    "import numpy as np"
   ]
  },
  {
   "cell_type": "code",
   "execution_count": 10,
   "id": "73e9305b",
   "metadata": {},
   "outputs": [
    {
     "data": {
      "text/plain": [
       "array([[1, 2],\n",
       "       [4, 5]])"
      ]
     },
     "execution_count": 10,
     "metadata": {},
     "output_type": "execute_result"
    }
   ],
   "source": [
    "A = np.array([[1,2],[4,5]])\n",
    "B = np.array([[7,8],[10,11]])\n",
    "A"
   ]
  },
  {
   "cell_type": "code",
   "execution_count": 11,
   "id": "f685db5d",
   "metadata": {},
   "outputs": [
    {
     "data": {
      "text/plain": [
       "array([[ 7,  8],\n",
       "       [10, 11]])"
      ]
     },
     "execution_count": 11,
     "metadata": {},
     "output_type": "execute_result"
    }
   ],
   "source": [
    "B"
   ]
  },
  {
   "cell_type": "code",
   "execution_count": 13,
   "id": "577f4225",
   "metadata": {},
   "outputs": [
    {
     "data": {
      "text/plain": [
       "array([[ 1,  2],\n",
       "       [ 4,  5],\n",
       "       [ 7,  8],\n",
       "       [10, 11]])"
      ]
     },
     "execution_count": 13,
     "metadata": {},
     "output_type": "execute_result"
    }
   ],
   "source": [
    "#stacking array\n",
    "np.vstack((A,B)) # vertical stacking"
   ]
  },
  {
   "cell_type": "code",
   "execution_count": 14,
   "id": "5bd726f0",
   "metadata": {},
   "outputs": [
    {
     "data": {
      "text/plain": [
       "array([[ 1,  2,  7,  8],\n",
       "       [ 4,  5, 10, 11]])"
      ]
     },
     "execution_count": 14,
     "metadata": {},
     "output_type": "execute_result"
    }
   ],
   "source": [
    "np.hstack((A,B)) # horizontal stacking"
   ]
  },
  {
   "cell_type": "code",
   "execution_count": 15,
   "id": "0012c225",
   "metadata": {},
   "outputs": [
    {
     "data": {
      "text/plain": [
       "array([[ 1,  2,  7,  8],\n",
       "       [ 4,  5, 10, 11]])"
      ]
     },
     "execution_count": 15,
     "metadata": {},
     "output_type": "execute_result"
    }
   ],
   "source": [
    "np.column_stack((A,B)) # column wise stacking"
   ]
  },
  {
   "cell_type": "markdown",
   "id": "61bad12e",
   "metadata": {},
   "source": [
    "Spliting array"
   ]
  },
  {
   "cell_type": "code",
   "execution_count": 19,
   "id": "e489db45",
   "metadata": {},
   "outputs": [
    {
     "data": {
      "text/plain": [
       "array([[ 0,  1,  2,  3],\n",
       "       [ 4,  5,  6,  7],\n",
       "       [ 8,  9, 10, 11],\n",
       "       [12, 13, 14, 15]])"
      ]
     },
     "execution_count": 19,
     "metadata": {},
     "output_type": "execute_result"
    }
   ],
   "source": [
    "c = np.arange(16).reshape(4,4)\n",
    "c"
   ]
  },
  {
   "cell_type": "code",
   "execution_count": null,
   "id": "7aba96d5",
   "metadata": {},
   "outputs": [
    {
     "data": {
      "text/plain": [
       "[array([[ 0,  1],\n",
       "        [ 4,  5],\n",
       "        [ 8,  9],\n",
       "        [12, 13]]),\n",
       " array([[ 2,  3],\n",
       "        [ 6,  7],\n",
       "        [10, 11],\n",
       "        [14, 15]])]"
      ]
     },
     "execution_count": 20,
     "metadata": {},
     "output_type": "execute_result"
    }
   ],
   "source": [
    "np.hsplit(c,2) # horizontal splitting\n",
    "# we can't split if the number of columns is odd"
   ]
  },
  {
   "cell_type": "code",
   "execution_count": 21,
   "id": "e7adf59d",
   "metadata": {},
   "outputs": [
    {
     "data": {
      "text/plain": [
       "[array([[0, 1, 2, 3],\n",
       "        [4, 5, 6, 7]]),\n",
       " array([[ 8,  9, 10, 11],\n",
       "        [12, 13, 14, 15]])]"
      ]
     },
     "execution_count": 21,
     "metadata": {},
     "output_type": "execute_result"
    }
   ],
   "source": [
    "np.vsplit(c,2) # vertical splitting"
   ]
  },
  {
   "cell_type": "code",
   "execution_count": 28,
   "id": "a998bd80",
   "metadata": {},
   "outputs": [
    {
     "data": {
      "text/plain": [
       "[array([[0, 1, 2, 3]]),\n",
       " array([[4, 5, 6, 7]]),\n",
       " array([[ 8,  9, 10, 11]]),\n",
       " array([[12, 13, 14, 15]])]"
      ]
     },
     "execution_count": 28,
     "metadata": {},
     "output_type": "execute_result"
    }
   ],
   "source": [
    "a = np.vsplit(c,4) # vertical splitting into 4 parts\n",
    "a"
   ]
  },
  {
   "cell_type": "code",
   "execution_count": null,
   "id": "3d73b5d8",
   "metadata": {},
   "outputs": [
    {
     "data": {
      "text/plain": [
       "[array([[ 0],\n",
       "        [ 4],\n",
       "        [ 8],\n",
       "        [12]]),\n",
       " array([[ 1],\n",
       "        [ 5],\n",
       "        [ 9],\n",
       "        [13]]),\n",
       " array([[ 2],\n",
       "        [ 6],\n",
       "        [10],\n",
       "        [14]]),\n",
       " array([[ 3],\n",
       "        [ 7],\n",
       "        [11],\n",
       "        [15]])]"
      ]
     },
     "execution_count": 26,
     "metadata": {},
     "output_type": "execute_result"
    }
   ],
   "source": [
    "np.hsplit(c,4) # horizontal splitting into 4 parts  \n"
   ]
  },
  {
   "cell_type": "code",
   "execution_count": 29,
   "id": "368c5d3c",
   "metadata": {},
   "outputs": [
    {
     "name": "stdout",
     "output_type": "stream",
     "text": [
      "[[0 1 2 3]]\n",
      "[[4 5 6 7]]\n",
      "[[ 8  9 10 11]]\n",
      "[[12 13 14 15]]\n"
     ]
    }
   ],
   "source": [
    "for i in a:\n",
    "    print(i)"
   ]
  },
  {
   "cell_type": "code",
   "execution_count": null,
   "id": "4399c271",
   "metadata": {},
   "outputs": [],
   "source": []
  }
 ],
 "metadata": {
  "kernelspec": {
   "display_name": "Python 3",
   "language": "python",
   "name": "python3"
  },
  "language_info": {
   "codemirror_mode": {
    "name": "ipython",
    "version": 3
   },
   "file_extension": ".py",
   "mimetype": "text/x-python",
   "name": "python",
   "nbconvert_exporter": "python",
   "pygments_lexer": "ipython3",
   "version": "3.13.7"
  }
 },
 "nbformat": 4,
 "nbformat_minor": 5
}
