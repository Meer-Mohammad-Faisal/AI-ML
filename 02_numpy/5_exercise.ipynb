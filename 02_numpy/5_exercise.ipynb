{
 "cells": [
  {
   "cell_type": "markdown",
   "id": "2ca1615c",
   "metadata": {},
   "source": [
    "GENRAL QUESTION"
   ]
  },
  {
   "cell_type": "code",
   "execution_count": 41,
   "id": "b891ea4f",
   "metadata": {},
   "outputs": [],
   "source": [
    "#valid sudoku\n",
    "import numpy as np"
   ]
  },
  {
   "cell_type": "code",
   "execution_count": 42,
   "id": "66eaea2a",
   "metadata": {},
   "outputs": [],
   "source": [
    "s = np.array([\n",
    "    [5, 3, 4, 6, 7, 8, 9, 1, 2],\n",
    "    [6, 7, 2, 1, 9, 5, 3, 4, 8],\n",
    "    [1, 9, 8, 3, 4, 2, 5, 6, 7],\n",
    "    [8, 5, 9, 7, 6, 1, 4, 2, 3],\n",
    "    [4, 2, 6, 8, 5, 3, 7, 9, 1],\n",
    "    [7, 1, 3, 9, 2, 4, 8, 5, 6],\n",
    "    [9, 6, 1, 5, 3, 7, 2, 8, 4],\n",
    "    [2, 8, 7, 4, 1, 9, 6, 3, 5],\n",
    "    [3, 4, 5, 2, 8, 6, 1, 7, 9]\n",
    "])"
   ]
  },
  {
   "cell_type": "code",
   "execution_count": 43,
   "id": "4365fa95",
   "metadata": {},
   "outputs": [
    {
     "name": "stdout",
     "output_type": "stream",
     "text": [
      "for row it it is valid\n"
     ]
    }
   ],
   "source": [
    "b = np.sum(s, axis = 1)\n",
    "#b == 45\n",
    "for i in b:\n",
    "    if i != 45:\n",
    "        print(\"invalid sudoku\")\n",
    "        break\n",
    "else:\n",
    "    print(\"for row it it is valid\")"
   ]
  },
  {
   "cell_type": "code",
   "execution_count": 44,
   "id": "bbb8cbec",
   "metadata": {},
   "outputs": [
    {
     "name": "stdout",
     "output_type": "stream",
     "text": [
      "for columns it it is valid\n"
     ]
    }
   ],
   "source": [
    "c = np.sum(s, axis = 0)\n",
    "#b == 45\n",
    "for i in b:\n",
    "    if i != 45:\n",
    "        print(\"invalid sudoku\")\n",
    "        break\n",
    "else:\n",
    "    print(\"for columns it it is valid\")"
   ]
  },
  {
   "cell_type": "code",
   "execution_count": 45,
   "id": "3280dbd7",
   "metadata": {},
   "outputs": [
    {
     "data": {
      "text/plain": [
       "array([[5, 3, 4],\n",
       "       [6, 7, 2],\n",
       "       [1, 9, 8]])"
      ]
     },
     "execution_count": 45,
     "metadata": {},
     "output_type": "execute_result"
    }
   ],
   "source": [
    "s[0:3, 0:3] # first 3x3 matrix"
   ]
  },
  {
   "cell_type": "code",
   "execution_count": 46,
   "id": "8981a918",
   "metadata": {},
   "outputs": [
    {
     "data": {
      "text/plain": [
       "array([[6, 7, 8],\n",
       "       [1, 9, 5],\n",
       "       [3, 4, 2]])"
      ]
     },
     "execution_count": 46,
     "metadata": {},
     "output_type": "execute_result"
    }
   ],
   "source": [
    "s[0:3, 3:6] # second 3x3 matrix"
   ]
  },
  {
   "cell_type": "code",
   "execution_count": 47,
   "id": "ba36d792",
   "metadata": {},
   "outputs": [
    {
     "data": {
      "text/plain": [
       "array([[9, 1, 2],\n",
       "       [3, 4, 8],\n",
       "       [5, 6, 7]])"
      ]
     },
     "execution_count": 47,
     "metadata": {},
     "output_type": "execute_result"
    }
   ],
   "source": [
    "s[0:3, 6:9] # third 3x3 matrix"
   ]
  },
  {
   "cell_type": "code",
   "execution_count": 48,
   "id": "195b3c71",
   "metadata": {},
   "outputs": [
    {
     "name": "stdout",
     "output_type": "stream",
     "text": [
      "45\n",
      "45\n",
      "45\n",
      "45\n",
      "45\n",
      "45\n",
      "45\n",
      "45\n",
      "45\n"
     ]
    }
   ],
   "source": [
    "for i in range(0,9,3):\n",
    "    for j in range(0,9,3):\n",
    "        #print(s[i:i+3, j:j+3])\n",
    "        n = s[i:i+3, j:j+3]\n",
    "        print(n.sum())\n",
    "        "
   ]
  },
  {
   "cell_type": "code",
   "execution_count": 49,
   "id": "c268ac62",
   "metadata": {},
   "outputs": [],
   "source": [
    "import numpy as np\n",
    "# columns: [age, match marks, Science marks]\n",
    "data = np.array([\n",
    "    [18, 85, 78],\n",
    "    [19, 92, 88],\n",
    "    [17, 76, 95],\n",
    "    [18, 65, 70],\n",
    "    [20, 90, 85]\n",
    "])"
   ]
  },
  {
   "cell_type": "code",
   "execution_count": 50,
   "id": "aa06813a",
   "metadata": {},
   "outputs": [
    {
     "data": {
      "text/plain": [
       "(5, 3)"
      ]
     },
     "execution_count": 50,
     "metadata": {},
     "output_type": "execute_result"
    }
   ],
   "source": [
    "# Get the shape of the matrix\n",
    "data.shape"
   ]
  },
  {
   "cell_type": "code",
   "execution_count": 51,
   "id": "c6b263eb",
   "metadata": {},
   "outputs": [
    {
     "data": {
      "text/plain": [
       "np.float64(18.4)"
      ]
     },
     "execution_count": 51,
     "metadata": {},
     "output_type": "execute_result"
    }
   ],
   "source": [
    "# find the average age of students\n",
    "np.mean(data[:, 0])"
   ]
  },
  {
   "cell_type": "code",
   "execution_count": 52,
   "id": "bfee821d",
   "metadata": {},
   "outputs": [
    {
     "data": {
      "text/plain": [
       "array([85, 92, 76, 65, 90])"
      ]
     },
     "execution_count": 52,
     "metadata": {},
     "output_type": "execute_result"
    }
   ],
   "source": [
    "# extract the math marks\n",
    "data[:, 1]"
   ]
  },
  {
   "cell_type": "code",
   "execution_count": 53,
   "id": "4e2767e8",
   "metadata": {},
   "outputs": [
    {
     "data": {
      "text/plain": [
       "np.int64(95)"
      ]
     },
     "execution_count": 53,
     "metadata": {},
     "output_type": "execute_result"
    }
   ],
   "source": [
    "# find the heighst science marks\n",
    "np.max(data[:, 2])"
   ]
  },
  {
   "cell_type": "code",
   "execution_count": 54,
   "id": "88206118",
   "metadata": {},
   "outputs": [
    {
     "data": {
      "text/plain": [
       "array([[19, 92, 88]])"
      ]
     },
     "execution_count": 54,
     "metadata": {},
     "output_type": "execute_result"
    }
   ],
   "source": [
    "# Get details of students whose math marks is greater than 90\n",
    "data[data[:, 1] > 90]"
   ]
  },
  {
   "cell_type": "code",
   "execution_count": 55,
   "id": "c651b55f",
   "metadata": {},
   "outputs": [
    {
     "data": {
      "text/plain": [
       "array([90, 97, 81, 70, 95])"
      ]
     },
     "execution_count": 55,
     "metadata": {},
     "output_type": "execute_result"
    }
   ],
   "source": [
    "# increase the math marks by 5\n",
    "data[:, 1] + 5"
   ]
  },
  {
   "cell_type": "code",
   "execution_count": 56,
   "id": "626404c1",
   "metadata": {},
   "outputs": [
    {
     "data": {
      "text/plain": [
       "3"
      ]
     },
     "execution_count": 56,
     "metadata": {},
     "output_type": "execute_result"
    }
   ],
   "source": [
    "# find how many students are youngers than 19\n",
    "len(data[data[:, 0] < 19])"
   ]
  },
  {
   "cell_type": "code",
   "execution_count": 57,
   "id": "175a6470",
   "metadata": {},
   "outputs": [
    {
     "data": {
      "text/plain": [
       "array([81.6, 83.2])"
      ]
     },
     "execution_count": 57,
     "metadata": {},
     "output_type": "execute_result"
    }
   ],
   "source": [
    "# Calculate the average marks in each subject(in column wise)\n",
    "np.mean(data[:, 1:], axis=0)"
   ]
  },
  {
   "cell_type": "code",
   "execution_count": 58,
   "id": "a3018082",
   "metadata": {},
   "outputs": [
    {
     "data": {
      "text/plain": [
       "array([[19, 92, 88],\n",
       "       [20, 90, 85]])"
      ]
     },
     "execution_count": 58,
     "metadata": {},
     "output_type": "execute_result"
    }
   ],
   "source": [
    "# Get data of students who socred at least 80 in both subjects\n",
    "data[(data[:, 1] >= 80) & (data[:, 2] >= 80)]"
   ]
  },
  {
   "cell_type": "code",
   "execution_count": 59,
   "id": "b5f15d5f",
   "metadata": {},
   "outputs": [
    {
     "data": {
      "text/plain": [
       "array([[18, 85, 78],\n",
       "       [19, 92, 88],\n",
       "       [17, 76, 95],\n",
       "       [18, 65, 70],\n",
       "       [20, 90, 85]])"
      ]
     },
     "execution_count": 59,
     "metadata": {},
     "output_type": "execute_result"
    }
   ],
   "source": [
    "data"
   ]
  },
  {
   "cell_type": "code",
   "execution_count": 60,
   "id": "8164f5dc",
   "metadata": {},
   "outputs": [
    {
     "data": {
      "text/plain": [
       "array([[18, 85, 78],\n",
       "       [19, 92, 88],\n",
       "       [17, 76, 95],\n",
       "       [18, 65,  0],\n",
       "       [20, 90, 85]])"
      ]
     },
     "execution_count": 60,
     "metadata": {},
     "output_type": "execute_result"
    }
   ],
   "source": [
    "# Replace all Science marks less than 75 with 0\n",
    "data[:,2][data[:, 2] < 75] = 0\n",
    "data"
   ]
  },
  {
   "cell_type": "code",
   "execution_count": null,
   "id": "aa9edc1f",
   "metadata": {},
   "outputs": [],
   "source": []
  }
 ],
 "metadata": {
  "kernelspec": {
   "display_name": "Python 3",
   "language": "python",
   "name": "python3"
  },
  "language_info": {
   "codemirror_mode": {
    "name": "ipython",
    "version": 3
   },
   "file_extension": ".py",
   "mimetype": "text/x-python",
   "name": "python",
   "nbconvert_exporter": "python",
   "pygments_lexer": "ipython3",
   "version": "3.13.7"
  }
 },
 "nbformat": 4,
 "nbformat_minor": 5
}
